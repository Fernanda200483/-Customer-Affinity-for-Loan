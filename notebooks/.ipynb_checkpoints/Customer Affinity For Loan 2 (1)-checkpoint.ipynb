{
 "cells": [
  {
   "cell_type": "markdown",
   "id": "e5d087dc",
   "metadata": {},
   "source": [
    "# Customer affinity for loan"
   ]
  },
  {
   "cell_type": "markdown",
   "id": "5c277fbf",
   "metadata": {},
   "source": [
    "### indice\n",
    "* [ Intro](#1)\n",
    "    * [Presentación de la Empresa](#1.1)\n",
    "    * [Problema Específico](#1.1)\n",
    "    * [Preguntas y Objetivos de la Investigación ](#1.1)\n",
    "    * [Conformación del Equipo de Trabajo](#1.1)\n",
    "    * [Indicación de la Fuente del Dataset](#1.1)\n",
    "    * [Data Set Information](#1.1)\n",
    "    * [Attribute Information](#1.3)\n",
    "    * [Librerías](#1.1)\n",
    "    * [Read Dataset](#1.2)\n",
    "    <br>\n",
    "    <br>\n",
    "\n",
    "* [ Univariate Analysis](#1)\n",
    "    <br>\n",
    "    <br>\n",
    "    \n",
    "* [Bivariate Analysis](#2)\n",
    "\n",
    "    <br>\n",
    "    <br>\n",
    "\n",
    "* [Multivariate Analysis](#3)\n"
   ]
  },
  {
   "cell_type": "markdown",
   "id": "dee3f7a2",
   "metadata": {},
   "source": [
    "***"
   ]
  },
  {
   "cell_type": "markdown",
   "id": "8d0e451e",
   "metadata": {},
   "source": [
    "## Presentación de la Empresa <a class=\"anchor\" id=\"1.1\"></a>"
   ]
  },
  {
   "cell_type": "markdown",
   "id": "7ce23555",
   "metadata": {},
   "source": [
    "La empresa analizada corresponde a una Institución Bancaria Portuguesa,por lo que este Dataset está relacionado con campañas de marketing directo **(llamadas telefónicas)** de la misma."
   ]
  },
  {
   "cell_type": "markdown",
   "id": "06035f4e",
   "metadata": {},
   "source": [
    "## Problema Específico <a class=\"anchor\" id=\"1.1\"></a>"
   ]
  },
  {
   "cell_type": "markdown",
   "id": "f97e0261",
   "metadata": {},
   "source": [
    "El problema de negocio a resolver es predecir si el cliente suscribirá un depósito a plazo **(variable y)**."
   ]
  },
  {
   "cell_type": "markdown",
   "id": "1c6cdf3e",
   "metadata": {},
   "source": [
    "## Preguntas y Objetivos de la Investigación <a class=\"anchor\" id=\"1.1\"></a>"
   ]
  },
  {
   "cell_type": "markdown",
   "id": "3410e61c",
   "metadata": {},
   "source": [
    "- **¿Qué problema buscamos solucionar?**  \n",
    "\n",
    "    A partir de la Campaña de marketing intentamos entender los patrones de comportamiento de cada usuario para poder predecir si un futuro cliente va a acceder a un depósito a plaza fijo.\n",
    "    <br>\n",
    "    <br>\n",
    "- **¿Qué tipo de datos necesitamos para hacer el análisis?**  \n",
    "    \n",
    "    Para este caso de uso necesitamos data estructurada,en este caso es un archivo de texto plano .csv.\n",
    "    <br>\n",
    "    <br>\n",
    "- **¿Dónde puedo encontrar estos datos?**  \n",
    "\n",
    "    Esta data se puede encontrar en [enlace](https://www.kaggle.com/datasets/henriqueyamahata/bank-marketing)\n",
    "    <br>\n",
    "    <br>\n",
    "\n",
    "- **¿Estos datos existen?**  \n",
    "    Sí exiten.\n",
    "    <br>\n",
    "    <br>"
   ]
  },
  {
   "cell_type": "markdown",
   "id": "4a68defe",
   "metadata": {},
   "source": []
  },
  {
   "cell_type": "code",
   "execution_count": null,
   "id": "be481d09",
   "metadata": {},
   "outputs": [],
   "source": []
  },
  {
   "cell_type": "markdown",
   "id": "e897cef2",
   "metadata": {},
   "source": [
    "## Conformación del Equipo de Trabajo: <a class=\"anchor\" id=\"1.2\"></a>\n",
    "\n",
    "- Lucio Cravero\n",
    "- Maria Lopez\n",
    "- Carolina Manzano\n",
    "- Tomás Mendoza\n",
    "- Juan Yonatan Siancas Soto"
   ]
  },
  {
   "cell_type": "markdown",
   "id": "1bab1c9c",
   "metadata": {},
   "source": [
    "## Indicación de la Fuente del Dataset: <a class=\"anchor\" id=\"1.2\"></a>\n",
    "\n",
    "[link](https://www.kaggle.com/datasets/henriqueyamahata/bank-marketing)"
   ]
  },
  {
   "cell_type": "markdown",
   "id": "17fed525",
   "metadata": {},
   "source": [
    "## Criterio de selección: <a class=\"anchor\" id=\"1.2\"></a>\n",
    "\n",
    "Elegimos este dataset ya que cuenta con una gran cantidad de registros y datos que nos ayudarian para en un futuro poder entrenar un modelo de Machine Learning y utilizar Ensable methods."
   ]
  },
  {
   "cell_type": "markdown",
   "id": "4150804a",
   "metadata": {},
   "source": [
    "## Data Set Information: <a class=\"anchor\" id=\"1.2\"></a>"
   ]
  },
  {
   "cell_type": "markdown",
   "id": "945225fa",
   "metadata": {},
   "source": [
    "- Los datos están relacionados con campañas de marketing directo de una institución bancaria portuguesa. Las campañas de marketing se basaron en llamadas telefónicas. A menudo, se requería más de un contacto con el mismo cliente, para poder acceder a si el producto **(depósito a plazo bancario)** estaría **('sí')** o no **('no')** suscrito."
   ]
  },
  {
   "cell_type": "markdown",
   "id": "e4c0190b",
   "metadata": {},
   "source": [
    "## Attribute Information: <a class=\"anchor\" id=\"1.3\"></a>"
   ]
  },
  {
   "cell_type": "markdown",
   "id": "b16a1c55",
   "metadata": {},
   "source": [
    "- Bank client data:\n",
    "    ***\n",
    "    - **Age** (numeric)\n",
    "    - **Job :** type of job (categorical: 'admin.', 'blue-collar', 'entrepreneur', 'housemaid', 'management', 'retired', 'self-employed', 'services', 'student', 'technician', 'unemployed', 'unknown')\n",
    "    - **Marital :** marital status (categorical: 'divorced', 'married', 'single', 'unknown' ; note: 'divorced' means divorced or widowed)\n",
    "    - **Education** (categorical: 'basic.4y', 'basic.6y', 'basic.9y', 'high.school', 'illiterate', 'professional.course', 'university.degree', 'unknown')\n",
    "    - **Default:** has credit in default? (categorical: 'no', 'yes', 'unknown')\n",
    "    - **Housing:** has housing loan? (categorical: 'no', 'yes', 'unknown')\n",
    "    - **Loan:** has personal loan? (categorical: 'no', 'yes', 'unknown')\n",
    "    \n",
    "      <br>\n",
    "      <br>\n",
    "      <br>\n",
    "- Related with the last contact of the current campaign:\n",
    "    ***\n",
    "    - **Contact:** contact communication type (categorical:\n",
    "    'cellular','telephone')\n",
    "    Month: last contact month of year (categorical: 'jan', 'feb', 'mar',\n",
    "    …, 'nov', 'dec')\n",
    "    - **Dayofweek:** last contact day of the week (categorical:\n",
    "    'mon','tue','wed','thu','fri')\n",
    "    - **Duration:** last contact duration, in seconds (numeric). Important\n",
    "    note: this attribute highly affects the output target (e.g., if\n",
    "    duration=0 then y='no'). Yet, the duration is not known before a call\n",
    "    is performed. Also, after the end of the call y is obviously known.\n",
    "    Thus, this input should only be included for benchmark purposes and\n",
    "    should be discarded if the intention is to have a realistic\n",
    "    predictive model.\n",
    "    \n",
    "      <br>\n",
    "      <br>\n",
    "      <br>\n",
    "- Other attributes:\n",
    "    ***\n",
    "    - **Campaign:** number of contacts performed during this campaign and for\n",
    "    this client (numeric, includes last contact)\n",
    "    - **Pdays:** number of days that passed by after the client was last\n",
    "    contacted from a previous campaign (numeric; 999 means client was not\n",
    "    previously contacted)\n",
    "    Previous: number of contacts performed before this campaign and for\n",
    "    this client (numeric)\n",
    "    - **Poutcome:** outcome of the previous marketing campaign (categorical:\n",
    "    'failure','nonexistent','success')\n",
    "      <br>\n",
    "      <br>\n",
    "      <br>   \n",
    "- Social and economic context attributes\n",
    "    ***\n",
    "    - **Emp.var.rate:** employment variation rate - quarterly indicator\n",
    "    (numeric)\n",
    "    - **Cons.price.idx:** consumer price index - monthly indicator (numeric)\n",
    "    - **Cons.conf.idx:** consumer confidence index - monthly indicator\n",
    "    (numeric)\n",
    "    - **Euribor3m:** euribor 3 month rate - daily indicator (numeric)\n",
    "    - **Nr.employed:** number of employees - quarterly indicator (numeric)\n",
    "    \n",
    "      <br>\n",
    "      <br>\n",
    "      <br>\n",
    "- Output variable **(desired target)**:\n",
    "    ***\n",
    "    - **y** - has the client subscribed a term deposit? (binary: 'yes', 'no')"
   ]
  },
  {
   "cell_type": "markdown",
   "id": "179f8d80",
   "metadata": {},
   "source": [
    "## Librerías <a class=\"anchor\" id=\"1.1\"></a>"
   ]
  },
  {
   "cell_type": "code",
   "execution_count": 3,
   "id": "8b7a516e",
   "metadata": {},
   "outputs": [
    {
     "ename": "ModuleNotFoundError",
     "evalue": "No module named 'sklearn'",
     "output_type": "error",
     "traceback": [
      "\u001b[1;31m---------------------------------------------------------------------------\u001b[0m",
      "\u001b[1;31mModuleNotFoundError\u001b[0m                       Traceback (most recent call last)",
      "Input \u001b[1;32mIn [3]\u001b[0m, in \u001b[0;36m<cell line: 7>\u001b[1;34m()\u001b[0m\n\u001b[0;32m      5\u001b[0m \u001b[38;5;28;01mimport\u001b[39;00m \u001b[38;5;21;01mplotly\u001b[39;00m\u001b[38;5;21;01m.\u001b[39;00m\u001b[38;5;21;01mexpress\u001b[39;00m \u001b[38;5;28;01mas\u001b[39;00m \u001b[38;5;21;01mpx\u001b[39;00m\n\u001b[0;32m      6\u001b[0m \u001b[38;5;28;01mimport\u001b[39;00m \u001b[38;5;21;01mplotly\u001b[39;00m\u001b[38;5;21;01m.\u001b[39;00m\u001b[38;5;21;01mgraph_objects\u001b[39;00m \u001b[38;5;28;01mas\u001b[39;00m \u001b[38;5;21;01mgo\u001b[39;00m\n\u001b[1;32m----> 7\u001b[0m \u001b[38;5;28;01mfrom\u001b[39;00m \u001b[38;5;21;01msklearn\u001b[39;00m \u001b[38;5;28;01mimport\u001b[39;00m datasets\n\u001b[0;32m      8\u001b[0m \u001b[38;5;28;01mfrom\u001b[39;00m \u001b[38;5;21;01msklearn\u001b[39;00m \u001b[38;5;28;01mimport\u001b[39;00m metrics\n\u001b[0;32m      9\u001b[0m \u001b[38;5;28;01mimport\u001b[39;00m \u001b[38;5;21;01mmatplotlib\u001b[39;00m\u001b[38;5;21;01m.\u001b[39;00m\u001b[38;5;21;01mpyplot\u001b[39;00m \u001b[38;5;28;01mas\u001b[39;00m \u001b[38;5;21;01mplt\u001b[39;00m\n",
      "\u001b[1;31mModuleNotFoundError\u001b[0m: No module named 'sklearn'"
     ]
    }
   ],
   "source": [
    "#librerias \n",
    "import pandas as pd\n",
    "import matplotlib.pyplot as plt\n",
    "import seaborn as sns\n",
    "import plotly.express as px\n",
    "import plotly.graph_objects as go\n",
    "from sklearn import datasets\n",
    "from sklearn import metrics\n",
    "import matplotlib.pyplot as plt\n",
    "import seaborn as sns\n",
    "import pandas as pd\n",
    "import numpy as np"
   ]
  },
  {
   "cell_type": "markdown",
   "id": "a90267ee",
   "metadata": {},
   "source": [
    "# Generación del Primer Data Wrangling <a class=\"anchor\" id=\"1.1\"></a>"
   ]
  },
  {
   "cell_type": "code",
   "execution_count": null,
   "id": "975ebf52",
   "metadata": {},
   "outputs": [],
   "source": [
    "df = pd.read_csv('bank-additional-full.csv',sep = ';')\n",
    "df"
   ]
  },
  {
   "cell_type": "code",
   "execution_count": null,
   "id": "cc2d3630",
   "metadata": {},
   "outputs": [],
   "source": [
    "df.info()"
   ]
  },
  {
   "cell_type": "code",
   "execution_count": null,
   "id": "67786d21",
   "metadata": {},
   "outputs": [],
   "source": [
    "# datos nulos\n",
    "df.isnull().sum()"
   ]
  },
  {
   "cell_type": "markdown",
   "id": "1c58b8be",
   "metadata": {},
   "source": [
    "<div class=\"alert alert-block alert-danger\">\n",
    "<b>NO HAY DATOS NULOS </b> \n",
    "</div>"
   ]
  },
  {
   "cell_type": "code",
   "execution_count": null,
   "id": "b115793d",
   "metadata": {},
   "outputs": [],
   "source": [
    "#DESCRIBE\n",
    "df.describe()"
   ]
  },
  {
   "cell_type": "markdown",
   "id": "3c2a17f1",
   "metadata": {},
   "source": [
    "## Análisis Univariado <a class=\"anchor\" id=\"1.1\"></a>"
   ]
  },
  {
   "cell_type": "code",
   "execution_count": null,
   "id": "8105b8f1",
   "metadata": {},
   "outputs": [],
   "source": [
    "# hacemos un count values en la columna job \n",
    "df_job = pd.DataFrame(df['job'].value_counts()).reset_index()\n",
    "\n",
    "#creamos el plor con la libreria plotly y aniadimos etiquetas\n",
    "fig = px.bar(df_job,x = 'index',y = 'job',labels={'index':'Ocupacion','job':'Cantidad'})\n",
    "fig.update_layout(title =  {'text':'Cantidad de Empleados por Ocupacion','x': 0.3})"
   ]
  },
  {
   "cell_type": "code",
   "execution_count": null,
   "id": "a9d399a9",
   "metadata": {},
   "outputs": [],
   "source": [
    "# creamos una columna con los rangos de edade con le metodo cut de pandas\n",
    "df['age_group'] =  pd.cut(x=df['age'], bins=[15,30,40,50,60,100], labels= ['15-30' , '30 -40' , '40 - 50', '50 - 60' , '60 - mas'])\n",
    "\n",
    "#luego hacemos un groupby de la columna creada anteriormente\n",
    "df_age_group =  pd.DataFrame(df.groupby('age_group').count()['age']).reset_index()\n",
    "\n",
    "#creamos un plot pie con la libreria plotly\n",
    "fig = px.pie(df,names='age_group', title='Porcentaje de Rango de Edades')\n",
    "fig.show()"
   ]
  },
  {
   "cell_type": "code",
   "execution_count": null,
   "id": "2f7eb1c8",
   "metadata": {},
   "outputs": [],
   "source": [
    "px.box(df['duration'], title='Diagrama de Caja de la Duracion de las llamadas' )"
   ]
  },
  {
   "cell_type": "code",
   "execution_count": null,
   "id": "df8afbce",
   "metadata": {},
   "outputs": [],
   "source": [
    "df[df['duration']>3000]['age_group'].value_counts()"
   ]
  },
  {
   "cell_type": "code",
   "execution_count": null,
   "id": "5686b090",
   "metadata": {},
   "outputs": [],
   "source": [
    "df[df['duration']>3000][['age_group','y']].shape # ojo"
   ]
  },
  {
   "cell_type": "code",
   "execution_count": null,
   "id": "4b626afa",
   "metadata": {
    "scrolled": false
   },
   "outputs": [],
   "source": [
    "px.histogram(df['duration'],nbins = 150, title='Duracion de llamada en segundos')"
   ]
  },
  {
   "cell_type": "markdown",
   "id": "a24685c6",
   "metadata": {},
   "source": [
    "<div class=\"alert alert-block alert-success\">\n",
    "<b> Luego de analizar la varible Duration, vemos la presencia de valores outliers que en un futuro tendríamos que eliminar ya que resultan problematicos para el entramiento del modelo </b> \n",
    "</div>"
   ]
  },
  {
   "cell_type": "markdown",
   "id": "96ec5ef4",
   "metadata": {},
   "source": [
    "## Análisis Bivariado <a class=\"anchor\" id=\"1.1\"></a>"
   ]
  },
  {
   "cell_type": "code",
   "execution_count": null,
   "id": "8fcd48f6",
   "metadata": {},
   "outputs": [],
   "source": [
    "sns.pairplot(df)"
   ]
  },
  {
   "cell_type": "code",
   "execution_count": null,
   "id": "7961e695",
   "metadata": {},
   "outputs": [],
   "source": [
    "# Analizamos la correlación entre las variables:\n",
    "corr=df.corr()\n",
    "plt.figure(figsize=(14,12))\n",
    "sns.heatmap(corr, cmap=\"bwr_r\",vmin=-1,vmax=1, annot = True)"
   ]
  },
  {
   "cell_type": "code",
   "execution_count": null,
   "id": "38270d91",
   "metadata": {},
   "outputs": [],
   "source": [
    "#creamos un df_corr con los valores de correlacion > 0.5\n",
    "corr_greater_than_75 = corr[abs(corr)>=.5]\n",
    "\n",
    "# Hicimos el Heatmap con esas variables:\n",
    "plt.figure(figsize=(14,12))\n",
    "sns.heatmap(corr_greater_than_75, cmap=\"bwr_r\",vmin=-1,vmax=1, annot = True)"
   ]
  },
  {
   "cell_type": "code",
   "execution_count": null,
   "id": "72407ecc",
   "metadata": {},
   "outputs": [],
   "source": [
    "# Anali de componentes principales"
   ]
  },
  {
   "cell_type": "code",
   "execution_count": null,
   "id": "43638423",
   "metadata": {},
   "outputs": [],
   "source": [
    "#group by entre job y duration\n",
    "df_job_duration = pd.DataFrame(df.groupby(by='job').mean()['duration']).reset_index()\n",
    "#plot con plotly\n",
    "fig = px.bar(df_job_duration, x=\"job\", y=\"duration\", title=\"Duración de llamada por ocupación\")\n",
    "fig.show()"
   ]
  },
  {
   "cell_type": "markdown",
   "id": "7664bf6b",
   "metadata": {},
   "source": [
    "<div class=\"alert alert-block alert-success\">\n",
    "<b> Para el analisis de estos datos no basados el el coeficion de correlacion de Pearson el cual oscila entre -1 y +1 pero basado en nuestro criterio y considerando los valores adsolutos nos quedamos con los valores que estan entre 0.5 y 1 ya que nos indica una correlacion fuerte </b> \n",
    "</div>"
   ]
  },
  {
   "cell_type": "code",
   "execution_count": null,
   "id": "2067d7ec",
   "metadata": {
    "scrolled": false
   },
   "outputs": [],
   "source": [
    "#analizar target x ocuoacion"
   ]
  },
  {
   "cell_type": "markdown",
   "id": "d6270541",
   "metadata": {},
   "source": [
    "<div class=\"alert alert-block alert-success\">\n",
    "<b> Vemos que no hay variacion entre la duración de las llamadas en funcion al tipo de ocupacion </b> \n",
    "</div>"
   ]
  },
  {
   "cell_type": "code",
   "execution_count": null,
   "id": "b9c63089",
   "metadata": {},
   "outputs": [],
   "source": [
    "# Analizamos las variables Pdays y Age:\n",
    "plt.figure(figsize=(14,6))\n",
    "fig=plt.scatter(df['age'],df['duration'], c =\"blue\")\n",
    "fig.set_sizes((10,10))\n",
    "plt.title(\"Duration vs Age\")\n",
    "plt.xlabel(\"Age\")\n",
    "plt.ylabel(\"Duration\")"
   ]
  },
  {
   "cell_type": "markdown",
   "id": "76af80fc",
   "metadata": {},
   "source": [
    "<div class=\"alert alert-block alert-success\">\n",
    "<b>  Basado en el Análisis vemos que existen outlies tanto en duration como en Age </b> \n",
    "</div>"
   ]
  },
  {
   "cell_type": "code",
   "execution_count": null,
   "id": "c195487e",
   "metadata": {
    "scrolled": false
   },
   "outputs": [],
   "source": [
    "# Analizamos las variables Y y Age:\n",
    "plt.figure(figsize=(14,6))\n",
    "sns.set_theme(style=\"whitegrid\")\n",
    "sns.violinplot(x='y', y='age',data=df).set(title=\"Y vs Age\")"
   ]
  },
  {
   "cell_type": "markdown",
   "id": "02b1d7c1",
   "metadata": {},
   "source": [
    "<div class=\"alert alert-block alert-success\">\n",
    "<b>  El rango de edades mayores a 60 son mas propenso a que sí realicen el depósito </b> \n",
    "</div>"
   ]
  },
  {
   "cell_type": "markdown",
   "id": "02324a77",
   "metadata": {},
   "source": [
    "## Analisis Multivariado <a class=\"anchor\" id=\"1.1\"></a>"
   ]
  },
  {
   "cell_type": "code",
   "execution_count": null,
   "id": "fff2e242",
   "metadata": {},
   "outputs": [],
   "source": [
    "sns.relplot(data=df, x='euribor3m', y = 'nr.employed',hue='job', kind = 'scatter', col = 'housing')"
   ]
  },
  {
   "cell_type": "code",
   "execution_count": null,
   "id": "d8184bf8",
   "metadata": {},
   "outputs": [],
   "source": [
    "sns.jointplot(data = df,x = 'pdays',y = 'previous')"
   ]
  },
  {
   "cell_type": "markdown",
   "id": "7b1bde63",
   "metadata": {},
   "source": [
    "<div class=\"alert alert-block alert-success\">\n",
    "<b>  Eliminamos el valor 999 de la columns de Pdays que represetan los clientes que no fueron contacatados la campaña anterior </b> \n",
    "</div>"
   ]
  },
  {
   "cell_type": "code",
   "execution_count": null,
   "id": "7075b520",
   "metadata": {},
   "outputs": [],
   "source": [
    "df_2 = df[df['pdays'] != 999]\n",
    "sns.jointplot(data = df_2,x = 'pdays',y = 'euribor3m',kind=\"kde\", hue = 'poutcome')"
   ]
  },
  {
   "cell_type": "code",
   "execution_count": null,
   "id": "1f254c43",
   "metadata": {},
   "outputs": [],
   "source": [
    "df.describe()"
   ]
  },
  {
   "cell_type": "code",
   "execution_count": null,
   "id": "07299e17",
   "metadata": {},
   "outputs": [],
   "source": [
    "df[df['duration']> 1500].shape"
   ]
  },
  {
   "cell_type": "code",
   "execution_count": null,
   "id": "a56b6198",
   "metadata": {},
   "outputs": [],
   "source": [
    "#revisar por que no estan lo registros mayores a 1000\n",
    "plt.figure(figsize=(18,8))\n",
    "sns.lineplot(x=\"age\", y=\"duration\",data=df,palette='bright',hue='y')\n",
    "plt.show()"
   ]
  },
  {
   "cell_type": "code",
   "execution_count": null,
   "id": "d1c77edd",
   "metadata": {},
   "outputs": [],
   "source": [
    "#plotear estado marital x target\n",
    "plt.figure(figsize=(18,8))\n",
    "sns.lineplot(x=\"age\", y=\"duration\",data=df,palette='bright',hue='marital')"
   ]
  },
  {
   "cell_type": "code",
   "execution_count": null,
   "id": "6fd0ad9b",
   "metadata": {
    "scrolled": false
   },
   "outputs": [],
   "source": [
    "figure = sns.catplot(data = df, x = 'marital',y = 'campaign',hue = 'y', palette='bright', kind='bar')\n",
    "figure.fig.suptitle('Campaign y Marital segmentado por el Target')\n",
    "plt.show()"
   ]
  },
  {
   "cell_type": "markdown",
   "id": "2fdab28b",
   "metadata": {},
   "source": [
    "<div class=\"alert alert-block alert-success\">\n",
    "<b>  Llegamos a la conclusión de que los Status de Married, single and Divorced son constantes. </b> \n",
    "</div>"
   ]
  },
  {
   "cell_type": "code",
   "execution_count": null,
   "id": "f5c0558f",
   "metadata": {},
   "outputs": [],
   "source": [
    "from sklearn.ensemble import RandomForestClassifier\n",
    "from sklearn.metrics import accuracy_score\n",
    "from sklearn.neighbors import KNeighborsClassifier # KNN\n",
    "from sklearn.linear_model import LogisticRegression # Regresion Logistica\n",
    "from sklearn.ensemble import RandomForestClassifier # Random Forest\n",
    "from xgboost import XGBClassifier\n",
    "\n",
    "#prep\n",
    "df=pd.get_dummies(data=df, drop_first=True)\n",
    "\n",
    "#Dividimos las variables independientes y la dependiente\n",
    "X = df.loc[:,df.columns != 'y_yes']\n",
    "y = df.loc[:,'y_yes']\n",
    "\n",
    "#Divimos nuestro Dataset en Train y Test\n",
    "from sklearn.model_selection import train_test_split\n",
    "X_train,X_test,y_train,y_test=train_test_split(X,y,test_size=0.25, random_state=12)"
   ]
  },
  {
   "cell_type": "code",
   "execution_count": null,
   "id": "ed68838b",
   "metadata": {},
   "outputs": [],
   "source": [
    "model_rf = RandomForestClassifier(n_estimators = 200, random_state = 12)\n",
    "model_rf.fit(X_train,y_train)\n",
    "y_pred = model_rf.predict(X_test)\n",
    "\n",
    "acc=accuracy_score(y_test,y_pred)\n",
    "print('Accuracy Randomforest Classifier:',acc)"
   ]
  },
  {
   "cell_type": "code",
   "execution_count": null,
   "id": "f2de8cc8",
   "metadata": {},
   "outputs": [],
   "source": [
    "model_xgb = XGBClassifier()\n",
    "model_xgb.fit(X_train, y_train)\n",
    "y_pred = model_xgb.predict(X_test)\n",
    "\n",
    "acc_xgb=accuracy_score(y_test,y_pred)\n",
    "print('Accuracy XGB boost:',acc_xgb)"
   ]
  },
  {
   "cell_type": "code",
   "execution_count": null,
   "id": "fa5d0f43",
   "metadata": {},
   "outputs": [],
   "source": [
    "model_knn = KNeighborsClassifier()\n",
    "model_knn.fit(X_train,y_train)\n",
    "y_pred = model_knn.predict(X_test)\n",
    "\n",
    "acc=accuracy_score(y_test,y_pred)\n",
    "print('Accuracy KNeighborsClassifier:',acc)"
   ]
  },
  {
   "cell_type": "code",
   "execution_count": null,
   "id": "49485b34",
   "metadata": {},
   "outputs": [],
   "source": [
    "model_lgr = LogisticRegression()\n",
    "model_lgr.fit(X_train,y_train)\n",
    "y_pred = model_lgr.predict(X_test)\n",
    "\n",
    "acc=accuracy_score(y_test,y_pred)\n",
    "print('Accuracy LogisticRegression:',acc)"
   ]
  },
  {
   "cell_type": "markdown",
   "id": "409ddbf0",
   "metadata": {},
   "source": [
    "## consultas\n",
    "    1.- HIperametros de xgboost y gridsearchCV\n",
    "    2.- Consulta de outlier\n",
    "    3.- documentacion de github ingles o espaniol ?\n",
    "    4.- Que Varibles son las mas importantes pra el modelo"
   ]
  },
  {
   "cell_type": "code",
   "execution_count": null,
   "id": "e296d519",
   "metadata": {},
   "outputs": [],
   "source": [
    "pip install plotly"
   ]
  }
 ],
 "metadata": {
  "kernelspec": {
   "display_name": "Python 3 (ipykernel)",
   "language": "python",
   "name": "python3"
  },
  "language_info": {
   "codemirror_mode": {
    "name": "ipython",
    "version": 3
   },
   "file_extension": ".py",
   "mimetype": "text/x-python",
   "name": "python",
   "nbconvert_exporter": "python",
   "pygments_lexer": "ipython3",
   "version": "3.9.7"
  }
 },
 "nbformat": 4,
 "nbformat_minor": 5
}

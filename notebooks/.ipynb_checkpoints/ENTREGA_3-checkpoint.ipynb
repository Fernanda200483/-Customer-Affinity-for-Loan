{
 "cells": [
  {
   "cell_type": "code",
   "execution_count": 4,
   "id": "73cdb9a7",
   "metadata": {},
   "outputs": [],
   "source": [
    "import pandas as pd"
   ]
  },
  {
   "cell_type": "code",
   "execution_count": 59,
   "id": "4a2546d4",
   "metadata": {},
   "outputs": [
    {
     "ename": "ParseError",
     "evalue": "unbound prefix: line 1, column 0 (<string>)",
     "output_type": "error",
     "traceback": [
      "Traceback \u001b[1;36m(most recent call last)\u001b[0m:\n",
      "  File \u001b[0;32m\"C:\\Users\\jonat\\anaconda3\\lib\\site-packages\\IPython\\core\\interactiveshell.py\"\u001b[0m, line \u001b[0;32m3444\u001b[0m, in \u001b[0;35mrun_code\u001b[0m\n    exec(code_obj, self.user_global_ns, self.user_ns)\n",
      "  File \u001b[0;32m\"C:\\Users\\jonat\\AppData\\Local\\Temp/ipykernel_1320/1381187647.py\"\u001b[0m, line \u001b[0;32m5\u001b[0m, in \u001b[0;35m<module>\u001b[0m\n    root = ET.XML(xml_data)  # Parse XML\n",
      "\u001b[1;36m  File \u001b[1;32m\"C:\\Users\\jonat\\anaconda3\\lib\\xml\\etree\\ElementTree.py\"\u001b[1;36m, line \u001b[1;32m1347\u001b[1;36m, in \u001b[1;35mXML\u001b[1;36m\u001b[0m\n\u001b[1;33m    parser.feed(text)\u001b[0m\n",
      "\u001b[1;36m  File \u001b[1;32m\"<string>\"\u001b[1;36m, line \u001b[1;32munknown\u001b[0m\n\u001b[1;31mParseError\u001b[0m\u001b[1;31m:\u001b[0m unbound prefix: line 1, column 0\n"
     ]
    }
   ],
   "source": [
    "import xml.etree.ElementTree as ET\n",
    "import pandas as pd\n",
    "\n",
    "#xml_data = open('c:/Users/jonat/Downloads/0a6c2309-0701-5248-901e-4e3a5f4aa63b.xml', 'r').read()  # Read file\n",
    "root = ET.XML(xml_data)  # Parse XML\n",
    "\n",
    "data = []\n",
    "cols = []\n",
    "for i, child in enumerate(root):\n",
    "    data.append([subchild.text for subchild in child])\n",
    "    cols.append(child.tag)\n"
   ]
  },
  {
   "cell_type": "code",
   "execution_count": 57,
   "id": "076ced0d",
   "metadata": {},
   "outputs": [],
   "source": [
    "xml_data = '<cfdi:Conceptos><cfdi:Concepto ClaveProdServ=\"90111501\" Cantidad=\"1.00\" ClaveUnidad=\"E48\" Unidad=\"Servicio\" Descripcion=\"Habitacion\" ValorUnitario=\"4237.08\" Importe=\"4237.08\" ObjetoImp=\"02\"><cfdi:Impuestos><cfdi:Traslados><cfdi:Traslado Base=\"4237.08\" Impuesto=\"002\" TipoFactor=\"Tasa\" TasaOCuota=\"0.160000\" Importe=\"677.93\" /></cfdi:Traslados></cfdi:Impuestos></cfdi:Concepto><cfdi:Concepto ClaveProdServ=\"90111501\" Cantidad=\"1.00\" ClaveUnidad=\"E48\" Unidad=\"Servicio\" Descripcion=\"Ingresos Varios\" ValorUnitario=\"172.41\" Importe=\"172.41\" ObjetoImp=\"02\"><cfdi:Impuestos><cfdi:Traslados><cfdi:Traslado Base=\"172.41\" Impuesto=\"002\" TipoFactor=\"Tasa\" TasaOCuota=\"0.160000\" Importe=\"27.59\" /></cfdi:Traslados></cfdi:Impuestos></cfdi:Concepto></cfdi:Conceptos><cfdi:Impuestos TotalImpuestosTrasladados=\"705.52\"><cfdi:Traslados><cfdi:Traslado Impuesto=\"002\" TipoFactor=\"Tasa\" TasaOCuota=\"0.160000\" Importe=\"705.52\" Base=\"4409.49\" /></cfdi:Traslados></cfdi:Impuestos><cfdi:Complemento><implocal:ImpuestosLocales version=\"1.0\" TotaldeRetenciones=\"0.00\" TotaldeTraslados=\"148.30\"><implocal:TrasladosLocales ImpLocTrasladado=\"ISH\" TasadeTraslado=\"0.04\" Importe=\"148.30\" />'"
   ]
  },
  {
   "cell_type": "code",
   "execution_count": 60,
   "id": "392eb5ee",
   "metadata": {},
   "outputs": [
    {
     "ename": "XMLSyntaxError",
     "evalue": "Start tag expected, '<' not found, line 1, column 1 (0a6c2309-0701-5248-901e-4e3a5f4aa63b.xml, line 1)",
     "output_type": "error",
     "traceback": [
      "Traceback \u001b[1;36m(most recent call last)\u001b[0m:\n",
      "  File \u001b[0;32m\"C:\\Users\\jonat\\anaconda3\\lib\\site-packages\\IPython\\core\\interactiveshell.py\"\u001b[0m, line \u001b[0;32m3444\u001b[0m, in \u001b[0;35mrun_code\u001b[0m\n    exec(code_obj, self.user_global_ns, self.user_ns)\n",
      "  File \u001b[0;32m\"C:\\Users\\jonat\\AppData\\Local\\Temp/ipykernel_1320/2169881017.py\"\u001b[0m, line \u001b[0;32m6\u001b[0m, in \u001b[0;35m<module>\u001b[0m\n    xml = objectify.parse(open(path))\n",
      "  File \u001b[0;32m\"src/lxml/objectify.pyx\"\u001b[0m, line \u001b[0;32m1842\u001b[0m, in \u001b[0;35mlxml.objectify.parse\u001b[0m\n",
      "  File \u001b[0;32m\"src/lxml/etree.pyx\"\u001b[0m, line \u001b[0;32m3521\u001b[0m, in \u001b[0;35mlxml.etree.parse\u001b[0m\n",
      "  File \u001b[0;32m\"src/lxml/parser.pxi\"\u001b[0m, line \u001b[0;32m1880\u001b[0m, in \u001b[0;35mlxml.etree._parseDocument\u001b[0m\n",
      "  File \u001b[0;32m\"src/lxml/parser.pxi\"\u001b[0m, line \u001b[0;32m1900\u001b[0m, in \u001b[0;35mlxml.etree._parseFilelikeDocument\u001b[0m\n",
      "  File \u001b[0;32m\"src/lxml/parser.pxi\"\u001b[0m, line \u001b[0;32m1795\u001b[0m, in \u001b[0;35mlxml.etree._parseDocFromFilelike\u001b[0m\n",
      "  File \u001b[0;32m\"src/lxml/parser.pxi\"\u001b[0m, line \u001b[0;32m1201\u001b[0m, in \u001b[0;35mlxml.etree._BaseParser._parseDocFromFilelike\u001b[0m\n",
      "  File \u001b[0;32m\"src/lxml/parser.pxi\"\u001b[0m, line \u001b[0;32m615\u001b[0m, in \u001b[0;35mlxml.etree._ParserContext._handleParseResultDoc\u001b[0m\n",
      "  File \u001b[0;32m\"src/lxml/parser.pxi\"\u001b[0m, line \u001b[0;32m725\u001b[0m, in \u001b[0;35mlxml.etree._handleParseResult\u001b[0m\n",
      "\u001b[1;36m  File \u001b[1;32m\"src/lxml/parser.pxi\"\u001b[1;36m, line \u001b[1;32m654\u001b[1;36m, in \u001b[1;35mlxml.etree._raiseParseError\u001b[1;36m\u001b[0m\n",
      "\u001b[1;36m  File \u001b[1;32m\"c:\\Users\\jonat\\Downloads\\0a6c2309-0701-5248-901e-4e3a5f4aa63b.xml\"\u001b[1;36m, line \u001b[1;32m1\u001b[0m\n\u001b[1;33m    <?xml version=\"1.0\" encoding=\"utf-8\"?>\u001b[0m\n\u001b[1;37m                                          ^\u001b[0m\n\u001b[1;31mXMLSyntaxError\u001b[0m\u001b[1;31m:\u001b[0m Start tag expected, '<' not found, line 1, column 1\n"
     ]
    }
   ],
   "source": [
    "from lxml import objectify\n",
    "import pandas as pd\n",
    "\n",
    "path = 'c:/Users/jonat/Downloads/0a6c2309-0701-5248-901e-4e3a5f4aa63b.xml'\n",
    "\n",
    "xml = objectify.parse(open(path))\n",
    "root = xml.getroot()\n",
    "root.getchildren()[0].getchildren()\n",
    "df = pd.DataFrame(columns=('key','type', 'language', 'feature', 'web', 'data'))\n",
    "\n",
    "for i in range(0,len(xml)):\n",
    "    obj = root.getchildren()[i].getchildren()\n",
    "    row = dict(zip(['key','type', 'language', 'feature', 'web', 'data'], [obj[0].text, obj[1].text]))\n",
    "    row_s = pd.Series(row)\n",
    "    row_s.name = i\n",
    "    df = df.append(row_s)"
   ]
  },
  {
   "cell_type": "code",
   "execution_count": 15,
   "id": "96c75593",
   "metadata": {},
   "outputs": [],
   "source": [
    "import xml.etree.ElementTree as ET\n",
    "import pandas as pd\n",
    "from lxml import etree\n",
    "xml_data = open('c:/Users/jonat/Downloads/0a6c2309-0701-5248-901e-4e3a5f4aa63b.xml', 'r').read()  # Read file\n",
    "# root = ET.XML(xml_data)  # Parse XML\n",
    "parser = etree.XMLParser(recover=True)\n",
    "etree.fromstring(xml_data, parser=parser)\n",
    "\n",
    "data = []\n",
    "cols = []\n",
    "for i, child in enumerate(root):\n",
    "    data.append([subchild.text for subchild in child])\n",
    "    cols.append(child.tag)"
   ]
  },
  {
   "cell_type": "code",
   "execution_count": 63,
   "id": "447af9a5",
   "metadata": {},
   "outputs": [
    {
     "ename": "SyntaxError",
     "evalue": "prefix 'http' not found in prefix map (<string>)",
     "output_type": "error",
     "traceback": [
      "Traceback \u001b[1;36m(most recent call last)\u001b[0m:\n",
      "  File \u001b[0;32m\"C:\\Users\\jonat\\anaconda3\\lib\\site-packages\\IPython\\core\\interactiveshell.py\"\u001b[0m, line \u001b[0;32m3444\u001b[0m, in \u001b[0;35mrun_code\u001b[0m\n    exec(code_obj, self.user_global_ns, self.user_ns)\n",
      "  File \u001b[0;32m\"C:\\Users\\jonat\\AppData\\Local\\Temp/ipykernel_1320/3131723744.py\"\u001b[0m, line \u001b[0;32m8\u001b[0m, in \u001b[0;35m<module>\u001b[0m\n    for ele in root.findall('http://www.sat.gob.mx/cfd/4'):\n",
      "  File \u001b[0;32m\"C:\\Users\\jonat\\anaconda3\\lib\\xml\\etree\\ElementPath.py\"\u001b[0m, line \u001b[0;32m395\u001b[0m, in \u001b[0;35mfindall\u001b[0m\n    return list(iterfind(elem, path, namespaces))\n",
      "  File \u001b[0;32m\"C:\\Users\\jonat\\anaconda3\\lib\\xml\\etree\\ElementPath.py\"\u001b[0m, line \u001b[0;32m362\u001b[0m, in \u001b[0;35miterfind\u001b[0m\n    token = next()\n",
      "\u001b[1;36m  File \u001b[1;32m\"C:\\Users\\jonat\\anaconda3\\lib\\xml\\etree\\ElementPath.py\"\u001b[1;36m, line \u001b[1;32m86\u001b[1;36m, in \u001b[1;35mxpath_tokenizer\u001b[1;36m\u001b[0m\n\u001b[1;33m    raise SyntaxError(\"prefix %r not found in prefix map\" % prefix) from None\u001b[0m\n",
      "\u001b[1;36m  File \u001b[1;32m\"<string>\"\u001b[1;36m, line \u001b[1;32munknown\u001b[0m\n\u001b[1;31mSyntaxError\u001b[0m\u001b[1;31m:\u001b[0m prefix 'http' not found in prefix map\n"
     ]
    }
   ],
   "source": [
    "import xml.etree.ElementTree as ETree\n",
    "\n",
    "path = 'c:/Users/jonat/Downloads/0a6c2309-0701-5248-901e-4e3a5f4aa63b.xml'\n",
    "Tree = ETree.parse(path)\n",
    "root = Tree.getroot() \n",
    "\n",
    "A = []\n",
    "for ele in root.findall('http://www.sat.gob.mx/cfd/4'):\n",
    "    B = {}#assign empty dictionary to store daata values\n",
    "    for i in list(ele):\n",
    "        B.update({i.tag: i.text})\n",
    "        A.append(B)\n",
    "df = pd.DataFrame(A)\n",
    "df"
   ]
  },
  {
   "cell_type": "code",
   "execution_count": 48,
   "id": "ba45def4",
   "metadata": {
    "collapsed": true
   },
   "outputs": [
    {
     "name": "stdout",
     "output_type": "stream",
     "text": [
      "ï»¿<?xml version=\"1.0\" encoding=\"utf-8\"?>\n",
      "<cfdi:Comprobante xmlns:cfdi=\"http://www.sat.gob.mx/cfd/4\" xmlns:xsi=\"http://www.w3.org/2001/XMLSchema-instance\" xmlns:implocal=\"http://www.sat.gob.mx/implocal\" xsi:schemaLocation=\"http://www.sat.gob.mx/cfd/4 http://www.sat.gob.mx/sitio_internet/cfd/4/cfdv40.xsd http://www.sat.gob.mx/implocal http://www.sat.gob.mx/sitio_internet/cfd/implocal/implocal.xsd\" Version=\"4.0\" Serie=\"FM4\" Folio=\"116\" Fecha=\"2022-10-04T09:43:17\" Sello=\"cstds8gqhzyRmUWa1IbX2EYOHcN2lp28iSutrxitIjwMHoeObBhkgTIKVQ9wdJUUpyPoTnO7PK+4BVHG1QMgiDWGAdBNTd8tBqQx5uoSCnbuGgFWk9r62w7GldQrIZ3scvgy29A25+ghYICWN6IrTEA1U4OW2TZMRpLNJHS+ZdmRPOf4KNyzXsrEdn92gAO6hgEKYSXOtCQ9QTP4Wr8tTlQQ2SIqzWBRV0qCEUkLIZjggfaKqWwGaTGHDFvvT1HPI4+Xy2dzzPdIKoDFGjdOf8grKojQCdvMMqVwC1DRXSRVs5jWnukdlUiUHhxOgNMTnPE64Opoe1XnWmtNkQ7Qmg==\" FormaPago=\"04\" NoCertificado=\"00001000000504372352\" Certificado=\"MIIGgTCCBGmgAwIBAgIUMDAwMDEwMDAwMDA1MDQzNzIzNTIwDQYJKoZIhvcNAQELBQAwggGEMSAwHgYDVQQDDBdBVVRPUklEQUQgQ0VSVElGSUNBRE9SQTEuMCwGA1UECgwlU0VSVklDSU8gREUgQURNSU5JU1RSQUNJT04gVFJJQlVUQVJJQTEaMBgGA1UECwwRU0FULUlFUyBBdXRob3JpdHkxKjAoBgkqhkiG9w0BCQEWG2NvbnRhY3RvLnRlY25pY29Ac2F0LmdvYi5teDEmMCQGA1UECQwdQVYuIEhJREFMR08gNzcsIENPTC4gR1VFUlJFUk8xDjAMBgNVBBEMBTA2MzAwMQswCQYDVQQGEwJNWDEZMBcGA1UECAwQQ0lVREFEIERFIE1FWElDTzETMBEGA1UEBwwKQ1VBVUhURU1PQzEVMBMGA1UELRMMU0FUOTcwNzAxTk4zMVwwWgYJKoZIhvcNAQkCE01yZXNwb25zYWJsZTogQURNSU5JU1RSQUNJT04gQ0VOVFJBTCBERSBTRVJWSUNJT1MgVFJJQlVUQVJJT1MgQUwgQ09OVFJJQlVZRU5URTAeFw0yMDA3MDMwMTAyMzhaFw0yNDA3MDMwMTAyMzhaMIIBTjFJMEcGA1UEAxNASU5NT0JJTElBUklBIEhPVEVMRVJBIEVMIFBSRVNJREVOVEUgU0FOIEpPU0UgREVMIENBQk8gUyBBIFAgSSBERTFMMEoGA1UEKRNDSU5NT0JJTElBUklBIEhPVEVMRVJBIEVMIFBSRVNJREVOVEUgU0FOIEpPU0UgREVMIENBQk8gUyBBIFAgSSBERSBDVjFJMEcGA1UEChNASU5NT0JJTElBUklBIEhPVEVMRVJBIEVMIFBSRVNJREVOVEUgU0FOIEpPU0UgREVMIENBQk8gUyBBIFAgSSBERTElMCMGA1UELRMcSUhQODEwNzAxRzdBIC8gSEVNQTY4MTIxMk1aNDEeMBwGA1UEBRMVIC8gSEVNQTY4MTIxMkhERlJOTjA2MSEwHwYDVQQLExhJTk1PQi4gU0FOIEpPU0UgREVMIENBQk8wggEiMA0GCSqGSIb3DQEBAQUAA4IBDwAwggEKAoIBAQCI9fmuqtimHchF6ZZlw082KAULnX9wNMUO3GAOjcy1drKkrDcnFDKWio4ckIMRx+/crDZ7T3vug82isxxFIoi1ySJSM2kh4XtsrzRBc1XkWNXmyysUV4rgp4QSxgO94GXzR5hQKrQ2UYVl4IDIX2OvS9i5AFOgUvnDi8JaR+8mZzkNhZfgaDTscYkFv2g9CJjWKAHEWbSqKuwJMOV7NqsevyEbZO26pbTi4DP+vVPJY7WUiO0PghvKXCFTcWdh3heiUPSkWotWtkU111ErxtvznVrFIuxtL5ScNbNbDFxPRvrK/3xqviOKCHxG5kr0mnVrGOAk45M+sDl93sumD9c1AgMBAAGjHTAbMAwGA1UdEwEB/wQCMAAwCwYDVR0PBAQDAgbAMA0GCSqGSIb3DQEBCwUAA4ICAQA+whtIrsqCBH/SyHAW5oD/UsjdHD6eCEhbXygfBoIEkaAkLjPjKxv13Nw2VKl6BIKo+KSBWnkPDdbYAZX2FTcURDIbujsm9+oMSm9lP5Z0Mg4uYJL+ngaTc6+eCaWKkoTv7V+9QX9lfHgSIfO2GPGgUUPl3PY45sEhPcsQvj+pMHkvoLCJ3RtkovrWbXClBtbwHG/t0jvZezDjAsE3KaJCySAHNUeqrrPEpvVZaRzkJiaebILZBlUx8pNa/HHNnAWohXV2SPeYBzVWfl6GiaNXQt9vm1YEQoygr6I5vWaXlNkFYAXXVaaZjHYAGy3mR1OWqwHoP2GGMCUz/LWWrTC8sZ4B8tKdK8EO8mJ5V7o1x8DQWkb4ZiBrEUvB2eCjD8Xi83wMW9//bMOqY6YG0qFzbYdljPMwJHTB+O+aGBLnuOhyw37Po3t1FAKpnUbbL0NsxN3tw38bgIrt5UvNw4b3Ndr6ZWqye1TGM6vabei+EW4hciHlTp+cjm35MF7CDMFwm9GbSWWPYKE5szAO9tl2Qro9WhavuidDpyM8pllCzcSZG9xopFpFy8LAtq50ycFgXKrab8mszclcsQrvoII0FESZMfCVanZMK2j917TsX3VORV3aQE1cSgYhGXwdzykVsWLiDS7h0eEhdwiNIs4UCCCULeuSLg3eM2bhp6/unQ==\" SubTotal=\"4409.49\" Moneda=\"MXN\" Total=\"5263.31\" TipoDeComprobante=\"I\" MetodoPago=\"PUE\" LugarExpedicion=\"11520\" Exportacion=\"01\"><cfdi:CfdiRelacionados TipoRelacion=\"04\"><cfdi:CfdiRelacionado UUID=\"B5367A1C-1F1E-52BC-814D-2A46675BE89B\" /></cfdi:CfdiRelacionados><cfdi:Emisor Rfc=\"IHP810701G7A\" Nombre=\"INMOBILIARIA HOTELERA EL PRESIDENTE SAN JOSE DEL CABO\" RegimenFiscal=\"601\" /><cfdi:Receptor Rfc=\"CME891127EA1\" Nombre=\"COATS MEXICO\" DomicilioFiscalReceptor=\"10200\" RegimenFiscalReceptor=\"601\" UsoCFDI=\"G03\" /><cfdi:Conceptos><cfdi:Concepto ClaveProdServ=\"90111501\" Cantidad=\"1.00\" ClaveUnidad=\"E48\" Unidad=\"Servicio\" Descripcion=\"Habitacion\" ValorUnitario=\"4237.08\" Importe=\"4237.08\" ObjetoImp=\"02\"><cfdi:Impuestos><cfdi:Traslados><cfdi:Traslado Base=\"4237.08\" Impuesto=\"002\" TipoFactor=\"Tasa\" TasaOCuota=\"0.160000\" Importe=\"677.93\" /></cfdi:Traslados></cfdi:Impuestos></cfdi:Concepto><cfdi:Concepto ClaveProdServ=\"90111501\" Cantidad=\"1.00\" ClaveUnidad=\"E48\" Unidad=\"Servicio\" Descripcion=\"Ingresos Varios\" ValorUnitario=\"172.41\" Importe=\"172.41\" ObjetoImp=\"02\"><cfdi:Impuestos><cfdi:Traslados><cfdi:Traslado Base=\"172.41\" Impuesto=\"002\" TipoFactor=\"Tasa\" TasaOCuota=\"0.160000\" Importe=\"27.59\" /></cfdi:Traslados></cfdi:Impuestos></cfdi:Concepto></cfdi:Conceptos><cfdi:Impuestos TotalImpuestosTrasladados=\"705.52\"><cfdi:Traslados><cfdi:Traslado Impuesto=\"002\" TipoFactor=\"Tasa\" TasaOCuota=\"0.160000\" Importe=\"705.52\" Base=\"4409.49\" /></cfdi:Traslados></cfdi:Impuestos><cfdi:Complemento><implocal:ImpuestosLocales version=\"1.0\" TotaldeRetenciones=\"0.00\" TotaldeTraslados=\"148.30\"><implocal:TrasladosLocales ImpLocTrasladado=\"ISH\" TasadeTraslado=\"0.04\" Importe=\"148.30\" /></implocal:ImpuestosLocales><tfd:TimbreFiscalDigital xmlns:tfd=\"http://www.sat.gob.mx/TimbreFiscalDigital\" xsi:schemaLocation=\"http://www.sat.gob.mx/TimbreFiscalDigital http://www.sat.gob.mx/sitio_internet/cfd/TimbreFiscalDigital/TimbreFiscalDigitalv11.xsd\" Version=\"1.1\" SelloCFD=\"cstds8gqhzyRmUWa1IbX2EYOHcN2lp28iSutrxitIjwMHoeObBhkgTIKVQ9wdJUUpyPoTnO7PK+4BVHG1QMgiDWGAdBNTd8tBqQx5uoSCnbuGgFWk9r62w7GldQrIZ3scvgy29A25+ghYICWN6IrTEA1U4OW2TZMRpLNJHS+ZdmRPOf4KNyzXsrEdn92gAO6hgEKYSXOtCQ9QTP4Wr8tTlQQ2SIqzWBRV0qCEUkLIZjggfaKqWwGaTGHDFvvT1HPI4+Xy2dzzPdIKoDFGjdOf8grKojQCdvMMqVwC1DRXSRVs5jWnukdlUiUHhxOgNMTnPE64Opoe1XnWmtNkQ7Qmg==\" NoCertificadoSAT=\"00001000000504204441\" RfcProvCertif=\"CVD110412TF6\" UUID=\"0A6C2309-0701-5248-901E-4E3A5F4AA63B\" FechaTimbrado=\"2022-10-04T09:43:18\" SelloSAT=\"johoE19JunlNslxC5pDdsxWOqnphskI+KqHkAzNJq04xle1Ku+DV9OivZ8apKHQFOsEZnRxamZrchTmOuD9vt71T9mqkhV4X9/eASlGuE4Zxla27XsdAKjCdEBeq4gpmBP0V9tLWUIb3PLXLAo9IU5N0RMtHAgEqCSXNsXKuvrPSFDYEpMLU6cpi7DoVjBH0HCDKEkTSoP3fj25ULa7ZHY5mBK46K4QKn+UDVQmzWuacllfVZHD+T0DTzpFK0SM/S7kYYR/6Oh3pDK8/QZP06Hly9GaXUikKANsghb6gb0dvigtKP2vR2XvIaZX97M9Op5E3huAHZrYaUpwkQ4NNFQ==\" /></cfdi:Complemento></cfdi:Comprobante>\n"
     ]
    }
   ],
   "source": [
    "print(xml_data)"
   ]
  },
  {
   "cell_type": "code",
   "execution_count": 49,
   "id": "bdfc6388",
   "metadata": {},
   "outputs": [],
   "source": [
    "xml_data = '</cfdi:CfdiRelacionados><cfdi:Emisor Rfc=\"IHP810701G7A\" Nombre=\"INMOBILIARIA HOTELERA EL PRESIDENTE SAN JOSE DEL CABO\" RegimenFiscal=\"601\" /><cfdi:Receptor Rfc=\"CME891127EA1\" Nombre=\"COATS MEXICO\" DomicilioFiscalReceptor=\"10200\" RegimenFiscalReceptor=\"601\" UsoCFDI=\"G03\" /><cfdi:Conceptos><cfdi:Concepto ClaveProdServ=\"90111501\" Cantidad=\"1.00\" ClaveUnidad=\"E48\" Unidad=\"Servicio\" Descripcion=\"Habitacion\" ValorUnitario=\"4237.08\" Importe=\"4237.08\" ObjetoImp=\"02\"><cfdi:Impuestos><cfdi:Traslados><cfdi:Traslado Base=\"4237.08\" Impuesto=\"002\" TipoFactor=\"Tasa\" TasaOCuota=\"0.160000\" Importe=\"677.93\" /></cfdi:Traslados></cfdi:Impuestos></cfdi:Concepto><cfdi:Concepto ClaveProdServ=\"90111501\" Cantidad=\"1.00\" ClaveUnidad=\"E48\" Unidad=\"Servicio\" Descripcion=\"Ingresos Varios\" ValorUnitario=\"172.41\" Importe=\"172.41\" ObjetoImp=\"02\"><cfdi:Impuestos><cfdi:Traslados><cfdi:Traslado Base=\"172.41\" Impuesto=\"002\" TipoFactor=\"Tasa\" TasaOCuota=\"0.160000\" Importe=\"27.59\" /></cfdi:Traslados></cfdi:Impuestos></cfdi:Concepto></cfdi:Conceptos><cfdi:Impuestos TotalImpuestosTrasladados=\"705.52\"><cfdi:Traslados><cfdi:Traslado Impuesto=\"002\" TipoFactor=\"Tasa\" TasaOCuota=\"0.160000\" Importe=\"705.52\" Base=\"4409.49\" /></cfdi:Traslados></cfdi:Impuestos><cfdi:Complemento><implocal:ImpuestosLocales version=\"1.0\" TotaldeRetenciones=\"0.00\" TotaldeTraslados=\"148.30\"><implocal:TrasladosLocales ImpLocTrasladado=\"ISH\" TasadeTraslado=\"0.04\" Importe=\"148.30\" />'"
   ]
  },
  {
   "cell_type": "code",
   "execution_count": 47,
   "id": "f8e547d6",
   "metadata": {},
   "outputs": [
    {
     "ename": "ParseError",
     "evalue": "not well-formed (invalid token): line 1, column 1 (<string>)",
     "output_type": "error",
     "traceback": [
      "Traceback \u001b[1;36m(most recent call last)\u001b[0m:\n",
      "  File \u001b[0;32m\"C:\\Users\\jonat\\anaconda3\\lib\\site-packages\\IPython\\core\\interactiveshell.py\"\u001b[0m, line \u001b[0;32m3444\u001b[0m, in \u001b[0;35mrun_code\u001b[0m\n    exec(code_obj, self.user_global_ns, self.user_ns)\n",
      "  File \u001b[0;32m\"C:\\Users\\jonat\\AppData\\Local\\Temp/ipykernel_1320/284524179.py\"\u001b[0m, line \u001b[0;32m1\u001b[0m, in \u001b[0;35m<module>\u001b[0m\n    root = ETree.fromstring(xml_data)\n",
      "\u001b[1;36m  File \u001b[1;32m\"C:\\Users\\jonat\\anaconda3\\lib\\xml\\etree\\ElementTree.py\"\u001b[1;36m, line \u001b[1;32m1347\u001b[1;36m, in \u001b[1;35mXML\u001b[1;36m\u001b[0m\n\u001b[1;33m    parser.feed(text)\u001b[0m\n",
      "\u001b[1;36m  File \u001b[1;32m\"<string>\"\u001b[1;36m, line \u001b[1;32munknown\u001b[0m\n\u001b[1;31mParseError\u001b[0m\u001b[1;31m:\u001b[0m not well-formed (invalid token): line 1, column 1\n"
     ]
    }
   ],
   "source": [
    "root = ETree.fromstring(xml_data)\n",
    "for actor in root.findall('{http://www.sat.gob.mx/sitio_internet/cfd/4/cfdv40.xsd}actor'):\n",
    "    name = actor.find('{http://people.example.com}name')\n",
    "    print(name.text)\n",
    "    for char in actor.findall('{http://characters.example.com}character'):\n",
    "        print(' |-->', char.text)"
   ]
  },
  {
   "cell_type": "code",
   "execution_count": 33,
   "id": "281ce174",
   "metadata": {},
   "outputs": [
    {
     "name": "stdout",
     "output_type": "stream",
     "text": [
      "Import successful!\n",
      "Parsing XML file...\n",
      "XML file parsed successfully!\n",
      "Creating DataFrame...\n",
      "DataFrame created successfully!\n"
     ]
    },
    {
     "data": {
      "text/html": [
       "<div>\n",
       "<style scoped>\n",
       "    .dataframe tbody tr th:only-of-type {\n",
       "        vertical-align: middle;\n",
       "    }\n",
       "\n",
       "    .dataframe tbody tr th {\n",
       "        vertical-align: top;\n",
       "    }\n",
       "\n",
       "    .dataframe thead th {\n",
       "        text-align: right;\n",
       "    }\n",
       "</style>\n",
       "<table border=\"1\" class=\"dataframe\">\n",
       "  <thead>\n",
       "    <tr style=\"text-align: right;\">\n",
       "      <th></th>\n",
       "    </tr>\n",
       "  </thead>\n",
       "  <tbody>\n",
       "  </tbody>\n",
       "</table>\n",
       "</div>"
      ],
      "text/plain": [
       "Empty DataFrame\n",
       "Columns: []\n",
       "Index: []"
      ]
     },
     "execution_count": 33,
     "metadata": {},
     "output_type": "execute_result"
    }
   ],
   "source": [
    "import openpyxl\n",
    "import xml.etree.ElementTree as ET\n",
    "import pandas as pd\n",
    "\n",
    "# load and parse the file\n",
    "#fname = input('Enter File Name: ')\n",
    "xmlTree = ET.parse(path)\n",
    "print('Import successful!')\n",
    "print('Parsing XML file...')\n",
    "print(\"XML file parsed successfully!\")\n",
    "\n",
    "x = []\n",
    "\n",
    "for ele in xmlTree.findall('./item'):   \n",
    "    l = {}\n",
    "    for i in ele.getchildren():\n",
    "        l.update({i.tag:i.text})\n",
    "        print(i.tag)\n",
    "        x.append(l)\n",
    "#print(x)\n",
    "print(\"Creating DataFrame...\")\n",
    "df = pd.DataFrame(x)\n",
    "print(\"DataFrame created successfully!\")\n",
    "df"
   ]
  },
  {
   "cell_type": "code",
   "execution_count": 32,
   "id": "4da278b5",
   "metadata": {},
   "outputs": [
    {
     "data": {
      "text/html": [
       "<div>\n",
       "<style scoped>\n",
       "    .dataframe tbody tr th:only-of-type {\n",
       "        vertical-align: middle;\n",
       "    }\n",
       "\n",
       "    .dataframe tbody tr th {\n",
       "        vertical-align: top;\n",
       "    }\n",
       "\n",
       "    .dataframe thead th {\n",
       "        text-align: right;\n",
       "    }\n",
       "</style>\n",
       "<table border=\"1\" class=\"dataframe\">\n",
       "  <thead>\n",
       "    <tr style=\"text-align: right;\">\n",
       "      <th></th>\n",
       "    </tr>\n",
       "  </thead>\n",
       "  <tbody>\n",
       "  </tbody>\n",
       "</table>\n",
       "</div>"
      ],
      "text/plain": [
       "Empty DataFrame\n",
       "Columns: []\n",
       "Index: []"
      ]
     },
     "execution_count": 32,
     "metadata": {},
     "output_type": "execute_result"
    }
   ],
   "source": [
    "df"
   ]
  },
  {
   "cell_type": "code",
   "execution_count": 25,
   "id": "9dd73131",
   "metadata": {},
   "outputs": [
    {
     "data": {
      "text/html": [
       "<div>\n",
       "<style scoped>\n",
       "    .dataframe tbody tr th:only-of-type {\n",
       "        vertical-align: middle;\n",
       "    }\n",
       "\n",
       "    .dataframe tbody tr th {\n",
       "        vertical-align: top;\n",
       "    }\n",
       "\n",
       "    .dataframe thead th {\n",
       "        text-align: right;\n",
       "    }\n",
       "</style>\n",
       "<table border=\"1\" class=\"dataframe\">\n",
       "  <thead>\n",
       "    <tr style=\"text-align: right;\">\n",
       "      <th></th>\n",
       "      <th>TipoRelacion</th>\n",
       "      <th>{http://www.sat.gob.mx/cfd/4}CfdiRelacionado</th>\n",
       "      <th>Rfc</th>\n",
       "      <th>Nombre</th>\n",
       "      <th>RegimenFiscal</th>\n",
       "      <th>DomicilioFiscalReceptor</th>\n",
       "      <th>RegimenFiscalReceptor</th>\n",
       "      <th>UsoCFDI</th>\n",
       "      <th>{http://www.sat.gob.mx/cfd/4}Concepto</th>\n",
       "      <th>TotalImpuestosTrasladados</th>\n",
       "      <th>{http://www.sat.gob.mx/cfd/4}Traslados</th>\n",
       "      <th>{http://www.sat.gob.mx/implocal}ImpuestosLocales</th>\n",
       "      <th>{http://www.sat.gob.mx/TimbreFiscalDigital}TimbreFiscalDigital</th>\n",
       "    </tr>\n",
       "  </thead>\n",
       "  <tbody>\n",
       "    <tr>\n",
       "      <th>0</th>\n",
       "      <td>4.0</td>\n",
       "      <td>NaN</td>\n",
       "      <td>None</td>\n",
       "      <td>None</td>\n",
       "      <td>NaN</td>\n",
       "      <td>NaN</td>\n",
       "      <td>NaN</td>\n",
       "      <td>None</td>\n",
       "      <td>NaN</td>\n",
       "      <td>NaN</td>\n",
       "      <td>NaN</td>\n",
       "      <td>NaN</td>\n",
       "      <td>NaN</td>\n",
       "    </tr>\n",
       "    <tr>\n",
       "      <th>1</th>\n",
       "      <td>NaN</td>\n",
       "      <td>NaN</td>\n",
       "      <td>IHP810701G7A</td>\n",
       "      <td>INMOBILIARIA HOTELERA EL PRESIDENTE SAN JOSE D...</td>\n",
       "      <td>601.0</td>\n",
       "      <td>NaN</td>\n",
       "      <td>NaN</td>\n",
       "      <td>None</td>\n",
       "      <td>NaN</td>\n",
       "      <td>NaN</td>\n",
       "      <td>NaN</td>\n",
       "      <td>NaN</td>\n",
       "      <td>NaN</td>\n",
       "    </tr>\n",
       "    <tr>\n",
       "      <th>2</th>\n",
       "      <td>NaN</td>\n",
       "      <td>NaN</td>\n",
       "      <td>CME891127EA1</td>\n",
       "      <td>COATS MEXICO</td>\n",
       "      <td>NaN</td>\n",
       "      <td>10200.0</td>\n",
       "      <td>601.0</td>\n",
       "      <td>G03</td>\n",
       "      <td>NaN</td>\n",
       "      <td>NaN</td>\n",
       "      <td>NaN</td>\n",
       "      <td>NaN</td>\n",
       "      <td>NaN</td>\n",
       "    </tr>\n",
       "    <tr>\n",
       "      <th>3</th>\n",
       "      <td>NaN</td>\n",
       "      <td>NaN</td>\n",
       "      <td>None</td>\n",
       "      <td>None</td>\n",
       "      <td>NaN</td>\n",
       "      <td>NaN</td>\n",
       "      <td>NaN</td>\n",
       "      <td>None</td>\n",
       "      <td>NaN</td>\n",
       "      <td>NaN</td>\n",
       "      <td>NaN</td>\n",
       "      <td>NaN</td>\n",
       "      <td>NaN</td>\n",
       "    </tr>\n",
       "    <tr>\n",
       "      <th>4</th>\n",
       "      <td>NaN</td>\n",
       "      <td>NaN</td>\n",
       "      <td>None</td>\n",
       "      <td>None</td>\n",
       "      <td>NaN</td>\n",
       "      <td>NaN</td>\n",
       "      <td>NaN</td>\n",
       "      <td>None</td>\n",
       "      <td>NaN</td>\n",
       "      <td>705.52</td>\n",
       "      <td>NaN</td>\n",
       "      <td>NaN</td>\n",
       "      <td>NaN</td>\n",
       "    </tr>\n",
       "    <tr>\n",
       "      <th>5</th>\n",
       "      <td>NaN</td>\n",
       "      <td>NaN</td>\n",
       "      <td>None</td>\n",
       "      <td>None</td>\n",
       "      <td>NaN</td>\n",
       "      <td>NaN</td>\n",
       "      <td>NaN</td>\n",
       "      <td>None</td>\n",
       "      <td>NaN</td>\n",
       "      <td>NaN</td>\n",
       "      <td>NaN</td>\n",
       "      <td>NaN</td>\n",
       "      <td>NaN</td>\n",
       "    </tr>\n",
       "  </tbody>\n",
       "</table>\n",
       "</div>"
      ],
      "text/plain": [
       "   TipoRelacion  {http://www.sat.gob.mx/cfd/4}CfdiRelacionado           Rfc  \\\n",
       "0           4.0                                           NaN          None   \n",
       "1           NaN                                           NaN  IHP810701G7A   \n",
       "2           NaN                                           NaN  CME891127EA1   \n",
       "3           NaN                                           NaN          None   \n",
       "4           NaN                                           NaN          None   \n",
       "5           NaN                                           NaN          None   \n",
       "\n",
       "                                              Nombre  RegimenFiscal  \\\n",
       "0                                               None            NaN   \n",
       "1  INMOBILIARIA HOTELERA EL PRESIDENTE SAN JOSE D...          601.0   \n",
       "2                                       COATS MEXICO            NaN   \n",
       "3                                               None            NaN   \n",
       "4                                               None            NaN   \n",
       "5                                               None            NaN   \n",
       "\n",
       "   DomicilioFiscalReceptor  RegimenFiscalReceptor UsoCFDI  \\\n",
       "0                      NaN                    NaN    None   \n",
       "1                      NaN                    NaN    None   \n",
       "2                  10200.0                  601.0     G03   \n",
       "3                      NaN                    NaN    None   \n",
       "4                      NaN                    NaN    None   \n",
       "5                      NaN                    NaN    None   \n",
       "\n",
       "   {http://www.sat.gob.mx/cfd/4}Concepto  TotalImpuestosTrasladados  \\\n",
       "0                                    NaN                        NaN   \n",
       "1                                    NaN                        NaN   \n",
       "2                                    NaN                        NaN   \n",
       "3                                    NaN                        NaN   \n",
       "4                                    NaN                     705.52   \n",
       "5                                    NaN                        NaN   \n",
       "\n",
       "   {http://www.sat.gob.mx/cfd/4}Traslados  \\\n",
       "0                                     NaN   \n",
       "1                                     NaN   \n",
       "2                                     NaN   \n",
       "3                                     NaN   \n",
       "4                                     NaN   \n",
       "5                                     NaN   \n",
       "\n",
       "   {http://www.sat.gob.mx/implocal}ImpuestosLocales  \\\n",
       "0                                               NaN   \n",
       "1                                               NaN   \n",
       "2                                               NaN   \n",
       "3                                               NaN   \n",
       "4                                               NaN   \n",
       "5                                               NaN   \n",
       "\n",
       "   {http://www.sat.gob.mx/TimbreFiscalDigital}TimbreFiscalDigital  \n",
       "0                                                NaN               \n",
       "1                                                NaN               \n",
       "2                                                NaN               \n",
       "3                                                NaN               \n",
       "4                                                NaN               \n",
       "5                                                NaN               "
      ]
     },
     "execution_count": 25,
     "metadata": {},
     "output_type": "execute_result"
    }
   ],
   "source": [
    "pd.read_xml('c:/Users/jonat/Downloads/0a6c2309-0701-5248-901e-4e3a5f4aa63b.xml', encoding='utf-8')"
   ]
  },
  {
   "cell_type": "code",
   "execution_count": null,
   "id": "59b6d778",
   "metadata": {},
   "outputs": [],
   "source": [
    "with zipfile('') as "
   ]
  },
  {
   "cell_type": "code",
   "execution_count": 139,
   "id": "1bfe8406",
   "metadata": {},
   "outputs": [],
   "source": [
    "# standard imports and setup \n",
    "import pandas as pd\n",
    "import matplotlib.pyplot as plt\n",
    "import seaborn as sns\n",
    "import plotly.express as px\n",
    "import plotly.graph_objects as go\n",
    "from sklearn import metrics\n",
    "import matplotlib.pyplot as plt\n",
    "import seaborn as sns\n",
    "import pandas as pd\n",
    "import numpy as np\n",
    "import scipy\n",
    "import re\n",
    "\n",
    "# model evaluation\n",
    "from sklearn.metrics import balanced_accuracy_score\n",
    "from sklearn.metrics import accuracy_score\n",
    "from sklearn.metrics import recall_score\n",
    "from sklearn.metrics import roc_auc_score\n",
    "from sklearn.metrics import f1_score\n",
    "from sklearn.metrics import precision_score\n",
    "from sklearn.metrics import plot_confusion_matrix\n",
    "\n",
    "# data preparation\n",
    "from sklearn.preprocessing import StandardScaler\n",
    "from sklearn.model_selection import StratifiedKFold\n",
    "from imblearn.over_sampling import SMOTE\n",
    "\n",
    "# machine learning\n",
    "from sklearn.neighbors import KNeighborsClassifier # KNN\n",
    "from sklearn.linear_model import LogisticRegression # Regresion Logistica\n",
    "from sklearn.ensemble import RandomForestClassifier # Random Forest\n",
    "from xgboost import XGBClassifier\n",
    "import optuna\n",
    "\n",
    "# remove warnings\n",
    "import warnings\n",
    "warnings.filterwarnings('ignore')"
   ]
  },
  {
   "cell_type": "code",
   "execution_count": 168,
   "id": "ed9fdb8d",
   "metadata": {
    "scrolled": false
   },
   "outputs": [
    {
     "data": {
      "text/html": [
       "<div>\n",
       "<style scoped>\n",
       "    .dataframe tbody tr th:only-of-type {\n",
       "        vertical-align: middle;\n",
       "    }\n",
       "\n",
       "    .dataframe tbody tr th {\n",
       "        vertical-align: top;\n",
       "    }\n",
       "\n",
       "    .dataframe thead th {\n",
       "        text-align: right;\n",
       "    }\n",
       "</style>\n",
       "<table border=\"1\" class=\"dataframe\">\n",
       "  <thead>\n",
       "    <tr style=\"text-align: right;\">\n",
       "      <th></th>\n",
       "      <th>age</th>\n",
       "      <th>job</th>\n",
       "      <th>marital</th>\n",
       "      <th>education</th>\n",
       "      <th>default</th>\n",
       "      <th>housing</th>\n",
       "      <th>loan</th>\n",
       "      <th>contact</th>\n",
       "      <th>month</th>\n",
       "      <th>day_of_week</th>\n",
       "      <th>...</th>\n",
       "      <th>campaign</th>\n",
       "      <th>pdays</th>\n",
       "      <th>previous</th>\n",
       "      <th>poutcome</th>\n",
       "      <th>emp.var.rate</th>\n",
       "      <th>cons.price.idx</th>\n",
       "      <th>cons.conf.idx</th>\n",
       "      <th>euribor3m</th>\n",
       "      <th>nr.employed</th>\n",
       "      <th>y</th>\n",
       "    </tr>\n",
       "  </thead>\n",
       "  <tbody>\n",
       "    <tr>\n",
       "      <th>0</th>\n",
       "      <td>56</td>\n",
       "      <td>housemaid</td>\n",
       "      <td>married</td>\n",
       "      <td>basic.4y</td>\n",
       "      <td>no</td>\n",
       "      <td>no</td>\n",
       "      <td>no</td>\n",
       "      <td>telephone</td>\n",
       "      <td>may</td>\n",
       "      <td>mon</td>\n",
       "      <td>...</td>\n",
       "      <td>1</td>\n",
       "      <td>999</td>\n",
       "      <td>0</td>\n",
       "      <td>nonexistent</td>\n",
       "      <td>1.1</td>\n",
       "      <td>93.994</td>\n",
       "      <td>-36.4</td>\n",
       "      <td>4.857</td>\n",
       "      <td>5191.0</td>\n",
       "      <td>no</td>\n",
       "    </tr>\n",
       "    <tr>\n",
       "      <th>1</th>\n",
       "      <td>57</td>\n",
       "      <td>services</td>\n",
       "      <td>married</td>\n",
       "      <td>high.school</td>\n",
       "      <td>unknown</td>\n",
       "      <td>no</td>\n",
       "      <td>no</td>\n",
       "      <td>telephone</td>\n",
       "      <td>may</td>\n",
       "      <td>mon</td>\n",
       "      <td>...</td>\n",
       "      <td>1</td>\n",
       "      <td>999</td>\n",
       "      <td>0</td>\n",
       "      <td>nonexistent</td>\n",
       "      <td>1.1</td>\n",
       "      <td>93.994</td>\n",
       "      <td>-36.4</td>\n",
       "      <td>4.857</td>\n",
       "      <td>5191.0</td>\n",
       "      <td>no</td>\n",
       "    </tr>\n",
       "    <tr>\n",
       "      <th>2</th>\n",
       "      <td>37</td>\n",
       "      <td>services</td>\n",
       "      <td>married</td>\n",
       "      <td>high.school</td>\n",
       "      <td>no</td>\n",
       "      <td>yes</td>\n",
       "      <td>no</td>\n",
       "      <td>telephone</td>\n",
       "      <td>may</td>\n",
       "      <td>mon</td>\n",
       "      <td>...</td>\n",
       "      <td>1</td>\n",
       "      <td>999</td>\n",
       "      <td>0</td>\n",
       "      <td>nonexistent</td>\n",
       "      <td>1.1</td>\n",
       "      <td>93.994</td>\n",
       "      <td>-36.4</td>\n",
       "      <td>4.857</td>\n",
       "      <td>5191.0</td>\n",
       "      <td>no</td>\n",
       "    </tr>\n",
       "    <tr>\n",
       "      <th>3</th>\n",
       "      <td>40</td>\n",
       "      <td>admin.</td>\n",
       "      <td>married</td>\n",
       "      <td>basic.6y</td>\n",
       "      <td>no</td>\n",
       "      <td>no</td>\n",
       "      <td>no</td>\n",
       "      <td>telephone</td>\n",
       "      <td>may</td>\n",
       "      <td>mon</td>\n",
       "      <td>...</td>\n",
       "      <td>1</td>\n",
       "      <td>999</td>\n",
       "      <td>0</td>\n",
       "      <td>nonexistent</td>\n",
       "      <td>1.1</td>\n",
       "      <td>93.994</td>\n",
       "      <td>-36.4</td>\n",
       "      <td>4.857</td>\n",
       "      <td>5191.0</td>\n",
       "      <td>no</td>\n",
       "    </tr>\n",
       "    <tr>\n",
       "      <th>4</th>\n",
       "      <td>56</td>\n",
       "      <td>services</td>\n",
       "      <td>married</td>\n",
       "      <td>high.school</td>\n",
       "      <td>no</td>\n",
       "      <td>no</td>\n",
       "      <td>yes</td>\n",
       "      <td>telephone</td>\n",
       "      <td>may</td>\n",
       "      <td>mon</td>\n",
       "      <td>...</td>\n",
       "      <td>1</td>\n",
       "      <td>999</td>\n",
       "      <td>0</td>\n",
       "      <td>nonexistent</td>\n",
       "      <td>1.1</td>\n",
       "      <td>93.994</td>\n",
       "      <td>-36.4</td>\n",
       "      <td>4.857</td>\n",
       "      <td>5191.0</td>\n",
       "      <td>no</td>\n",
       "    </tr>\n",
       "  </tbody>\n",
       "</table>\n",
       "<p>5 rows × 21 columns</p>\n",
       "</div>"
      ],
      "text/plain": [
       "   age        job  marital    education  default housing loan    contact  \\\n",
       "0   56  housemaid  married     basic.4y       no      no   no  telephone   \n",
       "1   57   services  married  high.school  unknown      no   no  telephone   \n",
       "2   37   services  married  high.school       no     yes   no  telephone   \n",
       "3   40     admin.  married     basic.6y       no      no   no  telephone   \n",
       "4   56   services  married  high.school       no      no  yes  telephone   \n",
       "\n",
       "  month day_of_week  ...  campaign  pdays  previous     poutcome emp.var.rate  \\\n",
       "0   may         mon  ...         1    999         0  nonexistent          1.1   \n",
       "1   may         mon  ...         1    999         0  nonexistent          1.1   \n",
       "2   may         mon  ...         1    999         0  nonexistent          1.1   \n",
       "3   may         mon  ...         1    999         0  nonexistent          1.1   \n",
       "4   may         mon  ...         1    999         0  nonexistent          1.1   \n",
       "\n",
       "   cons.price.idx  cons.conf.idx  euribor3m  nr.employed   y  \n",
       "0          93.994          -36.4      4.857       5191.0  no  \n",
       "1          93.994          -36.4      4.857       5191.0  no  \n",
       "2          93.994          -36.4      4.857       5191.0  no  \n",
       "3          93.994          -36.4      4.857       5191.0  no  \n",
       "4          93.994          -36.4      4.857       5191.0  no  \n",
       "\n",
       "[5 rows x 21 columns]"
      ]
     },
     "execution_count": 168,
     "metadata": {},
     "output_type": "execute_result"
    }
   ],
   "source": [
    "#=================\n",
    "df = pd.read_csv('../data/bank-additional-full.csv',sep = ';')\n",
    "df.head(5)"
   ]
  },
  {
   "cell_type": "code",
   "execution_count": 214,
   "id": "5b0e9238",
   "metadata": {},
   "outputs": [],
   "source": [
    "#================================ GET X AND Y ==================================#\n",
    "def data_trasnform(df: pd.DataFrame,smote = False):\n",
    "    '''\n",
    "        this function apply encoding, standar scaler , split \n",
    "        independent variabe and dependet variable and SMOTE\n",
    "        \n",
    "        inputs:\n",
    "            df: pd.DataFrame\n",
    "            smote: default False\n",
    "    '''\n",
    "    \n",
    "    # ============== Feature engeniering======================#\n",
    "    df['age_group'] =  pd.cut(x=df['age'], bins=[15,30,40,50,60,100],\\\n",
    "                    labels= ['15-30' , '30 -40' , '40 - 50', '50 - 60' , '60 - mas'])\n",
    "    \n",
    "    #===============One Hot Encoding=======================#\n",
    "    df=pd.get_dummies(data=df, drop_first=True)\n",
    "    \n",
    "    # ============== STANDARD SCALER=======================#\n",
    "    scaler = StandardScaler()\n",
    "    df_scaler = scaler.fit_transform(df)\n",
    "    df_scaler = pd.DataFrame(df_scaler, columns=df.columns)\n",
    "    \n",
    "    def change_target(x):\n",
    "        '''\n",
    "        Transforma la variable target en 0 y 1 luego del Scaler\n",
    "        '''\n",
    "        if x < 0:\n",
    "            return 0\n",
    "        else:\n",
    "            return 1\n",
    "    \n",
    "    df_scaler['y_yes'] = df_scaler['y_yes'].apply(change_target)\n",
    "    \n",
    "    # =====split dependent and independent feature===========# \n",
    "    X = df_scaler.loc[:,df.columns != 'y_yes'].values\n",
    "    y = df_scaler.loc[:,'y_yes'].values\n",
    "    \n",
    "    #=========== Synthetic Minority Oversamping Technique=============#\n",
    "    if smote:\n",
    "        \n",
    "        #CLASS RATIO TARGET DATASET\n",
    "        original_ = sum(df['y_yes'])/len(df['y_yes'])\n",
    "        #print('Class Ratio 1 ORIGINAL',original_)\n",
    "        \n",
    "        sm = SMOTE()\n",
    "        X, y = sm.fit_resample(X, y)\n",
    "        print('X.shape:',X.shape,'y.shape:',y.shape)\n",
    "        \n",
    "    return X, y\n",
    "\n",
    "def plot_matrix(clf,X,y):\n",
    "    name_model = str(type(clf))\n",
    "    regex_model = \"'(.*)'\"\n",
    "    name_model = re.search(regex_model,name_model).group(1)\n",
    "    matrix = plot_confusion_matrix(clf, X, y, cmap=plt.cm.Blues)\n",
    "    matrix.ax_.set_title('Confusion Matrix - {}'.format(name_model), color=color)\n",
    "    plt.xlabel('Predicted Label', color=color)\n",
    "    plt.ylabel('True Label', color=color)\n",
    "    return plt.show()\n",
    "\n",
    "def classifier_SKF(clf,X,y, n_splits = 10):\n",
    "    \n",
    "    skf = StratifiedKFold(n_splits=n_splits)\n",
    "\n",
    "    balanced_accuracy_score_list = []\n",
    "    accuracy_score_list = []\n",
    "    roc_auc_score_list = []\n",
    "    f1_score_list = []\n",
    "    precision_score_list = []\n",
    "    recall_score_list = []\n",
    "\n",
    "    for idx in skf.split(X, y):\n",
    "        train_idx, test_idx = idx[0], idx[1]\n",
    "        xtrain = X[train_idx]\n",
    "        ytrain = y[train_idx]\n",
    "\n",
    "        xtest = X[test_idx]\n",
    "        ytest = y[test_idx]\n",
    "\n",
    "        clf.fit(xtrain,ytrain)\n",
    "        preds = clf.predict(xtest)\n",
    "\n",
    "        #===============balance_accuracy_score=========#\n",
    "        fold_acc = balanced_accuracy_score(ytest, preds)\n",
    "        balanced_accuracy_score_list.append(fold_acc)\n",
    "\n",
    "        #==============Accuracy_score==================#\n",
    "        fold_acc = accuracy_score(ytest, preds)\n",
    "        accuracy_score_list.append(fold_acc)\n",
    "\n",
    "        #=================roc_auc_score================#\n",
    "        fold_acc = roc_auc_score(ytest, preds,multi_class='ovr')\n",
    "        roc_auc_score_list.append(fold_acc)\n",
    "\n",
    "        #==================f1_score====================#\n",
    "        fold_acc = f1_score(ytest, preds)\n",
    "        f1_score_list.append(fold_acc)\n",
    "\n",
    "        #==============precision_score=================#\n",
    "        fold_acc = precision_score(ytest, preds)\n",
    "        precision_score_list.append(fold_acc)\n",
    "\n",
    "        #================recall_score==================#\n",
    "        fold_acc = recall_score(ytest, preds)\n",
    "        recall_score_list.append(fold_acc)\n",
    "\n",
    "\n",
    "    # ======================= Metrics======================================#    \n",
    "    balance_accuracy_score_ = scipy.stats.gmean(balanced_accuracy_score_list)\n",
    "\n",
    "    accuracy_score_ = scipy.stats.gmean(accuracy_score_list)\n",
    "\n",
    "    roc_auc_score_ = scipy.stats.gmean(roc_auc_score_list)\n",
    "\n",
    "    f1_score_ = scipy.stats.gmean(f1_score_list)\n",
    "\n",
    "    precision_score_ = scipy.stats.gmean(precision_score_list)\n",
    "\n",
    "    recall_score_ = scipy.stats.gmean(recall_score_list)\n",
    "\n",
    "    data = [['balance_accuracy_score',balance_accuracy_score_],\n",
    "            ['accuracy_score',accuracy_score_],\n",
    "            ['roc_auc_score',roc_auc_score_],\n",
    "            ['f1_score',f1_score_],\n",
    "            ['precision_score',precision_score_],\n",
    "            ['recall_score',recall_score_]]\n",
    "    columns = ['Metrics','Values']\n",
    "    df = pd.DataFrame(data = data, columns=columns)\n",
    "    display(df)\n",
    "    \n",
    "    #print confusion matrix\n",
    "    plot_matrix(clf,X,y)   \n",
    "    return clf\n"
   ]
  },
  {
   "cell_type": "code",
   "execution_count": null,
   "id": "e995c6a1",
   "metadata": {},
   "outputs": [],
   "source": [
    "X,y = data_trasnform(df, smote=True)"
   ]
  },
  {
   "cell_type": "code",
   "execution_count": 215,
   "id": "d4745307",
   "metadata": {},
   "outputs": [
    {
     "data": {
      "text/html": [
       "<div>\n",
       "<style scoped>\n",
       "    .dataframe tbody tr th:only-of-type {\n",
       "        vertical-align: middle;\n",
       "    }\n",
       "\n",
       "    .dataframe tbody tr th {\n",
       "        vertical-align: top;\n",
       "    }\n",
       "\n",
       "    .dataframe thead th {\n",
       "        text-align: right;\n",
       "    }\n",
       "</style>\n",
       "<table border=\"1\" class=\"dataframe\">\n",
       "  <thead>\n",
       "    <tr style=\"text-align: right;\">\n",
       "      <th></th>\n",
       "      <th>Metrics</th>\n",
       "      <th>Values</th>\n",
       "    </tr>\n",
       "  </thead>\n",
       "  <tbody>\n",
       "    <tr>\n",
       "      <th>0</th>\n",
       "      <td>balance_accuracy_score</td>\n",
       "      <td>0.833447</td>\n",
       "    </tr>\n",
       "    <tr>\n",
       "      <th>1</th>\n",
       "      <td>accuracy_score</td>\n",
       "      <td>0.833450</td>\n",
       "    </tr>\n",
       "    <tr>\n",
       "      <th>2</th>\n",
       "      <td>roc_auc_score</td>\n",
       "      <td>0.833447</td>\n",
       "    </tr>\n",
       "    <tr>\n",
       "      <th>3</th>\n",
       "      <td>f1_score</td>\n",
       "      <td>0.858813</td>\n",
       "    </tr>\n",
       "    <tr>\n",
       "      <th>4</th>\n",
       "      <td>precision_score</td>\n",
       "      <td>0.823282</td>\n",
       "    </tr>\n",
       "    <tr>\n",
       "      <th>5</th>\n",
       "      <td>recall_score</td>\n",
       "      <td>0.906992</td>\n",
       "    </tr>\n",
       "  </tbody>\n",
       "</table>\n",
       "</div>"
      ],
      "text/plain": [
       "                  Metrics    Values\n",
       "0  balance_accuracy_score  0.833447\n",
       "1          accuracy_score  0.833450\n",
       "2           roc_auc_score  0.833447\n",
       "3                f1_score  0.858813\n",
       "4         precision_score  0.823282\n",
       "5            recall_score  0.906992"
      ]
     },
     "metadata": {},
     "output_type": "display_data"
    },
    {
     "data": {
      "image/png": "[encoded data removed]",
      "text/plain": [
       "<Figure size 432x288 with 2 Axes>"
      ]
     },
     "metadata": {
      "needs_background": "light"
     },
     "output_type": "display_data"
    },
    {
     "name": "stdout",
     "output_type": "stream",
     "text": [
      "Wall time: 9.1 s\n"
     ]
    }
   ],
   "source": [
    "%%time\n",
    "# =========== model reference =============#\n",
    "clf_logistic = LogisticRegression()\n",
    "clf_logistic = classifier_SKF(clf_logistic,X,y)"
   ]
  },
  {
   "cell_type": "code",
   "execution_count": 212,
   "id": "cfa80186",
   "metadata": {},
   "outputs": [
    {
     "name": "stdout",
     "output_type": "stream",
     "text": [
      "X.shape: (73096, 57) y.shape: (73096,)\n"
     ]
    },
    {
     "data": {
      "text/html": [
       "<div>\n",
       "<style scoped>\n",
       "    .dataframe tbody tr th:only-of-type {\n",
       "        vertical-align: middle;\n",
       "    }\n",
       "\n",
       "    .dataframe tbody tr th {\n",
       "        vertical-align: top;\n",
       "    }\n",
       "\n",
       "    .dataframe thead th {\n",
       "        text-align: right;\n",
       "    }\n",
       "</style>\n",
       "<table border=\"1\" class=\"dataframe\">\n",
       "  <thead>\n",
       "    <tr style=\"text-align: right;\">\n",
       "      <th></th>\n",
       "      <th>Metrics</th>\n",
       "      <th>Values</th>\n",
       "    </tr>\n",
       "  </thead>\n",
       "  <tbody>\n",
       "    <tr>\n",
       "      <th>0</th>\n",
       "      <td>balance_accuracy_score</td>\n",
       "      <td>0.835182</td>\n",
       "    </tr>\n",
       "    <tr>\n",
       "      <th>1</th>\n",
       "      <td>accuracy_score</td>\n",
       "      <td>0.835185</td>\n",
       "    </tr>\n",
       "    <tr>\n",
       "      <th>2</th>\n",
       "      <td>roc_auc_score</td>\n",
       "      <td>0.835182</td>\n",
       "    </tr>\n",
       "    <tr>\n",
       "      <th>3</th>\n",
       "      <td>f1_score</td>\n",
       "      <td>0.801999</td>\n",
       "    </tr>\n",
       "    <tr>\n",
       "      <th>4</th>\n",
       "      <td>precision_score</td>\n",
       "      <td>0.844823</td>\n",
       "    </tr>\n",
       "    <tr>\n",
       "      <th>5</th>\n",
       "      <td>recall_score</td>\n",
       "      <td>0.826156</td>\n",
       "    </tr>\n",
       "  </tbody>\n",
       "</table>\n",
       "</div>"
      ],
      "text/plain": [
       "                  Metrics    Values\n",
       "0  balance_accuracy_score  0.835182\n",
       "1          accuracy_score  0.835185\n",
       "2           roc_auc_score  0.835182\n",
       "3                f1_score  0.801999\n",
       "4         precision_score  0.844823\n",
       "5            recall_score  0.826156"
      ]
     },
     "metadata": {},
     "output_type": "display_data"
    },
    {
     "data": {
      "image/png": "[encoded data removed]",
      "text/plain": [
       "<Figure size 432x288 with 2 Axes>"
      ]
     },
     "metadata": {
      "needs_background": "light"
     },
     "output_type": "display_data"
    },
    {
     "name": "stdout",
     "output_type": "stream",
     "text": [
      "Wall time: 2min 59s\n"
     ]
    }
   ],
   "source": [
    "%%time\n",
    "clf_xgb = XGBClassifier(**best_param_xgb)\n",
    "clf_xgb = classifier_SKF(clf_xgb,X,y)"
   ]
  },
  {
   "cell_type": "code",
   "execution_count": 216,
   "id": "f22d9437",
   "metadata": {},
   "outputs": [
    {
     "data": {
      "text/html": [
       "<div>\n",
       "<style scoped>\n",
       "    .dataframe tbody tr th:only-of-type {\n",
       "        vertical-align: middle;\n",
       "    }\n",
       "\n",
       "    .dataframe tbody tr th {\n",
       "        vertical-align: top;\n",
       "    }\n",
       "\n",
       "    .dataframe thead th {\n",
       "        text-align: right;\n",
       "    }\n",
       "</style>\n",
       "<table border=\"1\" class=\"dataframe\">\n",
       "  <thead>\n",
       "    <tr style=\"text-align: right;\">\n",
       "      <th></th>\n",
       "      <th>Metrics</th>\n",
       "      <th>Values</th>\n",
       "    </tr>\n",
       "  </thead>\n",
       "  <tbody>\n",
       "    <tr>\n",
       "      <th>0</th>\n",
       "      <td>balance_accuracy_score</td>\n",
       "      <td>0.833549</td>\n",
       "    </tr>\n",
       "    <tr>\n",
       "      <th>1</th>\n",
       "      <td>accuracy_score</td>\n",
       "      <td>0.833550</td>\n",
       "    </tr>\n",
       "    <tr>\n",
       "      <th>2</th>\n",
       "      <td>roc_auc_score</td>\n",
       "      <td>0.833549</td>\n",
       "    </tr>\n",
       "    <tr>\n",
       "      <th>3</th>\n",
       "      <td>f1_score</td>\n",
       "      <td>0.864437</td>\n",
       "    </tr>\n",
       "    <tr>\n",
       "      <th>4</th>\n",
       "      <td>precision_score</td>\n",
       "      <td>0.808553</td>\n",
       "    </tr>\n",
       "    <tr>\n",
       "      <th>5</th>\n",
       "      <td>recall_score</td>\n",
       "      <td>0.949574</td>\n",
       "    </tr>\n",
       "  </tbody>\n",
       "</table>\n",
       "</div>"
      ],
      "text/plain": [
       "                  Metrics    Values\n",
       "0  balance_accuracy_score  0.833549\n",
       "1          accuracy_score  0.833550\n",
       "2           roc_auc_score  0.833549\n",
       "3                f1_score  0.864437\n",
       "4         precision_score  0.808553\n",
       "5            recall_score  0.949574"
      ]
     },
     "metadata": {},
     "output_type": "display_data"
    },
    {
     "data": {
      "image/png": "[encoded data removed]",
      "text/plain": [
       "<Figure size 432x288 with 2 Axes>"
      ]
     },
     "metadata": {
      "needs_background": "light"
     },
     "output_type": "display_data"
    },
    {
     "name": "stdout",
     "output_type": "stream",
     "text": [
      "Wall time: 1min 26s\n"
     ]
    }
   ],
   "source": [
    "%%time\n",
    "clf_rf = RandomForestClassifier()\n",
    "clf_rf = classifier_SKF(clf_rf,X,y)"
   ]
  },
  {
   "cell_type": "code",
   "execution_count": 198,
   "id": "09caf3ca",
   "metadata": {},
   "outputs": [
    {
     "data": {
      "text/plain": [
       "\"XGBClassifier(alpha=0.06348329291978623, base_score=0.5, booster='gbtree',\\n              callbacks=None, colsample_bylevel=1, colsample_bynode=1,\\n              colsample_bytree=1.0, early_stopping_rounds=None,\\n              enable_categorical=False, eval_metric=None, gamma=0, gpu_id=0,\\n              grow_policy='depthwise', importance_type=None,\\n              interaction_constraints='', lambda=1.0817334952464273,\\n              learning_rate=0.01, max_bin=256, max_cat_to_onehot=4,\\n              max_delta_step=0, max_depth=5, max_leaves=0, min_child_weight=300,\\n              missing=nan, monotone_constraints='()', n_estimators=5204,\\n              n_jobs=0, num_parallel_tree=1, predictor='auto', random_state=0, ...)\""
      ]
     },
     "execution_count": 198,
     "metadata": {},
     "output_type": "execute_result"
    }
   ],
   "source": [
    "clf_xgb."
   ]
  },
  {
   "cell_type": "code",
   "execution_count": 202,
   "id": "45aa55b7",
   "metadata": {},
   "outputs": [
    {
     "data": {
      "text/plain": [
       "'xgboost.sklearn.XGBClassifier'"
      ]
     },
     "execution_count": 202,
     "metadata": {},
     "output_type": "execute_result"
    }
   ],
   "source": [
    "import re\n",
    "name_model = str(type(clf_xgb))\n",
    "regex_model = \"'(.*)'\"\n",
    "re.search(regex_model,name_model).group(1)"
   ]
  },
  {
   "cell_type": "code",
   "execution_count": 206,
   "id": "e22f9400",
   "metadata": {},
   "outputs": [
    {
     "data": {
      "image/png": "[encoded data removed]",
      "text/plain": [
       "<Figure size 432x288 with 2 Axes>"
      ]
     },
     "metadata": {
      "needs_background": "light"
     },
     "output_type": "display_data"
    }
   ],
   "source": [
    "import matplotlib.pyplot as plt\n",
    "from sklearn.metrics import plot_confusion_matrix\n",
    "\n",
    "def plot_matrix(clf,X,y):\n",
    "    name_model = str(type(clf_xgb))\n",
    "    regex_model = \"'(.*)'\"\n",
    "    name_model = re.search(regex_model,name_model).group(1)\n",
    "    matrix = plot_confusion_matrix(clf, X, y, cmap=plt.cm.Blues)\n",
    "    matrix.ax_.set_title('Confusion Matrix - {}'.format(name_model), color=color)\n",
    "    plt.xlabel('Predicted Label', color=color)\n",
    "    plt.ylabel('True Label', color=color)\n",
    "    return plt.show()\n",
    "\n",
    "plot_matrix(clf_xgb,X,y)"
   ]
  },
  {
   "cell_type": "code",
   "execution_count": 178,
   "id": "e6ae870b",
   "metadata": {},
   "outputs": [
    {
     "data": {
      "text/plain": [
       "<function sklearn.metrics._plot.confusion_matrix.plot_confusion_matrix(estimator, X, y_true, *, labels=None, sample_weight=None, normalize=None, display_labels=None, include_values=True, xticks_rotation='horizontal', values_format=None, cmap='viridis', ax=None, colorbar=True)>"
      ]
     },
     "execution_count": 178,
     "metadata": {},
     "output_type": "execute_result"
    }
   ],
   "source": [
    "import matplotlib.pyplot as plt\n",
    "from sklearn.metrics import plot_confusion_matrix\n",
    "plot_confusion_matrix()"
   ]
  },
  {
   "cell_type": "code",
   "execution_count": 177,
   "id": "45c587df",
   "metadata": {},
   "outputs": [
    {
     "ename": "TypeError",
     "evalue": "__init__() got an unexpected keyword argument 'cmap'",
     "output_type": "error",
     "traceback": [
      "\u001b[1;31m---------------------------------------------------------------------------\u001b[0m",
      "\u001b[1;31mTypeError\u001b[0m                                 Traceback (most recent call last)",
      "\u001b[1;32m~\\AppData\\Local\\Temp/ipykernel_1320/1080280262.py\u001b[0m in \u001b[0;36m<module>\u001b[1;34m\u001b[0m\n\u001b[0;32m      3\u001b[0m \u001b[1;33m\u001b[0m\u001b[0m\n\u001b[0;32m      4\u001b[0m \u001b[1;32mfrom\u001b[0m \u001b[0msklearn\u001b[0m\u001b[1;33m.\u001b[0m\u001b[0mmetrics\u001b[0m \u001b[1;32mimport\u001b[0m \u001b[0mconfusion_matrix\u001b[0m\u001b[1;33m,\u001b[0m \u001b[0mConfusionMatrixDisplay\u001b[0m\u001b[1;33m\u001b[0m\u001b[1;33m\u001b[0m\u001b[0m\n\u001b[1;32m----> 5\u001b[1;33m \u001b[0mConfusionMatrixDisplay\u001b[0m \u001b[1;33m=\u001b[0m \u001b[0mConfusionMatrixDisplay\u001b[0m\u001b[1;33m(\u001b[0m\u001b[0mmatrix_\u001b[0m\u001b[1;33m,\u001b[0m \u001b[0mcmap\u001b[0m \u001b[1;33m=\u001b[0m\u001b[0mplt\u001b[0m\u001b[1;33m.\u001b[0m\u001b[0mcm\u001b[0m\u001b[1;33m.\u001b[0m\u001b[0mBlues\u001b[0m \u001b[1;33m)\u001b[0m\u001b[1;33m\u001b[0m\u001b[1;33m\u001b[0m\u001b[0m\n\u001b[0m\u001b[0;32m      6\u001b[0m \u001b[0mConfusionMatrixDisplay\u001b[0m\u001b[1;33m.\u001b[0m\u001b[0mplot\u001b[0m\u001b[1;33m(\u001b[0m\u001b[1;33m)\u001b[0m\u001b[1;33m\u001b[0m\u001b[1;33m\u001b[0m\u001b[0m\n",
      "\u001b[1;31mTypeError\u001b[0m: __init__() got an unexpected keyword argument 'cmap'"
     ]
    }
   ],
   "source": [
    "from sklearn.metrics import confusion_matrix\n",
    "matrix_ = confusion_matrix(y,predict)\n",
    "\n",
    "from sklearn.metrics import confusion_matrix, ConfusionMatrixDisplay\n",
    "ConfusionMatrixDisplay = ConfusionMatrixDisplay(matrix_, cmap =plt.cm.Blues )\n",
    "ConfusionMatrixDisplay.plot()"
   ]
  },
  {
   "cell_type": "code",
   "execution_count": 105,
   "id": "1aedcab7",
   "metadata": {},
   "outputs": [
    {
     "name": "stdout",
     "output_type": "stream",
     "text": [
      "X.shape: (73096, 53) y.shape: (73096,)\n"
     ]
    }
   ],
   "source": [
    "X,y = data_trasnform(df, smote=True)"
   ]
  },
  {
   "cell_type": "code",
   "execution_count": 158,
   "id": "7336376e",
   "metadata": {},
   "outputs": [],
   "source": [
    "clf_xgb = XGBClassifier(**best_param_xgb)\n",
    "clf_xgb"
   ]
  },
  {
   "cell_type": "code",
   "execution_count": null,
   "id": "2c195f91",
   "metadata": {},
   "outputs": [],
   "source": [
    "# =============== Get A\n",
    "model_XGB = XGBClassifier(**best_param)\n",
    "\n",
    "def classifier_SKF(clf,params,X,y, n_splits = 10):\n",
    "    \n",
    "    skf = StratifiedKFold(n_splits=n_splits)\n",
    "    \n",
    "    accuracies_balance_acc = []\n",
    "    \n",
    "    for idx in skf.split(X, y):\n",
    "        train_idx, test_idx = idx[0], idx[1]\n",
    "        xtrain = X[train_idx]\n",
    "        ytrain = y[train_idx]\n",
    "\n",
    "        xtest = X[test_idx]\n",
    "        ytest = y[test_idx]\n",
    "\n",
    "        clf.fit(xtrain,ytrain)\n",
    "        preds = clf.predict(xtest)\n",
    "        fold_acc = balanced_accuracy_score(ytest, preds)\n",
    "        accuracies_balance_acc.append(fold_acc)\n",
    "        \n",
    "    \n",
    "    y_test_pred = clf.predict(x_test)\n",
    "    y_train_pred = clf.predict(x_train)\n",
    "\n",
    "    accuracy_test = accuracy_score(y_test,y_test_pred)\n",
    "    accuracy_train =  accuracy_score(y_train,y_train_pred)\n",
    "    \n",
    "    roc_test = roc_auc_score(y_test, y_test_pred, multi_class='ovr')\n",
    "    roc_train = roc_auc_score(y_train, y_train_pred, multi_class='ovr')\n",
    "    \n",
    "    print('Train accuracy is:',accuracy_train )\n",
    "    print('Test accuracy is:',accuracy_test )\n",
    "    print()\n",
    "    print('Train ROC is:', roc_train)\n",
    "    print('Test ROC is:',roc_test )\n",
    "    \n",
    "    # Fscore, precision and recall on test data\n",
    "    f1 = f1_score(y_test, y_test_pred)\n",
    "    precision = precision_score(y_test, y_test_pred)\n",
    "    recall = recall_score(y_test, y_test_pred) \n",
    "    print()\n",
    "    print(\"F score is:\",f1 )\n",
    "    print(\"Precision is:\",precision)\n",
    "    print(\"Recall is:\", recall)"
   ]
  },
  {
   "cell_type": "code",
   "execution_count": 72,
   "id": "838a2b1e",
   "metadata": {},
   "outputs": [
    {
     "data": {
      "text/plain": [
       "0        0\n",
       "1        0\n",
       "2        0\n",
       "3        0\n",
       "4        0\n",
       "        ..\n",
       "41183    1\n",
       "41184    0\n",
       "41185    0\n",
       "41186    1\n",
       "41187    0\n",
       "Name: y_yes, Length: 41188, dtype: uint8"
      ]
     },
     "execution_count": 72,
     "metadata": {},
     "output_type": "execute_result"
    }
   ],
   "source": [
    "#===============One Hot Encoding=======================#\n",
    "df=pd.get_dummies(data=df, drop_first=True)\n",
    "\n",
    "# ============== STANDARD SCALER=======================#\n",
    "scaler = StandardScaler()\n",
    "df_scaler = scaler.fit_transform(df)\n",
    "df_scaler = pd.DataFrame(df_scaler, columns=df.columns)\n",
    "\n",
    "df['y_yes']"
   ]
  },
  {
   "cell_type": "code",
   "execution_count": 92,
   "id": "9dd56bac",
   "metadata": {},
   "outputs": [
    {
     "data": {
      "text/plain": [
       "0        0\n",
       "1        0\n",
       "2        0\n",
       "3        0\n",
       "4        0\n",
       "        ..\n",
       "41183    1\n",
       "41184    0\n",
       "41185    0\n",
       "41186    1\n",
       "41187    0\n",
       "Name: y_yes, Length: 41188, dtype: uint8"
      ]
     },
     "execution_count": 92,
     "metadata": {},
     "output_type": "execute_result"
    }
   ],
   "source": [
    "df['y_yes']"
   ]
  },
  {
   "cell_type": "code",
   "execution_count": 88,
   "id": "1e74785a",
   "metadata": {},
   "outputs": [],
   "source": [
    "#===============One Hot Encoding=======================#\n",
    "df=pd.get_dummies(data=df, drop_first=True)\n",
    "\n",
    "\n",
    "# ============== STANDARD SCALER=======================#\n",
    "scaler = StandardScaler()\n",
    "df_scaler = scaler.fit_transform(df)\n",
    "df_scaler = pd.DataFrame(df_scaler, columns=df.columns)\n",
    "\n",
    "#===========change Target to 0 and 1===================#\n",
    "def change_target(x):\n",
    "    '''\n",
    "    Transforma la variable target en 0 y 1 luego del Scaler\n",
    "    '''\n",
    "    if x < 0:\n",
    "        return 0\n",
    "    else:\n",
    "        return 1\n",
    "    \n",
    "df_scaler['y_yes'] = df_scaler['y_yes'].apply(change_target)\n",
    "\n",
    "# =====split dependent and independent feature===========# \n",
    "X = df_scaler.loc[:,df.columns != 'y_yes'].values\n",
    "y = df_scaler.loc[:,'y_yes'].values"
   ]
  },
  {
   "cell_type": "code",
   "execution_count": 89,
   "id": "aa127290",
   "metadata": {},
   "outputs": [
    {
     "data": {
      "text/html": [
       "<div>\n",
       "<style scoped>\n",
       "    .dataframe tbody tr th:only-of-type {\n",
       "        vertical-align: middle;\n",
       "    }\n",
       "\n",
       "    .dataframe tbody tr th {\n",
       "        vertical-align: top;\n",
       "    }\n",
       "\n",
       "    .dataframe thead th {\n",
       "        text-align: right;\n",
       "    }\n",
       "</style>\n",
       "<table border=\"1\" class=\"dataframe\">\n",
       "  <thead>\n",
       "    <tr style=\"text-align: right;\">\n",
       "      <th></th>\n",
       "      <th>age</th>\n",
       "      <th>duration</th>\n",
       "      <th>campaign</th>\n",
       "      <th>pdays</th>\n",
       "      <th>previous</th>\n",
       "      <th>emp.var.rate</th>\n",
       "      <th>cons.price.idx</th>\n",
       "      <th>cons.conf.idx</th>\n",
       "      <th>euribor3m</th>\n",
       "      <th>nr.employed</th>\n",
       "      <th>...</th>\n",
       "      <th>day_of_week_thu</th>\n",
       "      <th>day_of_week_tue</th>\n",
       "      <th>day_of_week_wed</th>\n",
       "      <th>poutcome_nonexistent</th>\n",
       "      <th>poutcome_success</th>\n",
       "      <th>y_yes</th>\n",
       "      <th>age_group_30 -40</th>\n",
       "      <th>age_group_40 - 50</th>\n",
       "      <th>age_group_50 - 60</th>\n",
       "      <th>age_group_60 - mas</th>\n",
       "    </tr>\n",
       "  </thead>\n",
       "  <tbody>\n",
       "    <tr>\n",
       "      <th>0</th>\n",
       "      <td>56</td>\n",
       "      <td>261</td>\n",
       "      <td>1</td>\n",
       "      <td>999</td>\n",
       "      <td>0</td>\n",
       "      <td>1.1</td>\n",
       "      <td>93.994</td>\n",
       "      <td>-36.4</td>\n",
       "      <td>4.857</td>\n",
       "      <td>5191.0</td>\n",
       "      <td>...</td>\n",
       "      <td>0</td>\n",
       "      <td>0</td>\n",
       "      <td>0</td>\n",
       "      <td>1</td>\n",
       "      <td>0</td>\n",
       "      <td>0</td>\n",
       "      <td>0</td>\n",
       "      <td>0</td>\n",
       "      <td>1</td>\n",
       "      <td>0</td>\n",
       "    </tr>\n",
       "    <tr>\n",
       "      <th>1</th>\n",
       "      <td>57</td>\n",
       "      <td>149</td>\n",
       "      <td>1</td>\n",
       "      <td>999</td>\n",
       "      <td>0</td>\n",
       "      <td>1.1</td>\n",
       "      <td>93.994</td>\n",
       "      <td>-36.4</td>\n",
       "      <td>4.857</td>\n",
       "      <td>5191.0</td>\n",
       "      <td>...</td>\n",
       "      <td>0</td>\n",
       "      <td>0</td>\n",
       "      <td>0</td>\n",
       "      <td>1</td>\n",
       "      <td>0</td>\n",
       "      <td>0</td>\n",
       "      <td>0</td>\n",
       "      <td>0</td>\n",
       "      <td>1</td>\n",
       "      <td>0</td>\n",
       "    </tr>\n",
       "    <tr>\n",
       "      <th>2</th>\n",
       "      <td>37</td>\n",
       "      <td>226</td>\n",
       "      <td>1</td>\n",
       "      <td>999</td>\n",
       "      <td>0</td>\n",
       "      <td>1.1</td>\n",
       "      <td>93.994</td>\n",
       "      <td>-36.4</td>\n",
       "      <td>4.857</td>\n",
       "      <td>5191.0</td>\n",
       "      <td>...</td>\n",
       "      <td>0</td>\n",
       "      <td>0</td>\n",
       "      <td>0</td>\n",
       "      <td>1</td>\n",
       "      <td>0</td>\n",
       "      <td>0</td>\n",
       "      <td>1</td>\n",
       "      <td>0</td>\n",
       "      <td>0</td>\n",
       "      <td>0</td>\n",
       "    </tr>\n",
       "    <tr>\n",
       "      <th>3</th>\n",
       "      <td>40</td>\n",
       "      <td>151</td>\n",
       "      <td>1</td>\n",
       "      <td>999</td>\n",
       "      <td>0</td>\n",
       "      <td>1.1</td>\n",
       "      <td>93.994</td>\n",
       "      <td>-36.4</td>\n",
       "      <td>4.857</td>\n",
       "      <td>5191.0</td>\n",
       "      <td>...</td>\n",
       "      <td>0</td>\n",
       "      <td>0</td>\n",
       "      <td>0</td>\n",
       "      <td>1</td>\n",
       "      <td>0</td>\n",
       "      <td>0</td>\n",
       "      <td>1</td>\n",
       "      <td>0</td>\n",
       "      <td>0</td>\n",
       "      <td>0</td>\n",
       "    </tr>\n",
       "    <tr>\n",
       "      <th>4</th>\n",
       "      <td>56</td>\n",
       "      <td>307</td>\n",
       "      <td>1</td>\n",
       "      <td>999</td>\n",
       "      <td>0</td>\n",
       "      <td>1.1</td>\n",
       "      <td>93.994</td>\n",
       "      <td>-36.4</td>\n",
       "      <td>4.857</td>\n",
       "      <td>5191.0</td>\n",
       "      <td>...</td>\n",
       "      <td>0</td>\n",
       "      <td>0</td>\n",
       "      <td>0</td>\n",
       "      <td>1</td>\n",
       "      <td>0</td>\n",
       "      <td>0</td>\n",
       "      <td>0</td>\n",
       "      <td>0</td>\n",
       "      <td>1</td>\n",
       "      <td>0</td>\n",
       "    </tr>\n",
       "    <tr>\n",
       "      <th>...</th>\n",
       "      <td>...</td>\n",
       "      <td>...</td>\n",
       "      <td>...</td>\n",
       "      <td>...</td>\n",
       "      <td>...</td>\n",
       "      <td>...</td>\n",
       "      <td>...</td>\n",
       "      <td>...</td>\n",
       "      <td>...</td>\n",
       "      <td>...</td>\n",
       "      <td>...</td>\n",
       "      <td>...</td>\n",
       "      <td>...</td>\n",
       "      <td>...</td>\n",
       "      <td>...</td>\n",
       "      <td>...</td>\n",
       "      <td>...</td>\n",
       "      <td>...</td>\n",
       "      <td>...</td>\n",
       "      <td>...</td>\n",
       "      <td>...</td>\n",
       "    </tr>\n",
       "    <tr>\n",
       "      <th>41183</th>\n",
       "      <td>73</td>\n",
       "      <td>334</td>\n",
       "      <td>1</td>\n",
       "      <td>999</td>\n",
       "      <td>0</td>\n",
       "      <td>-1.1</td>\n",
       "      <td>94.767</td>\n",
       "      <td>-50.8</td>\n",
       "      <td>1.028</td>\n",
       "      <td>4963.6</td>\n",
       "      <td>...</td>\n",
       "      <td>0</td>\n",
       "      <td>0</td>\n",
       "      <td>0</td>\n",
       "      <td>1</td>\n",
       "      <td>0</td>\n",
       "      <td>1</td>\n",
       "      <td>0</td>\n",
       "      <td>0</td>\n",
       "      <td>0</td>\n",
       "      <td>1</td>\n",
       "    </tr>\n",
       "    <tr>\n",
       "      <th>41184</th>\n",
       "      <td>46</td>\n",
       "      <td>383</td>\n",
       "      <td>1</td>\n",
       "      <td>999</td>\n",
       "      <td>0</td>\n",
       "      <td>-1.1</td>\n",
       "      <td>94.767</td>\n",
       "      <td>-50.8</td>\n",
       "      <td>1.028</td>\n",
       "      <td>4963.6</td>\n",
       "      <td>...</td>\n",
       "      <td>0</td>\n",
       "      <td>0</td>\n",
       "      <td>0</td>\n",
       "      <td>1</td>\n",
       "      <td>0</td>\n",
       "      <td>0</td>\n",
       "      <td>0</td>\n",
       "      <td>1</td>\n",
       "      <td>0</td>\n",
       "      <td>0</td>\n",
       "    </tr>\n",
       "    <tr>\n",
       "      <th>41185</th>\n",
       "      <td>56</td>\n",
       "      <td>189</td>\n",
       "      <td>2</td>\n",
       "      <td>999</td>\n",
       "      <td>0</td>\n",
       "      <td>-1.1</td>\n",
       "      <td>94.767</td>\n",
       "      <td>-50.8</td>\n",
       "      <td>1.028</td>\n",
       "      <td>4963.6</td>\n",
       "      <td>...</td>\n",
       "      <td>0</td>\n",
       "      <td>0</td>\n",
       "      <td>0</td>\n",
       "      <td>1</td>\n",
       "      <td>0</td>\n",
       "      <td>0</td>\n",
       "      <td>0</td>\n",
       "      <td>0</td>\n",
       "      <td>1</td>\n",
       "      <td>0</td>\n",
       "    </tr>\n",
       "    <tr>\n",
       "      <th>41186</th>\n",
       "      <td>44</td>\n",
       "      <td>442</td>\n",
       "      <td>1</td>\n",
       "      <td>999</td>\n",
       "      <td>0</td>\n",
       "      <td>-1.1</td>\n",
       "      <td>94.767</td>\n",
       "      <td>-50.8</td>\n",
       "      <td>1.028</td>\n",
       "      <td>4963.6</td>\n",
       "      <td>...</td>\n",
       "      <td>0</td>\n",
       "      <td>0</td>\n",
       "      <td>0</td>\n",
       "      <td>1</td>\n",
       "      <td>0</td>\n",
       "      <td>1</td>\n",
       "      <td>0</td>\n",
       "      <td>1</td>\n",
       "      <td>0</td>\n",
       "      <td>0</td>\n",
       "    </tr>\n",
       "    <tr>\n",
       "      <th>41187</th>\n",
       "      <td>74</td>\n",
       "      <td>239</td>\n",
       "      <td>3</td>\n",
       "      <td>999</td>\n",
       "      <td>1</td>\n",
       "      <td>-1.1</td>\n",
       "      <td>94.767</td>\n",
       "      <td>-50.8</td>\n",
       "      <td>1.028</td>\n",
       "      <td>4963.6</td>\n",
       "      <td>...</td>\n",
       "      <td>0</td>\n",
       "      <td>0</td>\n",
       "      <td>0</td>\n",
       "      <td>0</td>\n",
       "      <td>0</td>\n",
       "      <td>0</td>\n",
       "      <td>0</td>\n",
       "      <td>0</td>\n",
       "      <td>0</td>\n",
       "      <td>1</td>\n",
       "    </tr>\n",
       "  </tbody>\n",
       "</table>\n",
       "<p>41188 rows × 58 columns</p>\n",
       "</div>"
      ],
      "text/plain": [
       "       age  duration  campaign  pdays  previous  emp.var.rate  cons.price.idx  \\\n",
       "0       56       261         1    999         0           1.1          93.994   \n",
       "1       57       149         1    999         0           1.1          93.994   \n",
       "2       37       226         1    999         0           1.1          93.994   \n",
       "3       40       151         1    999         0           1.1          93.994   \n",
       "4       56       307         1    999         0           1.1          93.994   \n",
       "...    ...       ...       ...    ...       ...           ...             ...   \n",
       "41183   73       334         1    999         0          -1.1          94.767   \n",
       "41184   46       383         1    999         0          -1.1          94.767   \n",
       "41185   56       189         2    999         0          -1.1          94.767   \n",
       "41186   44       442         1    999         0          -1.1          94.767   \n",
       "41187   74       239         3    999         1          -1.1          94.767   \n",
       "\n",
       "       cons.conf.idx  euribor3m  nr.employed  ...  day_of_week_thu  \\\n",
       "0              -36.4      4.857       5191.0  ...                0   \n",
       "1              -36.4      4.857       5191.0  ...                0   \n",
       "2              -36.4      4.857       5191.0  ...                0   \n",
       "3              -36.4      4.857       5191.0  ...                0   \n",
       "4              -36.4      4.857       5191.0  ...                0   \n",
       "...              ...        ...          ...  ...              ...   \n",
       "41183          -50.8      1.028       4963.6  ...                0   \n",
       "41184          -50.8      1.028       4963.6  ...                0   \n",
       "41185          -50.8      1.028       4963.6  ...                0   \n",
       "41186          -50.8      1.028       4963.6  ...                0   \n",
       "41187          -50.8      1.028       4963.6  ...                0   \n",
       "\n",
       "       day_of_week_tue  day_of_week_wed  poutcome_nonexistent  \\\n",
       "0                    0                0                     1   \n",
       "1                    0                0                     1   \n",
       "2                    0                0                     1   \n",
       "3                    0                0                     1   \n",
       "4                    0                0                     1   \n",
       "...                ...              ...                   ...   \n",
       "41183                0                0                     1   \n",
       "41184                0                0                     1   \n",
       "41185                0                0                     1   \n",
       "41186                0                0                     1   \n",
       "41187                0                0                     0   \n",
       "\n",
       "       poutcome_success  y_yes  age_group_30 -40  age_group_40 - 50  \\\n",
       "0                     0      0                 0                  0   \n",
       "1                     0      0                 0                  0   \n",
       "2                     0      0                 1                  0   \n",
       "3                     0      0                 1                  0   \n",
       "4                     0      0                 0                  0   \n",
       "...                 ...    ...               ...                ...   \n",
       "41183                 0      1                 0                  0   \n",
       "41184                 0      0                 0                  1   \n",
       "41185                 0      0                 0                  0   \n",
       "41186                 0      1                 0                  1   \n",
       "41187                 0      0                 0                  0   \n",
       "\n",
       "       age_group_50 - 60  age_group_60 - mas  \n",
       "0                      1                   0  \n",
       "1                      1                   0  \n",
       "2                      0                   0  \n",
       "3                      0                   0  \n",
       "4                      1                   0  \n",
       "...                  ...                 ...  \n",
       "41183                  0                   1  \n",
       "41184                  0                   0  \n",
       "41185                  1                   0  \n",
       "41186                  0                   0  \n",
       "41187                  0                   1  \n",
       "\n",
       "[41188 rows x 58 columns]"
      ]
     },
     "execution_count": 89,
     "metadata": {},
     "output_type": "execute_result"
    }
   ],
   "source": [
    "df"
   ]
  },
  {
   "cell_type": "code",
   "execution_count": 6,
   "id": "2025f936",
   "metadata": {
    "scrolled": false
   },
   "outputs": [
    {
     "name": "stdout",
     "output_type": "stream",
     "text": [
      "Fold 1 Class Ratio: 0.11264870114105366\n",
      "Fold 2 Class Ratio: 0.11264870114105366\n",
      "Fold 3 Class Ratio: 0.11264870114105366\n",
      "Fold 4 Class Ratio: 0.11264870114105366\n",
      "Fold 5 Class Ratio: 0.11264870114105366\n",
      "Fold 6 Class Ratio: 0.11264870114105366\n",
      "Fold 7 Class Ratio: 0.11264870114105366\n",
      "Fold 8 Class Ratio: 0.11264870114105366\n",
      "Fold 9 Class Ratio: 0.11267605633802817\n",
      "Fold 10 Class Ratio: 0.11267605633802817\n"
     ]
    }
   ],
   "source": [
    "#=========================Class Ratio x Fold=======================================#\n",
    "# reviewing the proportion of classes by Fold\n",
    "\n",
    "skf = StratifiedKFold(n_splits=10)\n",
    "\n",
    "fold_no = 1\n",
    "for train_index, test_index in skf.split(X, y):\n",
    "    train = df.loc[train_index,:]\n",
    "    test = df.loc[test_index,:]\n",
    "    print('Fold',str(fold_no),'Class Ratio:',sum(test['y_yes'])/len(test['y_yes']))\n",
    "    fold_no += 1"
   ]
  },
  {
   "cell_type": "code",
   "execution_count": 90,
   "id": "52703f71",
   "metadata": {},
   "outputs": [
    {
     "name": "stdout",
     "output_type": "stream",
     "text": [
      "Class Ratio _ ORIGINAL 0.11265417111780131\n"
     ]
    }
   ],
   "source": [
    "#==================CLASS RATIO TARGET DATASET==================#\n",
    "original_ = sum(df['y_yes'])/len(df['y_yes'])\n",
    "print('Class Ratio _ ORIGINAL',original_)\n",
    "\n",
    "#Synthetic Minority Oversamping Technique"
   ]
  },
  {
   "attachments": {
    "image.png": {
     "image/png": "[encoded data removed]"
    }
   },
   "cell_type": "markdown",
   "id": "a6a38bbf",
   "metadata": {},
   "source": [
    "![image.png](attachment:image.png)"
   ]
  },
  {
   "cell_type": "code",
   "execution_count": 91,
   "id": "60f100ea",
   "metadata": {
    "scrolled": true
   },
   "outputs": [
    {
     "data": {
      "text/plain": [
       "0    36548\n",
       "1    36548\n",
       "dtype: int64"
      ]
     },
     "execution_count": 91,
     "metadata": {},
     "output_type": "execute_result"
    }
   ],
   "source": [
    "#===================================test_oversampling======================#\n",
    "# esta parte esta en prueba aun , estomos equilibrando las clases del target para\n",
    "# que tengan la misma proporcion. \n",
    "sm = SMOTE()\n",
    "X, y = sm.fit_resample(X, y)\n",
    "X.shape,y.shape\n",
    "\n",
    "# class 1 and 0 balanced\n",
    "pd.DataFrame(y).value_counts()"
   ]
  },
  {
   "cell_type": "code",
   "execution_count": 55,
   "id": "538724d8",
   "metadata": {},
   "outputs": [
    {
     "data": {
      "text/plain": [
       "[0.8890507404709881,\n",
       " 0.8550619082301529,\n",
       " 0.7963097839281379,\n",
       " 0.8521485797523671,\n",
       " 0.834425831512503,\n",
       " 0.7895120174799709,\n",
       " 0.545763534838553,\n",
       " 0.26462733673221656,\n",
       " 0.6374453618261292,\n",
       " 0.24356483729966003]"
      ]
     },
     "execution_count": 55,
     "metadata": {},
     "output_type": "execute_result"
    }
   ],
   "source": [
    "#==================train only XGBClassifier and skf================#\n",
    "model_XGB = XGBClassifier()\n",
    "accuracies = []\n",
    "\n",
    "for idx in skf.split(X, y):\n",
    "    train_idx, test_idx = idx[0], idx[1]\n",
    "    xtrain = X[train_idx]\n",
    "    ytrain = y[train_idx]\n",
    "    \n",
    "    xtest = X[test_idx]\n",
    "    ytest = y[test_idx]\n",
    "    \n",
    "    model_XGB.fit(xtrain,ytrain) #\n",
    "    preds = model_XGB.predict(xtest)\n",
    "    fold_acc = balanced_accuracy_score(ytest, preds) \n",
    "    accuracies.append(fold_acc)\n",
    "    \n",
    "accuracies"
   ]
  },
  {
   "cell_type": "code",
   "execution_count": 12,
   "id": "b9e8f421",
   "metadata": {
    "scrolled": false
   },
   "outputs": [
    {
     "name": "stderr",
     "output_type": "stream",
     "text": [
      "\u001b[32m[I 2022-10-05 10:55:23,677]\u001b[0m A new study created in memory with name: no-name-3af384d9-1996-464c-851a-9d12a000a38d\u001b[0m\n",
      "C:\\Users\\jonat\\AppData\\Local\\Temp/ipykernel_2536/1595261226.py:9: FutureWarning: suggest_loguniform has been deprecated in v3.0.0. This feature will be removed in v6.0.0. See https://github.com/optuna/optuna/releases/tag/v3.0.0. Use :func:`~optuna.trial.Trial.suggest_float` instead.\n",
      "  'lambda': trial.suggest_loguniform('lambda', 1e-3, 10.0),\n",
      "C:\\Users\\jonat\\AppData\\Local\\Temp/ipykernel_2536/1595261226.py:10: FutureWarning: suggest_loguniform has been deprecated in v3.0.0. This feature will be removed in v6.0.0. See https://github.com/optuna/optuna/releases/tag/v3.0.0. Use :func:`~optuna.trial.Trial.suggest_float` instead.\n",
      "  'alpha': trial.suggest_loguniform('alpha', 1e-3, 10.0),\n",
      "\u001b[32m[I 2022-10-05 10:57:48,245]\u001b[0m Trial 0 finished with value: 0.4684336488028553 and parameters: {'lambda': 0.01845616714956837, 'alpha': 0.003373626774402356, 'colsample_bytree': 0.5, 'n_estimators': 8435}. Best is trial 0 with value: 0.4684336488028553.\u001b[0m\n",
      "C:\\Users\\jonat\\AppData\\Local\\Temp/ipykernel_2536/1595261226.py:9: FutureWarning: suggest_loguniform has been deprecated in v3.0.0. This feature will be removed in v6.0.0. See https://github.com/optuna/optuna/releases/tag/v3.0.0. Use :func:`~optuna.trial.Trial.suggest_float` instead.\n",
      "  'lambda': trial.suggest_loguniform('lambda', 1e-3, 10.0),\n",
      "C:\\Users\\jonat\\AppData\\Local\\Temp/ipykernel_2536/1595261226.py:10: FutureWarning: suggest_loguniform has been deprecated in v3.0.0. This feature will be removed in v6.0.0. See https://github.com/optuna/optuna/releases/tag/v3.0.0. Use :func:`~optuna.trial.Trial.suggest_float` instead.\n",
      "  'alpha': trial.suggest_loguniform('alpha', 1e-3, 10.0),\n",
      "\u001b[32m[I 2022-10-05 10:59:49,046]\u001b[0m Trial 1 finished with value: 0.47162108233097527 and parameters: {'lambda': 0.07416235440656674, 'alpha': 0.007226516015300404, 'colsample_bytree': 0.8, 'n_estimators': 6479}. Best is trial 1 with value: 0.47162108233097527.\u001b[0m\n",
      "C:\\Users\\jonat\\AppData\\Local\\Temp/ipykernel_2536/1595261226.py:9: FutureWarning: suggest_loguniform has been deprecated in v3.0.0. This feature will be removed in v6.0.0. See https://github.com/optuna/optuna/releases/tag/v3.0.0. Use :func:`~optuna.trial.Trial.suggest_float` instead.\n",
      "  'lambda': trial.suggest_loguniform('lambda', 1e-3, 10.0),\n",
      "C:\\Users\\jonat\\AppData\\Local\\Temp/ipykernel_2536/1595261226.py:10: FutureWarning: suggest_loguniform has been deprecated in v3.0.0. This feature will be removed in v6.0.0. See https://github.com/optuna/optuna/releases/tag/v3.0.0. Use :func:`~optuna.trial.Trial.suggest_float` instead.\n",
      "  'alpha': trial.suggest_loguniform('alpha', 1e-3, 10.0),\n",
      "\u001b[32m[I 2022-10-05 11:01:46,309]\u001b[0m Trial 2 finished with value: 0.47683160785286216 and parameters: {'lambda': 0.4460927093932457, 'alpha': 0.0074371630731597345, 'colsample_bytree': 1.0, 'n_estimators': 6207}. Best is trial 2 with value: 0.47683160785286216.\u001b[0m\n",
      "C:\\Users\\jonat\\AppData\\Local\\Temp/ipykernel_2536/1595261226.py:9: FutureWarning: suggest_loguniform has been deprecated in v3.0.0. This feature will be removed in v6.0.0. See https://github.com/optuna/optuna/releases/tag/v3.0.0. Use :func:`~optuna.trial.Trial.suggest_float` instead.\n",
      "  'lambda': trial.suggest_loguniform('lambda', 1e-3, 10.0),\n",
      "C:\\Users\\jonat\\AppData\\Local\\Temp/ipykernel_2536/1595261226.py:10: FutureWarning: suggest_loguniform has been deprecated in v3.0.0. This feature will be removed in v6.0.0. See https://github.com/optuna/optuna/releases/tag/v3.0.0. Use :func:`~optuna.trial.Trial.suggest_float` instead.\n",
      "  'alpha': trial.suggest_loguniform('alpha', 1e-3, 10.0),\n",
      "\u001b[32m[I 2022-10-05 11:04:14,025]\u001b[0m Trial 3 finished with value: 0.48270510339069755 and parameters: {'lambda': 3.1295590072705166, 'alpha': 0.02323586544858343, 'colsample_bytree': 0.7, 'n_estimators': 9197}. Best is trial 3 with value: 0.48270510339069755.\u001b[0m\n",
      "C:\\Users\\jonat\\AppData\\Local\\Temp/ipykernel_2536/1595261226.py:9: FutureWarning: suggest_loguniform has been deprecated in v3.0.0. This feature will be removed in v6.0.0. See https://github.com/optuna/optuna/releases/tag/v3.0.0. Use :func:`~optuna.trial.Trial.suggest_float` instead.\n",
      "  'lambda': trial.suggest_loguniform('lambda', 1e-3, 10.0),\n",
      "C:\\Users\\jonat\\AppData\\Local\\Temp/ipykernel_2536/1595261226.py:10: FutureWarning: suggest_loguniform has been deprecated in v3.0.0. This feature will be removed in v6.0.0. See https://github.com/optuna/optuna/releases/tag/v3.0.0. Use :func:`~optuna.trial.Trial.suggest_float` instead.\n",
      "  'alpha': trial.suggest_loguniform('alpha', 1e-3, 10.0),\n",
      "\u001b[32m[I 2022-10-05 11:06:10,738]\u001b[0m Trial 4 finished with value: 0.47186275305582376 and parameters: {'lambda': 0.32935241474001076, 'alpha': 0.006943089472646806, 'colsample_bytree': 0.3, 'n_estimators': 6783}. Best is trial 3 with value: 0.48270510339069755.\u001b[0m\n",
      "C:\\Users\\jonat\\AppData\\Local\\Temp/ipykernel_2536/1595261226.py:9: FutureWarning: suggest_loguniform has been deprecated in v3.0.0. This feature will be removed in v6.0.0. See https://github.com/optuna/optuna/releases/tag/v3.0.0. Use :func:`~optuna.trial.Trial.suggest_float` instead.\n",
      "  'lambda': trial.suggest_loguniform('lambda', 1e-3, 10.0),\n",
      "C:\\Users\\jonat\\AppData\\Local\\Temp/ipykernel_2536/1595261226.py:10: FutureWarning: suggest_loguniform has been deprecated in v3.0.0. This feature will be removed in v6.0.0. See https://github.com/optuna/optuna/releases/tag/v3.0.0. Use :func:`~optuna.trial.Trial.suggest_float` instead.\n",
      "  'alpha': trial.suggest_loguniform('alpha', 1e-3, 10.0),\n",
      "\u001b[32m[I 2022-10-05 11:07:21,695]\u001b[0m Trial 5 finished with value: 0.44725083787391473 and parameters: {'lambda': 3.781363069036402, 'alpha': 0.45490415920825256, 'colsample_bytree': 0.4, 'n_estimators': 7142}. Best is trial 3 with value: 0.48270510339069755.\u001b[0m\n",
      "C:\\Users\\jonat\\AppData\\Local\\Temp/ipykernel_2536/1595261226.py:9: FutureWarning: suggest_loguniform has been deprecated in v3.0.0. This feature will be removed in v6.0.0. See https://github.com/optuna/optuna/releases/tag/v3.0.0. Use :func:`~optuna.trial.Trial.suggest_float` instead.\n",
      "  'lambda': trial.suggest_loguniform('lambda', 1e-3, 10.0),\n",
      "C:\\Users\\jonat\\AppData\\Local\\Temp/ipykernel_2536/1595261226.py:10: FutureWarning: suggest_loguniform has been deprecated in v3.0.0. This feature will be removed in v6.0.0. See https://github.com/optuna/optuna/releases/tag/v3.0.0. Use :func:`~optuna.trial.Trial.suggest_float` instead.\n",
      "  'alpha': trial.suggest_loguniform('alpha', 1e-3, 10.0),\n",
      "\u001b[32m[I 2022-10-05 11:09:58,701]\u001b[0m Trial 6 finished with value: 0.46745626488772646 and parameters: {'lambda': 0.0011447738642970792, 'alpha': 0.003255829839110147, 'colsample_bytree': 0.3, 'n_estimators': 9512}. Best is trial 3 with value: 0.48270510339069755.\u001b[0m\n",
      "C:\\Users\\jonat\\AppData\\Local\\Temp/ipykernel_2536/1595261226.py:9: FutureWarning: suggest_loguniform has been deprecated in v3.0.0. This feature will be removed in v6.0.0. See https://github.com/optuna/optuna/releases/tag/v3.0.0. Use :func:`~optuna.trial.Trial.suggest_float` instead.\n",
      "  'lambda': trial.suggest_loguniform('lambda', 1e-3, 10.0),\n",
      "C:\\Users\\jonat\\AppData\\Local\\Temp/ipykernel_2536/1595261226.py:10: FutureWarning: suggest_loguniform has been deprecated in v3.0.0. This feature will be removed in v6.0.0. See https://github.com/optuna/optuna/releases/tag/v3.0.0. Use :func:`~optuna.trial.Trial.suggest_float` instead.\n",
      "  'alpha': trial.suggest_loguniform('alpha', 1e-3, 10.0),\n",
      "\u001b[32m[I 2022-10-05 11:12:09,202]\u001b[0m Trial 7 finished with value: 0.473481436956272 and parameters: {'lambda': 0.022551868192161928, 'alpha': 0.0013326878515297347, 'colsample_bytree': 0.9, 'n_estimators': 7069}. Best is trial 3 with value: 0.48270510339069755.\u001b[0m\n",
      "C:\\Users\\jonat\\AppData\\Local\\Temp/ipykernel_2536/1595261226.py:9: FutureWarning: suggest_loguniform has been deprecated in v3.0.0. This feature will be removed in v6.0.0. See https://github.com/optuna/optuna/releases/tag/v3.0.0. Use :func:`~optuna.trial.Trial.suggest_float` instead.\n",
      "  'lambda': trial.suggest_loguniform('lambda', 1e-3, 10.0),\n",
      "C:\\Users\\jonat\\AppData\\Local\\Temp/ipykernel_2536/1595261226.py:10: FutureWarning: suggest_loguniform has been deprecated in v3.0.0. This feature will be removed in v6.0.0. See https://github.com/optuna/optuna/releases/tag/v3.0.0. Use :func:`~optuna.trial.Trial.suggest_float` instead.\n",
      "  'alpha': trial.suggest_loguniform('alpha', 1e-3, 10.0),\n"
     ]
    },
    {
     "name": "stderr",
     "output_type": "stream",
     "text": [
      "\u001b[32m[I 2022-10-05 11:14:37,298]\u001b[0m Trial 8 finished with value: 0.47368730048419394 and parameters: {'lambda': 0.026899717842261504, 'alpha': 0.014033495214959285, 'colsample_bytree': 0.3, 'n_estimators': 9231}. Best is trial 3 with value: 0.48270510339069755.\u001b[0m\n",
      "C:\\Users\\jonat\\AppData\\Local\\Temp/ipykernel_2536/1595261226.py:9: FutureWarning: suggest_loguniform has been deprecated in v3.0.0. This feature will be removed in v6.0.0. See https://github.com/optuna/optuna/releases/tag/v3.0.0. Use :func:`~optuna.trial.Trial.suggest_float` instead.\n",
      "  'lambda': trial.suggest_loguniform('lambda', 1e-3, 10.0),\n",
      "C:\\Users\\jonat\\AppData\\Local\\Temp/ipykernel_2536/1595261226.py:10: FutureWarning: suggest_loguniform has been deprecated in v3.0.0. This feature will be removed in v6.0.0. See https://github.com/optuna/optuna/releases/tag/v3.0.0. Use :func:`~optuna.trial.Trial.suggest_float` instead.\n",
      "  'alpha': trial.suggest_loguniform('alpha', 1e-3, 10.0),\n",
      "\u001b[32m[I 2022-10-05 11:15:37,189]\u001b[0m Trial 9 finished with value: 0.4705120059604184 and parameters: {'lambda': 0.01252392930985218, 'alpha': 0.27590049737178457, 'colsample_bytree': 0.7, 'n_estimators': 7376}. Best is trial 3 with value: 0.48270510339069755.\u001b[0m\n",
      "C:\\Users\\jonat\\AppData\\Local\\Temp/ipykernel_2536/1595261226.py:9: FutureWarning: suggest_loguniform has been deprecated in v3.0.0. This feature will be removed in v6.0.0. See https://github.com/optuna/optuna/releases/tag/v3.0.0. Use :func:`~optuna.trial.Trial.suggest_float` instead.\n",
      "  'lambda': trial.suggest_loguniform('lambda', 1e-3, 10.0),\n",
      "C:\\Users\\jonat\\AppData\\Local\\Temp/ipykernel_2536/1595261226.py:10: FutureWarning: suggest_loguniform has been deprecated in v3.0.0. This feature will be removed in v6.0.0. See https://github.com/optuna/optuna/releases/tag/v3.0.0. Use :func:`~optuna.trial.Trial.suggest_float` instead.\n",
      "  'alpha': trial.suggest_loguniform('alpha', 1e-3, 10.0),\n",
      "\u001b[32m[I 2022-10-05 11:16:08,405]\u001b[0m Trial 10 finished with value: 0.4198297536177806 and parameters: {'lambda': 7.962117850936102, 'alpha': 4.254158305269199, 'colsample_bytree': 0.7, 'n_estimators': 5314}. Best is trial 3 with value: 0.48270510339069755.\u001b[0m\n",
      "C:\\Users\\jonat\\AppData\\Local\\Temp/ipykernel_2536/1595261226.py:9: FutureWarning: suggest_loguniform has been deprecated in v3.0.0. This feature will be removed in v6.0.0. See https://github.com/optuna/optuna/releases/tag/v3.0.0. Use :func:`~optuna.trial.Trial.suggest_float` instead.\n",
      "  'lambda': trial.suggest_loguniform('lambda', 1e-3, 10.0),\n",
      "C:\\Users\\jonat\\AppData\\Local\\Temp/ipykernel_2536/1595261226.py:10: FutureWarning: suggest_loguniform has been deprecated in v3.0.0. This feature will be removed in v6.0.0. See https://github.com/optuna/optuna/releases/tag/v3.0.0. Use :func:`~optuna.trial.Trial.suggest_float` instead.\n",
      "  'alpha': trial.suggest_loguniform('alpha', 1e-3, 10.0),\n",
      "\u001b[32m[I 2022-10-05 11:17:32,589]\u001b[0m Trial 11 finished with value: 0.49134191330242505 and parameters: {'lambda': 0.8694450443663693, 'alpha': 0.03464787619548334, 'colsample_bytree': 1.0, 'n_estimators': 5645}. Best is trial 11 with value: 0.49134191330242505.\u001b[0m\n",
      "C:\\Users\\jonat\\AppData\\Local\\Temp/ipykernel_2536/1595261226.py:9: FutureWarning: suggest_loguniform has been deprecated in v3.0.0. This feature will be removed in v6.0.0. See https://github.com/optuna/optuna/releases/tag/v3.0.0. Use :func:`~optuna.trial.Trial.suggest_float` instead.\n",
      "  'lambda': trial.suggest_loguniform('lambda', 1e-3, 10.0),\n",
      "C:\\Users\\jonat\\AppData\\Local\\Temp/ipykernel_2536/1595261226.py:10: FutureWarning: suggest_loguniform has been deprecated in v3.0.0. This feature will be removed in v6.0.0. See https://github.com/optuna/optuna/releases/tag/v3.0.0. Use :func:`~optuna.trial.Trial.suggest_float` instead.\n",
      "  'alpha': trial.suggest_loguniform('alpha', 1e-3, 10.0),\n",
      "\u001b[32m[I 2022-10-05 11:19:07,719]\u001b[0m Trial 12 finished with value: 0.4880886956104535 and parameters: {'lambda': 1.6023587557005081, 'alpha': 0.05573313148668513, 'colsample_bytree': 1.0, 'n_estimators': 8288}. Best is trial 11 with value: 0.49134191330242505.\u001b[0m\n",
      "C:\\Users\\jonat\\AppData\\Local\\Temp/ipykernel_2536/1595261226.py:9: FutureWarning: suggest_loguniform has been deprecated in v3.0.0. This feature will be removed in v6.0.0. See https://github.com/optuna/optuna/releases/tag/v3.0.0. Use :func:`~optuna.trial.Trial.suggest_float` instead.\n",
      "  'lambda': trial.suggest_loguniform('lambda', 1e-3, 10.0),\n",
      "C:\\Users\\jonat\\AppData\\Local\\Temp/ipykernel_2536/1595261226.py:10: FutureWarning: suggest_loguniform has been deprecated in v3.0.0. This feature will be removed in v6.0.0. See https://github.com/optuna/optuna/releases/tag/v3.0.0. Use :func:`~optuna.trial.Trial.suggest_float` instead.\n",
      "  'alpha': trial.suggest_loguniform('alpha', 1e-3, 10.0),\n",
      "\u001b[32m[I 2022-10-05 11:20:29,770]\u001b[0m Trial 13 finished with value: 0.48679470737529795 and parameters: {'lambda': 0.8716690811056192, 'alpha': 0.07826356387211228, 'colsample_bytree': 1.0, 'n_estimators': 8313}. Best is trial 11 with value: 0.49134191330242505.\u001b[0m\n",
      "C:\\Users\\jonat\\AppData\\Local\\Temp/ipykernel_2536/1595261226.py:9: FutureWarning: suggest_loguniform has been deprecated in v3.0.0. This feature will be removed in v6.0.0. See https://github.com/optuna/optuna/releases/tag/v3.0.0. Use :func:`~optuna.trial.Trial.suggest_float` instead.\n",
      "  'lambda': trial.suggest_loguniform('lambda', 1e-3, 10.0),\n",
      "C:\\Users\\jonat\\AppData\\Local\\Temp/ipykernel_2536/1595261226.py:10: FutureWarning: suggest_loguniform has been deprecated in v3.0.0. This feature will be removed in v6.0.0. See https://github.com/optuna/optuna/releases/tag/v3.0.0. Use :func:`~optuna.trial.Trial.suggest_float` instead.\n",
      "  'alpha': trial.suggest_loguniform('alpha', 1e-3, 10.0),\n",
      "\u001b[32m[I 2022-10-05 11:21:42,022]\u001b[0m Trial 14 finished with value: 0.4938000177456247 and parameters: {'lambda': 1.0817334952464273, 'alpha': 0.06348329291978623, 'colsample_bytree': 1.0, 'n_estimators': 5204}. Best is trial 14 with value: 0.4938000177456247.\u001b[0m\n",
      "C:\\Users\\jonat\\AppData\\Local\\Temp/ipykernel_2536/1595261226.py:9: FutureWarning: suggest_loguniform has been deprecated in v3.0.0. This feature will be removed in v6.0.0. See https://github.com/optuna/optuna/releases/tag/v3.0.0. Use :func:`~optuna.trial.Trial.suggest_float` instead.\n",
      "  'lambda': trial.suggest_loguniform('lambda', 1e-3, 10.0),\n",
      "C:\\Users\\jonat\\AppData\\Local\\Temp/ipykernel_2536/1595261226.py:10: FutureWarning: suggest_loguniform has been deprecated in v3.0.0. This feature will be removed in v6.0.0. See https://github.com/optuna/optuna/releases/tag/v3.0.0. Use :func:`~optuna.trial.Trial.suggest_float` instead.\n",
      "  'alpha': trial.suggest_loguniform('alpha', 1e-3, 10.0),\n",
      "\u001b[32m[I 2022-10-05 11:22:29,865]\u001b[0m Trial 15 finished with value: 0.4560582993000778 and parameters: {'lambda': 0.2624603425536349, 'alpha': 0.3868983424026695, 'colsample_bytree': 0.6, 'n_estimators': 5021}. Best is trial 14 with value: 0.4938000177456247.\u001b[0m\n",
      "C:\\Users\\jonat\\AppData\\Local\\Temp/ipykernel_2536/1595261226.py:9: FutureWarning: suggest_loguniform has been deprecated in v3.0.0. This feature will be removed in v6.0.0. See https://github.com/optuna/optuna/releases/tag/v3.0.0. Use :func:`~optuna.trial.Trial.suggest_float` instead.\n",
      "  'lambda': trial.suggest_loguniform('lambda', 1e-3, 10.0),\n",
      "C:\\Users\\jonat\\AppData\\Local\\Temp/ipykernel_2536/1595261226.py:10: FutureWarning: suggest_loguniform has been deprecated in v3.0.0. This feature will be removed in v6.0.0. See https://github.com/optuna/optuna/releases/tag/v3.0.0. Use :func:`~optuna.trial.Trial.suggest_float` instead.\n",
      "  'alpha': trial.suggest_loguniform('alpha', 1e-3, 10.0),\n",
      "\u001b[32m[I 2022-10-05 11:23:06,448]\u001b[0m Trial 16 finished with value: 0.4358209324889349 and parameters: {'lambda': 0.09945620931135103, 'alpha': 1.6890404944483541, 'colsample_bytree': 1.0, 'n_estimators': 5660}. Best is trial 14 with value: 0.4938000177456247.\u001b[0m\n",
      "C:\\Users\\jonat\\AppData\\Local\\Temp/ipykernel_2536/1595261226.py:9: FutureWarning: suggest_loguniform has been deprecated in v3.0.0. This feature will be removed in v6.0.0. See https://github.com/optuna/optuna/releases/tag/v3.0.0. Use :func:`~optuna.trial.Trial.suggest_float` instead.\n",
      "  'lambda': trial.suggest_loguniform('lambda', 1e-3, 10.0),\n",
      "C:\\Users\\jonat\\AppData\\Local\\Temp/ipykernel_2536/1595261226.py:10: FutureWarning: suggest_loguniform has been deprecated in v3.0.0. This feature will be removed in v6.0.0. See https://github.com/optuna/optuna/releases/tag/v3.0.0. Use :func:`~optuna.trial.Trial.suggest_float` instead.\n",
      "  'alpha': trial.suggest_loguniform('alpha', 1e-3, 10.0),\n"
     ]
    },
    {
     "name": "stderr",
     "output_type": "stream",
     "text": [
      "\u001b[32m[I 2022-10-05 11:24:28,687]\u001b[0m Trial 17 finished with value: 0.48759350778708554 and parameters: {'lambda': 1.043133478519663, 'alpha': 0.03738430692217342, 'colsample_bytree': 1.0, 'n_estimators': 5893}. Best is trial 14 with value: 0.4938000177456247.\u001b[0m\n",
      "C:\\Users\\jonat\\AppData\\Local\\Temp/ipykernel_2536/1595261226.py:9: FutureWarning: suggest_loguniform has been deprecated in v3.0.0. This feature will be removed in v6.0.0. See https://github.com/optuna/optuna/releases/tag/v3.0.0. Use :func:`~optuna.trial.Trial.suggest_float` instead.\n",
      "  'lambda': trial.suggest_loguniform('lambda', 1e-3, 10.0),\n",
      "C:\\Users\\jonat\\AppData\\Local\\Temp/ipykernel_2536/1595261226.py:10: FutureWarning: suggest_loguniform has been deprecated in v3.0.0. This feature will be removed in v6.0.0. See https://github.com/optuna/optuna/releases/tag/v3.0.0. Use :func:`~optuna.trial.Trial.suggest_float` instead.\n",
      "  'alpha': trial.suggest_loguniform('alpha', 1e-3, 10.0),\n",
      "\u001b[32m[I 2022-10-05 11:26:05,312]\u001b[0m Trial 18 finished with value: 0.46397926306395304 and parameters: {'lambda': 7.185579127645659, 'alpha': 0.15466757690934885, 'colsample_bytree': 0.4, 'n_estimators': 5531}. Best is trial 14 with value: 0.4938000177456247.\u001b[0m\n",
      "C:\\Users\\jonat\\AppData\\Local\\Temp/ipykernel_2536/1595261226.py:9: FutureWarning: suggest_loguniform has been deprecated in v3.0.0. This feature will be removed in v6.0.0. See https://github.com/optuna/optuna/releases/tag/v3.0.0. Use :func:`~optuna.trial.Trial.suggest_float` instead.\n",
      "  'lambda': trial.suggest_loguniform('lambda', 1e-3, 10.0),\n",
      "C:\\Users\\jonat\\AppData\\Local\\Temp/ipykernel_2536/1595261226.py:10: FutureWarning: suggest_loguniform has been deprecated in v3.0.0. This feature will be removed in v6.0.0. See https://github.com/optuna/optuna/releases/tag/v3.0.0. Use :func:`~optuna.trial.Trial.suggest_float` instead.\n",
      "  'alpha': trial.suggest_loguniform('alpha', 1e-3, 10.0),\n",
      "\u001b[32m[I 2022-10-05 11:27:05,501]\u001b[0m Trial 19 finished with value: 0.4899395722089233 and parameters: {'lambda': 0.17152065655246326, 'alpha': 0.13135869709284784, 'colsample_bytree': 0.9, 'n_estimators': 6004}. Best is trial 14 with value: 0.4938000177456247.\u001b[0m\n",
      "C:\\Users\\jonat\\AppData\\Local\\Temp/ipykernel_2536/1595261226.py:9: FutureWarning: suggest_loguniform has been deprecated in v3.0.0. This feature will be removed in v6.0.0. See https://github.com/optuna/optuna/releases/tag/v3.0.0. Use :func:`~optuna.trial.Trial.suggest_float` instead.\n",
      "  'lambda': trial.suggest_loguniform('lambda', 1e-3, 10.0),\n",
      "C:\\Users\\jonat\\AppData\\Local\\Temp/ipykernel_2536/1595261226.py:10: FutureWarning: suggest_loguniform has been deprecated in v3.0.0. This feature will be removed in v6.0.0. See https://github.com/optuna/optuna/releases/tag/v3.0.0. Use :func:`~optuna.trial.Trial.suggest_float` instead.\n",
      "  'alpha': trial.suggest_loguniform('alpha', 1e-3, 10.0),\n",
      "\u001b[32m[I 2022-10-05 11:27:43,886]\u001b[0m Trial 20 finished with value: 0.4326071377305273 and parameters: {'lambda': 2.058444568479764, 'alpha': 1.5835017969106109, 'colsample_bytree': 0.8, 'n_estimators': 5074}. Best is trial 14 with value: 0.4938000177456247.\u001b[0m\n",
      "C:\\Users\\jonat\\AppData\\Local\\Temp/ipykernel_2536/1595261226.py:9: FutureWarning: suggest_loguniform has been deprecated in v3.0.0. This feature will be removed in v6.0.0. See https://github.com/optuna/optuna/releases/tag/v3.0.0. Use :func:`~optuna.trial.Trial.suggest_float` instead.\n",
      "  'lambda': trial.suggest_loguniform('lambda', 1e-3, 10.0),\n",
      "C:\\Users\\jonat\\AppData\\Local\\Temp/ipykernel_2536/1595261226.py:10: FutureWarning: suggest_loguniform has been deprecated in v3.0.0. This feature will be removed in v6.0.0. See https://github.com/optuna/optuna/releases/tag/v3.0.0. Use :func:`~optuna.trial.Trial.suggest_float` instead.\n",
      "  'alpha': trial.suggest_loguniform('alpha', 1e-3, 10.0),\n",
      "\u001b[32m[I 2022-10-05 11:28:43,507]\u001b[0m Trial 21 finished with value: 0.47840187371530496 and parameters: {'lambda': 0.16820562469383935, 'alpha': 0.13327569821174778, 'colsample_bytree': 0.9, 'n_estimators': 6058}. Best is trial 14 with value: 0.4938000177456247.\u001b[0m\n",
      "C:\\Users\\jonat\\AppData\\Local\\Temp/ipykernel_2536/1595261226.py:9: FutureWarning: suggest_loguniform has been deprecated in v3.0.0. This feature will be removed in v6.0.0. See https://github.com/optuna/optuna/releases/tag/v3.0.0. Use :func:`~optuna.trial.Trial.suggest_float` instead.\n",
      "  'lambda': trial.suggest_loguniform('lambda', 1e-3, 10.0),\n",
      "C:\\Users\\jonat\\AppData\\Local\\Temp/ipykernel_2536/1595261226.py:10: FutureWarning: suggest_loguniform has been deprecated in v3.0.0. This feature will be removed in v6.0.0. See https://github.com/optuna/optuna/releases/tag/v3.0.0. Use :func:`~optuna.trial.Trial.suggest_float` instead.\n",
      "  'alpha': trial.suggest_loguniform('alpha', 1e-3, 10.0),\n",
      "\u001b[32m[I 2022-10-05 11:30:14,229]\u001b[0m Trial 22 finished with value: 0.48407393844335894 and parameters: {'lambda': 0.6065089947120192, 'alpha': 0.027095608175905693, 'colsample_bytree': 0.9, 'n_estimators': 6270}. Best is trial 14 with value: 0.4938000177456247.\u001b[0m\n",
      "C:\\Users\\jonat\\AppData\\Local\\Temp/ipykernel_2536/1595261226.py:9: FutureWarning: suggest_loguniform has been deprecated in v3.0.0. This feature will be removed in v6.0.0. See https://github.com/optuna/optuna/releases/tag/v3.0.0. Use :func:`~optuna.trial.Trial.suggest_float` instead.\n",
      "  'lambda': trial.suggest_loguniform('lambda', 1e-3, 10.0),\n",
      "C:\\Users\\jonat\\AppData\\Local\\Temp/ipykernel_2536/1595261226.py:10: FutureWarning: suggest_loguniform has been deprecated in v3.0.0. This feature will be removed in v6.0.0. See https://github.com/optuna/optuna/releases/tag/v3.0.0. Use :func:`~optuna.trial.Trial.suggest_float` instead.\n",
      "  'alpha': trial.suggest_loguniform('alpha', 1e-3, 10.0),\n",
      "\u001b[32m[I 2022-10-05 11:30:57,587]\u001b[0m Trial 23 finished with value: 0.4415710352302525 and parameters: {'lambda': 0.15958759663230573, 'alpha': 0.8174333369167183, 'colsample_bytree': 0.6, 'n_estimators': 5632}. Best is trial 14 with value: 0.4938000177456247.\u001b[0m\n",
      "C:\\Users\\jonat\\AppData\\Local\\Temp/ipykernel_2536/1595261226.py:9: FutureWarning: suggest_loguniform has been deprecated in v3.0.0. This feature will be removed in v6.0.0. See https://github.com/optuna/optuna/releases/tag/v3.0.0. Use :func:`~optuna.trial.Trial.suggest_float` instead.\n",
      "  'lambda': trial.suggest_loguniform('lambda', 1e-3, 10.0),\n",
      "C:\\Users\\jonat\\AppData\\Local\\Temp/ipykernel_2536/1595261226.py:10: FutureWarning: suggest_loguniform has been deprecated in v3.0.0. This feature will be removed in v6.0.0. See https://github.com/optuna/optuna/releases/tag/v3.0.0. Use :func:`~optuna.trial.Trial.suggest_float` instead.\n",
      "  'alpha': trial.suggest_loguniform('alpha', 1e-3, 10.0),\n",
      "\u001b[32m[I 2022-10-05 11:32:03,056]\u001b[0m Trial 24 finished with value: 0.4742149731944249 and parameters: {'lambda': 0.042882830090332995, 'alpha': 0.10038513652187557, 'colsample_bytree': 0.5, 'n_estimators': 6609}. Best is trial 14 with value: 0.4938000177456247.\u001b[0m\n",
      "C:\\Users\\jonat\\AppData\\Local\\Temp/ipykernel_2536/1595261226.py:9: FutureWarning: suggest_loguniform has been deprecated in v3.0.0. This feature will be removed in v6.0.0. See https://github.com/optuna/optuna/releases/tag/v3.0.0. Use :func:`~optuna.trial.Trial.suggest_float` instead.\n",
      "  'lambda': trial.suggest_loguniform('lambda', 1e-3, 10.0),\n",
      "C:\\Users\\jonat\\AppData\\Local\\Temp/ipykernel_2536/1595261226.py:10: FutureWarning: suggest_loguniform has been deprecated in v3.0.0. This feature will be removed in v6.0.0. See https://github.com/optuna/optuna/releases/tag/v3.0.0. Use :func:`~optuna.trial.Trial.suggest_float` instead.\n",
      "  'alpha': trial.suggest_loguniform('alpha', 1e-3, 10.0),\n",
      "\u001b[32m[I 2022-10-05 11:33:32,237]\u001b[0m Trial 25 finished with value: 0.4905667133615572 and parameters: {'lambda': 1.00435400370658, 'alpha': 0.05471650361701965, 'colsample_bytree': 0.9, 'n_estimators': 7685}. Best is trial 14 with value: 0.4938000177456247.\u001b[0m\n",
      "C:\\Users\\jonat\\AppData\\Local\\Temp/ipykernel_2536/1595261226.py:9: FutureWarning: suggest_loguniform has been deprecated in v3.0.0. This feature will be removed in v6.0.0. See https://github.com/optuna/optuna/releases/tag/v3.0.0. Use :func:`~optuna.trial.Trial.suggest_float` instead.\n",
      "  'lambda': trial.suggest_loguniform('lambda', 1e-3, 10.0),\n",
      "C:\\Users\\jonat\\AppData\\Local\\Temp/ipykernel_2536/1595261226.py:10: FutureWarning: suggest_loguniform has been deprecated in v3.0.0. This feature will be removed in v6.0.0. See https://github.com/optuna/optuna/releases/tag/v3.0.0. Use :func:`~optuna.trial.Trial.suggest_float` instead.\n",
      "  'alpha': trial.suggest_loguniform('alpha', 1e-3, 10.0),\n"
     ]
    },
    {
     "name": "stderr",
     "output_type": "stream",
     "text": [
      "\u001b[32m[I 2022-10-05 11:35:25,421]\u001b[0m Trial 26 finished with value: 0.474756775731316 and parameters: {'lambda': 0.006480101244440031, 'alpha': 0.013501389449154659, 'colsample_bytree': 1.0, 'n_estimators': 7956}. Best is trial 14 with value: 0.4938000177456247.\u001b[0m\n",
      "C:\\Users\\jonat\\AppData\\Local\\Temp/ipykernel_2536/1595261226.py:9: FutureWarning: suggest_loguniform has been deprecated in v3.0.0. This feature will be removed in v6.0.0. See https://github.com/optuna/optuna/releases/tag/v3.0.0. Use :func:`~optuna.trial.Trial.suggest_float` instead.\n",
      "  'lambda': trial.suggest_loguniform('lambda', 1e-3, 10.0),\n",
      "C:\\Users\\jonat\\AppData\\Local\\Temp/ipykernel_2536/1595261226.py:10: FutureWarning: suggest_loguniform has been deprecated in v3.0.0. This feature will be removed in v6.0.0. See https://github.com/optuna/optuna/releases/tag/v3.0.0. Use :func:`~optuna.trial.Trial.suggest_float` instead.\n",
      "  'alpha': trial.suggest_loguniform('alpha', 1e-3, 10.0),\n",
      "\u001b[32m[I 2022-10-05 11:36:58,325]\u001b[0m Trial 27 finished with value: 0.49327501932673307 and parameters: {'lambda': 1.5324044685746248, 'alpha': 0.04679781890238459, 'colsample_bytree': 1.0, 'n_estimators': 7897}. Best is trial 14 with value: 0.4938000177456247.\u001b[0m\n",
      "C:\\Users\\jonat\\AppData\\Local\\Temp/ipykernel_2536/1595261226.py:9: FutureWarning: suggest_loguniform has been deprecated in v3.0.0. This feature will be removed in v6.0.0. See https://github.com/optuna/optuna/releases/tag/v3.0.0. Use :func:`~optuna.trial.Trial.suggest_float` instead.\n",
      "  'lambda': trial.suggest_loguniform('lambda', 1e-3, 10.0),\n",
      "C:\\Users\\jonat\\AppData\\Local\\Temp/ipykernel_2536/1595261226.py:10: FutureWarning: suggest_loguniform has been deprecated in v3.0.0. This feature will be removed in v6.0.0. See https://github.com/optuna/optuna/releases/tag/v3.0.0. Use :func:`~optuna.trial.Trial.suggest_float` instead.\n",
      "  'alpha': trial.suggest_loguniform('alpha', 1e-3, 10.0),\n",
      "\u001b[32m[I 2022-10-05 11:38:20,820]\u001b[0m Trial 28 finished with value: 0.48719286332002 and parameters: {'lambda': 3.7061141764405163, 'alpha': 0.21828991272450843, 'colsample_bytree': 1.0, 'n_estimators': 8680}. Best is trial 14 with value: 0.4938000177456247.\u001b[0m\n",
      "C:\\Users\\jonat\\AppData\\Local\\Temp/ipykernel_2536/1595261226.py:9: FutureWarning: suggest_loguniform has been deprecated in v3.0.0. This feature will be removed in v6.0.0. See https://github.com/optuna/optuna/releases/tag/v3.0.0. Use :func:`~optuna.trial.Trial.suggest_float` instead.\n",
      "  'lambda': trial.suggest_loguniform('lambda', 1e-3, 10.0),\n",
      "C:\\Users\\jonat\\AppData\\Local\\Temp/ipykernel_2536/1595261226.py:10: FutureWarning: suggest_loguniform has been deprecated in v3.0.0. This feature will be removed in v6.0.0. See https://github.com/optuna/optuna/releases/tag/v3.0.0. Use :func:`~optuna.trial.Trial.suggest_float` instead.\n",
      "  'alpha': trial.suggest_loguniform('alpha', 1e-3, 10.0),\n",
      "\u001b[32m[I 2022-10-05 11:40:58,138]\u001b[0m Trial 29 finished with value: 0.4758954305657344 and parameters: {'lambda': 2.1142427426576234, 'alpha': 0.016486933109993256, 'colsample_bytree': 0.5, 'n_estimators': 9925}. Best is trial 14 with value: 0.4938000177456247.\u001b[0m\n",
      "C:\\Users\\jonat\\AppData\\Local\\Temp/ipykernel_2536/1595261226.py:9: FutureWarning: suggest_loguniform has been deprecated in v3.0.0. This feature will be removed in v6.0.0. See https://github.com/optuna/optuna/releases/tag/v3.0.0. Use :func:`~optuna.trial.Trial.suggest_float` instead.\n",
      "  'lambda': trial.suggest_loguniform('lambda', 1e-3, 10.0),\n",
      "C:\\Users\\jonat\\AppData\\Local\\Temp/ipykernel_2536/1595261226.py:10: FutureWarning: suggest_loguniform has been deprecated in v3.0.0. This feature will be removed in v6.0.0. See https://github.com/optuna/optuna/releases/tag/v3.0.0. Use :func:`~optuna.trial.Trial.suggest_float` instead.\n",
      "  'alpha': trial.suggest_loguniform('alpha', 1e-3, 10.0),\n",
      "\u001b[32m[I 2022-10-05 11:43:19,603]\u001b[0m Trial 30 finished with value: 0.48258526626586135 and parameters: {'lambda': 0.49383061578954546, 'alpha': 0.0023834040540127365, 'colsample_bytree': 1.0, 'n_estimators': 7767}. Best is trial 14 with value: 0.4938000177456247.\u001b[0m\n",
      "C:\\Users\\jonat\\AppData\\Local\\Temp/ipykernel_2536/1595261226.py:9: FutureWarning: suggest_loguniform has been deprecated in v3.0.0. This feature will be removed in v6.0.0. See https://github.com/optuna/optuna/releases/tag/v3.0.0. Use :func:`~optuna.trial.Trial.suggest_float` instead.\n",
      "  'lambda': trial.suggest_loguniform('lambda', 1e-3, 10.0),\n",
      "C:\\Users\\jonat\\AppData\\Local\\Temp/ipykernel_2536/1595261226.py:10: FutureWarning: suggest_loguniform has been deprecated in v3.0.0. This feature will be removed in v6.0.0. See https://github.com/optuna/optuna/releases/tag/v3.0.0. Use :func:`~optuna.trial.Trial.suggest_float` instead.\n",
      "  'alpha': trial.suggest_loguniform('alpha', 1e-3, 10.0),\n",
      "\u001b[32m[I 2022-10-05 11:44:47,200]\u001b[0m Trial 31 finished with value: 0.4893982332689077 and parameters: {'lambda': 1.0846949251252647, 'alpha': 0.050649265960596074, 'colsample_bytree': 1.0, 'n_estimators': 7828}. Best is trial 14 with value: 0.4938000177456247.\u001b[0m\n",
      "C:\\Users\\jonat\\AppData\\Local\\Temp/ipykernel_2536/1595261226.py:9: FutureWarning: suggest_loguniform has been deprecated in v3.0.0. This feature will be removed in v6.0.0. See https://github.com/optuna/optuna/releases/tag/v3.0.0. Use :func:`~optuna.trial.Trial.suggest_float` instead.\n",
      "  'lambda': trial.suggest_loguniform('lambda', 1e-3, 10.0),\n",
      "C:\\Users\\jonat\\AppData\\Local\\Temp/ipykernel_2536/1595261226.py:10: FutureWarning: suggest_loguniform has been deprecated in v3.0.0. This feature will be removed in v6.0.0. See https://github.com/optuna/optuna/releases/tag/v3.0.0. Use :func:`~optuna.trial.Trial.suggest_float` instead.\n",
      "  'alpha': trial.suggest_loguniform('alpha', 1e-3, 10.0),\n",
      "\u001b[32m[I 2022-10-05 11:46:17,940]\u001b[0m Trial 32 finished with value: 0.48010020259010755 and parameters: {'lambda': 0.9400091233072805, 'alpha': 0.0635092535144037, 'colsample_bytree': 0.8, 'n_estimators': 8613}. Best is trial 14 with value: 0.4938000177456247.\u001b[0m\n",
      "C:\\Users\\jonat\\AppData\\Local\\Temp/ipykernel_2536/1595261226.py:9: FutureWarning: suggest_loguniform has been deprecated in v3.0.0. This feature will be removed in v6.0.0. See https://github.com/optuna/optuna/releases/tag/v3.0.0. Use :func:`~optuna.trial.Trial.suggest_float` instead.\n",
      "  'lambda': trial.suggest_loguniform('lambda', 1e-3, 10.0),\n",
      "C:\\Users\\jonat\\AppData\\Local\\Temp/ipykernel_2536/1595261226.py:10: FutureWarning: suggest_loguniform has been deprecated in v3.0.0. This feature will be removed in v6.0.0. See https://github.com/optuna/optuna/releases/tag/v3.0.0. Use :func:`~optuna.trial.Trial.suggest_float` instead.\n",
      "  'alpha': trial.suggest_loguniform('alpha', 1e-3, 10.0),\n",
      "\u001b[32m[I 2022-10-05 11:48:34,249]\u001b[0m Trial 33 finished with value: 0.492788363032343 and parameters: {'lambda': 5.23640198453639, 'alpha': 0.03541250300078903, 'colsample_bytree': 1.0, 'n_estimators': 7541}. Best is trial 14 with value: 0.4938000177456247.\u001b[0m\n",
      "C:\\Users\\jonat\\AppData\\Local\\Temp/ipykernel_2536/1595261226.py:9: FutureWarning: suggest_loguniform has been deprecated in v3.0.0. This feature will be removed in v6.0.0. See https://github.com/optuna/optuna/releases/tag/v3.0.0. Use :func:`~optuna.trial.Trial.suggest_float` instead.\n",
      "  'lambda': trial.suggest_loguniform('lambda', 1e-3, 10.0),\n",
      "C:\\Users\\jonat\\AppData\\Local\\Temp/ipykernel_2536/1595261226.py:10: FutureWarning: suggest_loguniform has been deprecated in v3.0.0. This feature will be removed in v6.0.0. See https://github.com/optuna/optuna/releases/tag/v3.0.0. Use :func:`~optuna.trial.Trial.suggest_float` instead.\n",
      "  'alpha': trial.suggest_loguniform('alpha', 1e-3, 10.0),\n",
      "\u001b[32m[I 2022-10-05 11:51:25,296]\u001b[0m Trial 34 finished with value: 0.486261869823653 and parameters: {'lambda': 5.203980589199054, 'alpha': 0.007138810718541743, 'colsample_bytree': 1.0, 'n_estimators': 7292}. Best is trial 14 with value: 0.4938000177456247.\u001b[0m\n",
      "C:\\Users\\jonat\\AppData\\Local\\Temp/ipykernel_2536/1595261226.py:9: FutureWarning: suggest_loguniform has been deprecated in v3.0.0. This feature will be removed in v6.0.0. See https://github.com/optuna/optuna/releases/tag/v3.0.0. Use :func:`~optuna.trial.Trial.suggest_float` instead.\n",
      "  'lambda': trial.suggest_loguniform('lambda', 1e-3, 10.0),\n",
      "C:\\Users\\jonat\\AppData\\Local\\Temp/ipykernel_2536/1595261226.py:10: FutureWarning: suggest_loguniform has been deprecated in v3.0.0. This feature will be removed in v6.0.0. See https://github.com/optuna/optuna/releases/tag/v3.0.0. Use :func:`~optuna.trial.Trial.suggest_float` instead.\n",
      "  'alpha': trial.suggest_loguniform('alpha', 1e-3, 10.0),\n"
     ]
    },
    {
     "name": "stderr",
     "output_type": "stream",
     "text": [
      "\u001b[32m[I 2022-10-05 11:53:42,709]\u001b[0m Trial 35 finished with value: 0.49140960939795236 and parameters: {'lambda': 2.5176553683553995, 'alpha': 0.02686477967411391, 'colsample_bytree': 1.0, 'n_estimators': 6790}. Best is trial 14 with value: 0.4938000177456247.\u001b[0m\n",
      "C:\\Users\\jonat\\AppData\\Local\\Temp/ipykernel_2536/1595261226.py:9: FutureWarning: suggest_loguniform has been deprecated in v3.0.0. This feature will be removed in v6.0.0. See https://github.com/optuna/optuna/releases/tag/v3.0.0. Use :func:`~optuna.trial.Trial.suggest_float` instead.\n",
      "  'lambda': trial.suggest_loguniform('lambda', 1e-3, 10.0),\n",
      "C:\\Users\\jonat\\AppData\\Local\\Temp/ipykernel_2536/1595261226.py:10: FutureWarning: suggest_loguniform has been deprecated in v3.0.0. This feature will be removed in v6.0.0. See https://github.com/optuna/optuna/releases/tag/v3.0.0. Use :func:`~optuna.trial.Trial.suggest_float` instead.\n",
      "  'alpha': trial.suggest_loguniform('alpha', 1e-3, 10.0),\n",
      "\u001b[32m[I 2022-10-05 11:56:22,811]\u001b[0m Trial 36 finished with value: 0.4867479886256104 and parameters: {'lambda': 2.6903372036932343, 'alpha': 0.008927009940623573, 'colsample_bytree': 1.0, 'n_estimators': 6824}. Best is trial 14 with value: 0.4938000177456247.\u001b[0m\n",
      "C:\\Users\\jonat\\AppData\\Local\\Temp/ipykernel_2536/1595261226.py:9: FutureWarning: suggest_loguniform has been deprecated in v3.0.0. This feature will be removed in v6.0.0. See https://github.com/optuna/optuna/releases/tag/v3.0.0. Use :func:`~optuna.trial.Trial.suggest_float` instead.\n",
      "  'lambda': trial.suggest_loguniform('lambda', 1e-3, 10.0),\n",
      "C:\\Users\\jonat\\AppData\\Local\\Temp/ipykernel_2536/1595261226.py:10: FutureWarning: suggest_loguniform has been deprecated in v3.0.0. This feature will be removed in v6.0.0. See https://github.com/optuna/optuna/releases/tag/v3.0.0. Use :func:`~optuna.trial.Trial.suggest_float` instead.\n",
      "  'alpha': trial.suggest_loguniform('alpha', 1e-3, 10.0),\n",
      "\u001b[32m[I 2022-10-05 11:59:52,825]\u001b[0m Trial 37 finished with value: 0.4807382760201483 and parameters: {'lambda': 8.570855564926477, 'alpha': 0.02312764556225985, 'colsample_bytree': 1.0, 'n_estimators': 8040}. Best is trial 14 with value: 0.4938000177456247.\u001b[0m\n",
      "C:\\Users\\jonat\\AppData\\Local\\Temp/ipykernel_2536/1595261226.py:9: FutureWarning: suggest_loguniform has been deprecated in v3.0.0. This feature will be removed in v6.0.0. See https://github.com/optuna/optuna/releases/tag/v3.0.0. Use :func:`~optuna.trial.Trial.suggest_float` instead.\n",
      "  'lambda': trial.suggest_loguniform('lambda', 1e-3, 10.0),\n",
      "C:\\Users\\jonat\\AppData\\Local\\Temp/ipykernel_2536/1595261226.py:10: FutureWarning: suggest_loguniform has been deprecated in v3.0.0. This feature will be removed in v6.0.0. See https://github.com/optuna/optuna/releases/tag/v3.0.0. Use :func:`~optuna.trial.Trial.suggest_float` instead.\n",
      "  'alpha': trial.suggest_loguniform('alpha', 1e-3, 10.0),\n",
      "\u001b[32m[I 2022-10-05 12:02:30,759]\u001b[0m Trial 38 finished with value: 0.47180432660923705 and parameters: {'lambda': 4.347701834427589, 'alpha': 0.0048709486170857835, 'colsample_bytree': 0.4, 'n_estimators': 6843}. Best is trial 14 with value: 0.4938000177456247.\u001b[0m\n",
      "C:\\Users\\jonat\\AppData\\Local\\Temp/ipykernel_2536/1595261226.py:9: FutureWarning: suggest_loguniform has been deprecated in v3.0.0. This feature will be removed in v6.0.0. See https://github.com/optuna/optuna/releases/tag/v3.0.0. Use :func:`~optuna.trial.Trial.suggest_float` instead.\n",
      "  'lambda': trial.suggest_loguniform('lambda', 1e-3, 10.0),\n",
      "C:\\Users\\jonat\\AppData\\Local\\Temp/ipykernel_2536/1595261226.py:10: FutureWarning: suggest_loguniform has been deprecated in v3.0.0. This feature will be removed in v6.0.0. See https://github.com/optuna/optuna/releases/tag/v3.0.0. Use :func:`~optuna.trial.Trial.suggest_float` instead.\n",
      "  'alpha': trial.suggest_loguniform('alpha', 1e-3, 10.0),\n",
      "\u001b[32m[I 2022-10-05 12:05:08,514]\u001b[0m Trial 39 finished with value: 0.4895704822214097 and parameters: {'lambda': 1.6489176558353278, 'alpha': 0.012812707192018758, 'colsample_bytree': 1.0, 'n_estimators': 7544}. Best is trial 14 with value: 0.4938000177456247.\u001b[0m\n",
      "C:\\Users\\jonat\\AppData\\Local\\Temp/ipykernel_2536/1595261226.py:9: FutureWarning: suggest_loguniform has been deprecated in v3.0.0. This feature will be removed in v6.0.0. See https://github.com/optuna/optuna/releases/tag/v3.0.0. Use :func:`~optuna.trial.Trial.suggest_float` instead.\n",
      "  'lambda': trial.suggest_loguniform('lambda', 1e-3, 10.0),\n",
      "C:\\Users\\jonat\\AppData\\Local\\Temp/ipykernel_2536/1595261226.py:10: FutureWarning: suggest_loguniform has been deprecated in v3.0.0. This feature will be removed in v6.0.0. See https://github.com/optuna/optuna/releases/tag/v3.0.0. Use :func:`~optuna.trial.Trial.suggest_float` instead.\n",
      "  'alpha': trial.suggest_loguniform('alpha', 1e-3, 10.0),\n",
      "\u001b[32m[I 2022-10-05 12:07:18,038]\u001b[0m Trial 40 finished with value: 0.479988820820544 and parameters: {'lambda': 0.3717772858288777, 'alpha': 0.020589817337323967, 'colsample_bytree': 0.3, 'n_estimators': 6395}. Best is trial 14 with value: 0.4938000177456247.\u001b[0m\n",
      "C:\\Users\\jonat\\AppData\\Local\\Temp/ipykernel_2536/1595261226.py:9: FutureWarning: suggest_loguniform has been deprecated in v3.0.0. This feature will be removed in v6.0.0. See https://github.com/optuna/optuna/releases/tag/v3.0.0. Use :func:`~optuna.trial.Trial.suggest_float` instead.\n",
      "  'lambda': trial.suggest_loguniform('lambda', 1e-3, 10.0),\n",
      "C:\\Users\\jonat\\AppData\\Local\\Temp/ipykernel_2536/1595261226.py:10: FutureWarning: suggest_loguniform has been deprecated in v3.0.0. This feature will be removed in v6.0.0. See https://github.com/optuna/optuna/releases/tag/v3.0.0. Use :func:`~optuna.trial.Trial.suggest_float` instead.\n",
      "  'alpha': trial.suggest_loguniform('alpha', 1e-3, 10.0),\n",
      "\u001b[32m[I 2022-10-05 12:09:57,614]\u001b[0m Trial 41 finished with value: 0.4881329306376247 and parameters: {'lambda': 5.099407765779233, 'alpha': 0.03435638267240904, 'colsample_bytree': 1.0, 'n_estimators': 7039}. Best is trial 14 with value: 0.4938000177456247.\u001b[0m\n",
      "C:\\Users\\jonat\\AppData\\Local\\Temp/ipykernel_2536/1595261226.py:9: FutureWarning: suggest_loguniform has been deprecated in v3.0.0. This feature will be removed in v6.0.0. See https://github.com/optuna/optuna/releases/tag/v3.0.0. Use :func:`~optuna.trial.Trial.suggest_float` instead.\n",
      "  'lambda': trial.suggest_loguniform('lambda', 1e-3, 10.0),\n",
      "C:\\Users\\jonat\\AppData\\Local\\Temp/ipykernel_2536/1595261226.py:10: FutureWarning: suggest_loguniform has been deprecated in v3.0.0. This feature will be removed in v6.0.0. See https://github.com/optuna/optuna/releases/tag/v3.0.0. Use :func:`~optuna.trial.Trial.suggest_float` instead.\n",
      "  'alpha': trial.suggest_loguniform('alpha', 1e-3, 10.0),\n",
      "\u001b[32m[I 2022-10-05 12:11:28,168]\u001b[0m Trial 42 finished with value: 0.4875189724430486 and parameters: {'lambda': 0.6398267994983833, 'alpha': 0.037673917348819363, 'colsample_bytree': 1.0, 'n_estimators': 5221}. Best is trial 14 with value: 0.4938000177456247.\u001b[0m\n",
      "C:\\Users\\jonat\\AppData\\Local\\Temp/ipykernel_2536/1595261226.py:9: FutureWarning: suggest_loguniform has been deprecated in v3.0.0. This feature will be removed in v6.0.0. See https://github.com/optuna/optuna/releases/tag/v3.0.0. Use :func:`~optuna.trial.Trial.suggest_float` instead.\n",
      "  'lambda': trial.suggest_loguniform('lambda', 1e-3, 10.0),\n",
      "C:\\Users\\jonat\\AppData\\Local\\Temp/ipykernel_2536/1595261226.py:10: FutureWarning: suggest_loguniform has been deprecated in v3.0.0. This feature will be removed in v6.0.0. See https://github.com/optuna/optuna/releases/tag/v3.0.0. Use :func:`~optuna.trial.Trial.suggest_float` instead.\n",
      "  'alpha': trial.suggest_loguniform('alpha', 1e-3, 10.0),\n",
      "\u001b[32m[I 2022-10-05 12:13:26,407]\u001b[0m Trial 43 finished with value: 0.492266444339662 and parameters: {'lambda': 1.522646145097264, 'alpha': 0.028274170330551296, 'colsample_bytree': 1.0, 'n_estimators': 5465}. Best is trial 14 with value: 0.4938000177456247.\u001b[0m\n",
      "C:\\Users\\jonat\\AppData\\Local\\Temp/ipykernel_2536/1595261226.py:9: FutureWarning: suggest_loguniform has been deprecated in v3.0.0. This feature will be removed in v6.0.0. See https://github.com/optuna/optuna/releases/tag/v3.0.0. Use :func:`~optuna.trial.Trial.suggest_float` instead.\n",
      "  'lambda': trial.suggest_loguniform('lambda', 1e-3, 10.0),\n",
      "C:\\Users\\jonat\\AppData\\Local\\Temp/ipykernel_2536/1595261226.py:10: FutureWarning: suggest_loguniform has been deprecated in v3.0.0. This feature will be removed in v6.0.0. See https://github.com/optuna/optuna/releases/tag/v3.0.0. Use :func:`~optuna.trial.Trial.suggest_float` instead.\n",
      "  'alpha': trial.suggest_loguniform('alpha', 1e-3, 10.0),\n"
     ]
    },
    {
     "name": "stderr",
     "output_type": "stream",
     "text": [
      "\u001b[32m[I 2022-10-05 12:14:58,828]\u001b[0m Trial 44 finished with value: 0.4831952350999321 and parameters: {'lambda': 2.6146910989296743, 'alpha': 0.09026382324328018, 'colsample_bytree': 0.7, 'n_estimators': 5450}. Best is trial 14 with value: 0.4938000177456247.\u001b[0m\n",
      "C:\\Users\\jonat\\AppData\\Local\\Temp/ipykernel_2536/1595261226.py:9: FutureWarning: suggest_loguniform has been deprecated in v3.0.0. This feature will be removed in v6.0.0. See https://github.com/optuna/optuna/releases/tag/v3.0.0. Use :func:`~optuna.trial.Trial.suggest_float` instead.\n",
      "  'lambda': trial.suggest_loguniform('lambda', 1e-3, 10.0),\n",
      "C:\\Users\\jonat\\AppData\\Local\\Temp/ipykernel_2536/1595261226.py:10: FutureWarning: suggest_loguniform has been deprecated in v3.0.0. This feature will be removed in v6.0.0. See https://github.com/optuna/optuna/releases/tag/v3.0.0. Use :func:`~optuna.trial.Trial.suggest_float` instead.\n",
      "  'alpha': trial.suggest_loguniform('alpha', 1e-3, 10.0),\n",
      "\u001b[32m[I 2022-10-05 12:17:55,133]\u001b[0m Trial 45 finished with value: 0.4854966019752972 and parameters: {'lambda': 1.4340761773888817, 'alpha': 0.009758848498393745, 'colsample_bytree': 1.0, 'n_estimators': 8908}. Best is trial 14 with value: 0.4938000177456247.\u001b[0m\n",
      "C:\\Users\\jonat\\AppData\\Local\\Temp/ipykernel_2536/1595261226.py:9: FutureWarning: suggest_loguniform has been deprecated in v3.0.0. This feature will be removed in v6.0.0. See https://github.com/optuna/optuna/releases/tag/v3.0.0. Use :func:`~optuna.trial.Trial.suggest_float` instead.\n",
      "  'lambda': trial.suggest_loguniform('lambda', 1e-3, 10.0),\n",
      "C:\\Users\\jonat\\AppData\\Local\\Temp/ipykernel_2536/1595261226.py:10: FutureWarning: suggest_loguniform has been deprecated in v3.0.0. This feature will be removed in v6.0.0. See https://github.com/optuna/optuna/releases/tag/v3.0.0. Use :func:`~optuna.trial.Trial.suggest_float` instead.\n",
      "  'alpha': trial.suggest_loguniform('alpha', 1e-3, 10.0),\n",
      "\u001b[32m[I 2022-10-05 12:20:41,273]\u001b[0m Trial 46 finished with value: 0.4775718055764657 and parameters: {'lambda': 9.324996191639102, 'alpha': 0.021704756983154487, 'colsample_bytree': 0.6, 'n_estimators': 7473}. Best is trial 14 with value: 0.4938000177456247.\u001b[0m\n",
      "C:\\Users\\jonat\\AppData\\Local\\Temp/ipykernel_2536/1595261226.py:9: FutureWarning: suggest_loguniform has been deprecated in v3.0.0. This feature will be removed in v6.0.0. See https://github.com/optuna/optuna/releases/tag/v3.0.0. Use :func:`~optuna.trial.Trial.suggest_float` instead.\n",
      "  'lambda': trial.suggest_loguniform('lambda', 1e-3, 10.0),\n",
      "C:\\Users\\jonat\\AppData\\Local\\Temp/ipykernel_2536/1595261226.py:10: FutureWarning: suggest_loguniform has been deprecated in v3.0.0. This feature will be removed in v6.0.0. See https://github.com/optuna/optuna/releases/tag/v3.0.0. Use :func:`~optuna.trial.Trial.suggest_float` instead.\n",
      "  'alpha': trial.suggest_loguniform('alpha', 1e-3, 10.0),\n",
      "\u001b[32m[I 2022-10-05 12:23:00,626]\u001b[0m Trial 47 finished with value: 0.46508234104362467 and parameters: {'lambda': 0.001139859767611167, 'alpha': 0.0046992228784541006, 'colsample_bytree': 0.5, 'n_estimators': 8049}. Best is trial 14 with value: 0.4938000177456247.\u001b[0m\n",
      "C:\\Users\\jonat\\AppData\\Local\\Temp/ipykernel_2536/1595261226.py:9: FutureWarning: suggest_loguniform has been deprecated in v3.0.0. This feature will be removed in v6.0.0. See https://github.com/optuna/optuna/releases/tag/v3.0.0. Use :func:`~optuna.trial.Trial.suggest_float` instead.\n",
      "  'lambda': trial.suggest_loguniform('lambda', 1e-3, 10.0),\n",
      "C:\\Users\\jonat\\AppData\\Local\\Temp/ipykernel_2536/1595261226.py:10: FutureWarning: suggest_loguniform has been deprecated in v3.0.0. This feature will be removed in v6.0.0. See https://github.com/optuna/optuna/releases/tag/v3.0.0. Use :func:`~optuna.trial.Trial.suggest_float` instead.\n",
      "  'alpha': trial.suggest_loguniform('alpha', 1e-3, 10.0),\n",
      "\u001b[32m[I 2022-10-05 12:24:11,989]\u001b[0m Trial 48 finished with value: 0.47507605602063174 and parameters: {'lambda': 3.1794336378246597, 'alpha': 0.25148320111952127, 'colsample_bytree': 1.0, 'n_estimators': 7213}. Best is trial 14 with value: 0.4938000177456247.\u001b[0m\n",
      "C:\\Users\\jonat\\AppData\\Local\\Temp/ipykernel_2536/1595261226.py:9: FutureWarning: suggest_loguniform has been deprecated in v3.0.0. This feature will be removed in v6.0.0. See https://github.com/optuna/optuna/releases/tag/v3.0.0. Use :func:`~optuna.trial.Trial.suggest_float` instead.\n",
      "  'lambda': trial.suggest_loguniform('lambda', 1e-3, 10.0),\n",
      "C:\\Users\\jonat\\AppData\\Local\\Temp/ipykernel_2536/1595261226.py:10: FutureWarning: suggest_loguniform has been deprecated in v3.0.0. This feature will be removed in v6.0.0. See https://github.com/optuna/optuna/releases/tag/v3.0.0. Use :func:`~optuna.trial.Trial.suggest_float` instead.\n",
      "  'alpha': trial.suggest_loguniform('alpha', 1e-3, 10.0),\n",
      "\u001b[32m[I 2022-10-05 12:26:10,511]\u001b[0m Trial 49 finished with value: 0.4757249225660503 and parameters: {'lambda': 5.847256491668102, 'alpha': 0.06985630012019083, 'colsample_bytree': 0.3, 'n_estimators': 5831}. Best is trial 14 with value: 0.4938000177456247.\u001b[0m\n"
     ]
    },
    {
     "name": "stdout",
     "output_type": "stream",
     "text": [
      "Number of finished trials: 50\n",
      "Best trial: {'lambda': 1.0817334952464273, 'alpha': 0.06348329291978623, 'colsample_bytree': 1.0, 'n_estimators': 5204}\n"
     ]
    }
   ],
   "source": [
    "#==========================OPTUNA===========================#\n",
    "def objective(trial,data=X,target=y):\n",
    "    \n",
    "     #max_depth, n_estiamtoders, max_feature\n",
    "    \n",
    "    # hyperparameter \n",
    "    param = {\n",
    "        'tree_method':'gpu_hist',  # this parameter means using the GPU when training our model to speedup the training process\n",
    "        'lambda': trial.suggest_loguniform('lambda', 1e-3, 10.0),\n",
    "        'alpha': trial.suggest_loguniform('alpha', 1e-3, 10.0),\n",
    "        'colsample_bytree': trial.suggest_categorical('colsample_bytree', [0.3,0.4,0.5,0.6,0.7,0.8,0.9, 1.0]),#max_feature\n",
    "        #'subsample': trial.suggest_categorical('subsample', [0.4,0.5,0.6,0.7,0.8,1.0]),\n",
    "        ##'learning_rate': trial.suggest_categorical('learning_rate', [0.008,0.01,0.012,0.014,0.016,0.018, 0.02]),\n",
    "        'n_estimators': trial.suggest_int(\"n_estimators\", 5000, 10000),\n",
    "        ##'max_depth': trial.suggest_categorical('max_depth', [5,7,9,11,13,15,17]),\n",
    "#         'random_state': trial.suggest_categorical('random_state', [2020]),\n",
    "        ##'min_child_weight': trial.suggest_int('min_child_weight', 1, 300),\n",
    "#        \"colsample_bytree\": trial.suggest_float(\"colsample_bytree\", 0.2, 1.0) #max_feature\n",
    "    }\n",
    "    \n",
    "    #==================kfold=====================#\n",
    "    skf = StratifiedKFold(n_splits=5)\n",
    "    model_XGB = XGBClassifier(**param)\n",
    "    accuracies = []\n",
    "\n",
    "    for idx in skf.split(X, y):\n",
    "        train_idx, test_idx = idx[0], idx[1]\n",
    "        xtrain = X[train_idx]\n",
    "        ytrain = y[train_idx]\n",
    "\n",
    "        xtest = X[test_idx]\n",
    "        ytest = y[test_idx]\n",
    "\n",
    "        model_XGB.fit(xtrain,ytrain)\n",
    "        preds = model_XGB.predict(xtest)\n",
    "        fold_acc = balanced_accuracy_score(ytest, preds)\n",
    "        accuracies.append(fold_acc)\n",
    "        \n",
    "    return scipy.stats.gmean(accuracies) #media geometrica spipy\n",
    "\n",
    "\n",
    "study = optuna.create_study(direction='maximize') #maxizer\n",
    "study.optimize(objective, n_trials=50) #100\n",
    "print('Number of finished trials:', len(study.trials))\n",
    "print('Best trial:', study.best_trial.params)"
   ]
  },
  {
   "cell_type": "code",
   "execution_count": 1,
   "id": "aa611588",
   "metadata": {},
   "outputs": [
    {
     "ename": "NameError",
     "evalue": "name 'optuna' is not defined",
     "output_type": "error",
     "traceback": [
      "\u001b[1;31m---------------------------------------------------------------------------\u001b[0m",
      "\u001b[1;31mNameError\u001b[0m                                 Traceback (most recent call last)",
      "\u001b[1;32m~\\AppData\\Local\\Temp/ipykernel_34220/3096958464.py\u001b[0m in \u001b[0;36m<module>\u001b[1;34m\u001b[0m\n\u001b[1;32m----> 1\u001b[1;33m \u001b[0moptuna\u001b[0m\u001b[1;33m.\u001b[0m\u001b[0mvisualization\u001b[0m\u001b[1;33m.\u001b[0m\u001b[0mplot_optimization_history\u001b[0m\u001b[1;33m(\u001b[0m\u001b[0mstudy\u001b[0m\u001b[1;33m)\u001b[0m\u001b[1;33m\u001b[0m\u001b[1;33m\u001b[0m\u001b[0m\n\u001b[0m",
      "\u001b[1;31mNameError\u001b[0m: name 'optuna' is not defined"
     ]
    }
   ],
   "source": [
    "optuna.visualization.plot_optimization_history(study)"
   ]
  },
  {
   "cell_type": "code",
   "execution_count": 14,
   "id": "92d9bfa8",
   "metadata": {},
   "outputs": [
    {
     "data": {
      "application/vnd.plotly.v1+json": {
       "config": {
        "plotlyServerURL": "https://plot.ly"
       },
       "data": [
        {
         "cliponaxis": false,
         "hovertemplate": [
          "n_estimators (IntDistribution): 0.021139261855845366<extra></extra>",
          "lambda (FloatDistribution): 0.08502347777218204<extra></extra>",
          "colsample_bytree (CategoricalDistribution): 0.16002977534321305<extra></extra>",
          "alpha (FloatDistribution): 0.7338074850287596<extra></extra>"
         ],
         "marker": {
          "color": "rgb(66,146,198)"
         },
         "orientation": "h",
         "text": [
          "0.02",
          "0.09",
          "0.16",
          "0.73"
         ],
         "textposition": "outside",
         "type": "bar",
         "x": [
          0.021139261855845366,
          0.08502347777218204,
          0.16002977534321305,
          0.7338074850287596
         ],
         "y": [
          "n_estimators",
          "lambda",
          "colsample_bytree",
          "alpha"
         ]
        }
       ],
       "layout": {
        "showlegend": false,
        "template": {
         "data": {
          "bar": [
           {
            "error_x": {
             "color": "#2a3f5f"
            },
            "error_y": {
             "color": "#2a3f5f"
            },
            "marker": {
             "line": {
              "color": "#E5ECF6",
              "width": 0.5
             },
             "pattern": {
              "fillmode": "overlay",
              "size": 10,
              "solidity": 0.2
             }
            },
            "type": "bar"
           }
          ],
          "barpolar": [
           {
            "marker": {
             "line": {
              "color": "#E5ECF6",
              "width": 0.5
             },
             "pattern": {
              "fillmode": "overlay",
              "size": 10,
              "solidity": 0.2
             }
            },
            "type": "barpolar"
           }
          ],
          "carpet": [
           {
            "aaxis": {
             "endlinecolor": "#2a3f5f",
             "gridcolor": "white",
             "linecolor": "white",
             "minorgridcolor": "white",
             "startlinecolor": "#2a3f5f"
            },
            "baxis": {
             "endlinecolor": "#2a3f5f",
             "gridcolor": "white",
             "linecolor": "white",
             "minorgridcolor": "white",
             "startlinecolor": "#2a3f5f"
            },
            "type": "carpet"
           }
          ],
          "choropleth": [
           {
            "colorbar": {
             "outlinewidth": 0,
             "ticks": ""
            },
            "type": "choropleth"
           }
          ],
          "contour": [
           {
            "colorbar": {
             "outlinewidth": 0,
             "ticks": ""
            },
            "colorscale": [
             [
              0,
              "#0d0887"
             ],
             [
              0.1111111111111111,
              "#46039f"
             ],
             [
              0.2222222222222222,
              "#7201a8"
             ],
             [
              0.3333333333333333,
              "#9c179e"
             ],
             [
              0.4444444444444444,
              "#bd3786"
             ],
             [
              0.5555555555555556,
              "#d8576b"
             ],
             [
              0.6666666666666666,
              "#ed7953"
             ],
             [
              0.7777777777777778,
              "#fb9f3a"
             ],
             [
              0.8888888888888888,
              "#fdca26"
             ],
             [
              1,
              "#f0f921"
             ]
            ],
            "type": "contour"
           }
          ],
          "contourcarpet": [
           {
            "colorbar": {
             "outlinewidth": 0,
             "ticks": ""
            },
            "type": "contourcarpet"
           }
          ],
          "heatmap": [
           {
            "colorbar": {
             "outlinewidth": 0,
             "ticks": ""
            },
            "colorscale": [
             [
              0,
              "#0d0887"
             ],
             [
              0.1111111111111111,
              "#46039f"
             ],
             [
              0.2222222222222222,
              "#7201a8"
             ],
             [
              0.3333333333333333,
              "#9c179e"
             ],
             [
              0.4444444444444444,
              "#bd3786"
             ],
             [
              0.5555555555555556,
              "#d8576b"
             ],
             [
              0.6666666666666666,
              "#ed7953"
             ],
             [
              0.7777777777777778,
              "#fb9f3a"
             ],
             [
              0.8888888888888888,
              "#fdca26"
             ],
             [
              1,
              "#f0f921"
             ]
            ],
            "type": "heatmap"
           }
          ],
          "heatmapgl": [
           {
            "colorbar": {
             "outlinewidth": 0,
             "ticks": ""
            },
            "colorscale": [
             [
              0,
              "#0d0887"
             ],
             [
              0.1111111111111111,
              "#46039f"
             ],
             [
              0.2222222222222222,
              "#7201a8"
             ],
             [
              0.3333333333333333,
              "#9c179e"
             ],
             [
              0.4444444444444444,
              "#bd3786"
             ],
             [
              0.5555555555555556,
              "#d8576b"
             ],
             [
              0.6666666666666666,
              "#ed7953"
             ],
             [
              0.7777777777777778,
              "#fb9f3a"
             ],
             [
              0.8888888888888888,
              "#fdca26"
             ],
             [
              1,
              "#f0f921"
             ]
            ],
            "type": "heatmapgl"
           }
          ],
          "histogram": [
           {
            "marker": {
             "pattern": {
              "fillmode": "overlay",
              "size": 10,
              "solidity": 0.2
             }
            },
            "type": "histogram"
           }
          ],
          "histogram2d": [
           {
            "colorbar": {
             "outlinewidth": 0,
             "ticks": ""
            },
            "colorscale": [
             [
              0,
              "#0d0887"
             ],
             [
              0.1111111111111111,
              "#46039f"
             ],
             [
              0.2222222222222222,
              "#7201a8"
             ],
             [
              0.3333333333333333,
              "#9c179e"
             ],
             [
              0.4444444444444444,
              "#bd3786"
             ],
             [
              0.5555555555555556,
              "#d8576b"
             ],
             [
              0.6666666666666666,
              "#ed7953"
             ],
             [
              0.7777777777777778,
              "#fb9f3a"
             ],
             [
              0.8888888888888888,
              "#fdca26"
             ],
             [
              1,
              "#f0f921"
             ]
            ],
            "type": "histogram2d"
           }
          ],
          "histogram2dcontour": [
           {
            "colorbar": {
             "outlinewidth": 0,
             "ticks": ""
            },
            "colorscale": [
             [
              0,
              "#0d0887"
             ],
             [
              0.1111111111111111,
              "#46039f"
             ],
             [
              0.2222222222222222,
              "#7201a8"
             ],
             [
              0.3333333333333333,
              "#9c179e"
             ],
             [
              0.4444444444444444,
              "#bd3786"
             ],
             [
              0.5555555555555556,
              "#d8576b"
             ],
             [
              0.6666666666666666,
              "#ed7953"
             ],
             [
              0.7777777777777778,
              "#fb9f3a"
             ],
             [
              0.8888888888888888,
              "#fdca26"
             ],
             [
              1,
              "#f0f921"
             ]
            ],
            "type": "histogram2dcontour"
           }
          ],
          "mesh3d": [
           {
            "colorbar": {
             "outlinewidth": 0,
             "ticks": ""
            },
            "type": "mesh3d"
           }
          ],
          "parcoords": [
           {
            "line": {
             "colorbar": {
              "outlinewidth": 0,
              "ticks": ""
             }
            },
            "type": "parcoords"
           }
          ],
          "pie": [
           {
            "automargin": true,
            "type": "pie"
           }
          ],
          "scatter": [
           {
            "fillpattern": {
             "fillmode": "overlay",
             "size": 10,
             "solidity": 0.2
            },
            "type": "scatter"
           }
          ],
          "scatter3d": [
           {
            "line": {
             "colorbar": {
              "outlinewidth": 0,
              "ticks": ""
             }
            },
            "marker": {
             "colorbar": {
              "outlinewidth": 0,
              "ticks": ""
             }
            },
            "type": "scatter3d"
           }
          ],
          "scattercarpet": [
           {
            "marker": {
             "colorbar": {
              "outlinewidth": 0,
              "ticks": ""
             }
            },
            "type": "scattercarpet"
           }
          ],
          "scattergeo": [
           {
            "marker": {
             "colorbar": {
              "outlinewidth": 0,
              "ticks": ""
             }
            },
            "type": "scattergeo"
           }
          ],
          "scattergl": [
           {
            "marker": {
             "colorbar": {
              "outlinewidth": 0,
              "ticks": ""
             }
            },
            "type": "scattergl"
           }
          ],
          "scattermapbox": [
           {
            "marker": {
             "colorbar": {
              "outlinewidth": 0,
              "ticks": ""
             }
            },
            "type": "scattermapbox"
           }
          ],
          "scatterpolar": [
           {
            "marker": {
             "colorbar": {
              "outlinewidth": 0,
              "ticks": ""
             }
            },
            "type": "scatterpolar"
           }
          ],
          "scatterpolargl": [
           {
            "marker": {
             "colorbar": {
              "outlinewidth": 0,
              "ticks": ""
             }
            },
            "type": "scatterpolargl"
           }
          ],
          "scatterternary": [
           {
            "marker": {
             "colorbar": {
              "outlinewidth": 0,
              "ticks": ""
             }
            },
            "type": "scatterternary"
           }
          ],
          "surface": [
           {
            "colorbar": {
             "outlinewidth": 0,
             "ticks": ""
            },
            "colorscale": [
             [
              0,
              "#0d0887"
             ],
             [
              0.1111111111111111,
              "#46039f"
             ],
             [
              0.2222222222222222,
              "#7201a8"
             ],
             [
              0.3333333333333333,
              "#9c179e"
             ],
             [
              0.4444444444444444,
              "#bd3786"
             ],
             [
              0.5555555555555556,
              "#d8576b"
             ],
             [
              0.6666666666666666,
              "#ed7953"
             ],
             [
              0.7777777777777778,
              "#fb9f3a"
             ],
             [
              0.8888888888888888,
              "#fdca26"
             ],
             [
              1,
              "#f0f921"
             ]
            ],
            "type": "surface"
           }
          ],
          "table": [
           {
            "cells": {
             "fill": {
              "color": "#EBF0F8"
             },
             "line": {
              "color": "white"
             }
            },
            "header": {
             "fill": {
              "color": "#C8D4E3"
             },
             "line": {
              "color": "white"
             }
            },
            "type": "table"
           }
          ]
         },
         "layout": {
          "annotationdefaults": {
           "arrowcolor": "#2a3f5f",
           "arrowhead": 0,
           "arrowwidth": 1
          },
          "autotypenumbers": "strict",
          "coloraxis": {
           "colorbar": {
            "outlinewidth": 0,
            "ticks": ""
           }
          },
          "colorscale": {
           "diverging": [
            [
             0,
             "#8e0152"
            ],
            [
             0.1,
             "#c51b7d"
            ],
            [
             0.2,
             "#de77ae"
            ],
            [
             0.3,
             "#f1b6da"
            ],
            [
             0.4,
             "#fde0ef"
            ],
            [
             0.5,
             "#f7f7f7"
            ],
            [
             0.6,
             "#e6f5d0"
            ],
            [
             0.7,
             "#b8e186"
            ],
            [
             0.8,
             "#7fbc41"
            ],
            [
             0.9,
             "#4d9221"
            ],
            [
             1,
             "#276419"
            ]
           ],
           "sequential": [
            [
             0,
             "#0d0887"
            ],
            [
             0.1111111111111111,
             "#46039f"
            ],
            [
             0.2222222222222222,
             "#7201a8"
            ],
            [
             0.3333333333333333,
             "#9c179e"
            ],
            [
             0.4444444444444444,
             "#bd3786"
            ],
            [
             0.5555555555555556,
             "#d8576b"
            ],
            [
             0.6666666666666666,
             "#ed7953"
            ],
            [
             0.7777777777777778,
             "#fb9f3a"
            ],
            [
             0.8888888888888888,
             "#fdca26"
            ],
            [
             1,
             "#f0f921"
            ]
           ],
           "sequentialminus": [
            [
             0,
             "#0d0887"
            ],
            [
             0.1111111111111111,
             "#46039f"
            ],
            [
             0.2222222222222222,
             "#7201a8"
            ],
            [
             0.3333333333333333,
             "#9c179e"
            ],
            [
             0.4444444444444444,
             "#bd3786"
            ],
            [
             0.5555555555555556,
             "#d8576b"
            ],
            [
             0.6666666666666666,
             "#ed7953"
            ],
            [
             0.7777777777777778,
             "#fb9f3a"
            ],
            [
             0.8888888888888888,
             "#fdca26"
            ],
            [
             1,
             "#f0f921"
            ]
           ]
          },
          "colorway": [
           "#636efa",
           "#EF553B",
           "#00cc96",
           "#ab63fa",
           "#FFA15A",
           "#19d3f3",
           "#FF6692",
           "#B6E880",
           "#FF97FF",
           "#FECB52"
          ],
          "font": {
           "color": "#2a3f5f"
          },
          "geo": {
           "bgcolor": "white",
           "lakecolor": "white",
           "landcolor": "#E5ECF6",
           "showlakes": true,
           "showland": true,
           "subunitcolor": "white"
          },
          "hoverlabel": {
           "align": "left"
          },
          "hovermode": "closest",
          "mapbox": {
           "style": "light"
          },
          "paper_bgcolor": "white",
          "plot_bgcolor": "#E5ECF6",
          "polar": {
           "angularaxis": {
            "gridcolor": "white",
            "linecolor": "white",
            "ticks": ""
           },
           "bgcolor": "#E5ECF6",
           "radialaxis": {
            "gridcolor": "white",
            "linecolor": "white",
            "ticks": ""
           }
          },
          "scene": {
           "xaxis": {
            "backgroundcolor": "#E5ECF6",
            "gridcolor": "white",
            "gridwidth": 2,
            "linecolor": "white",
            "showbackground": true,
            "ticks": "",
            "zerolinecolor": "white"
           },
           "yaxis": {
            "backgroundcolor": "#E5ECF6",
            "gridcolor": "white",
            "gridwidth": 2,
            "linecolor": "white",
            "showbackground": true,
            "ticks": "",
            "zerolinecolor": "white"
           },
           "zaxis": {
            "backgroundcolor": "#E5ECF6",
            "gridcolor": "white",
            "gridwidth": 2,
            "linecolor": "white",
            "showbackground": true,
            "ticks": "",
            "zerolinecolor": "white"
           }
          },
          "shapedefaults": {
           "line": {
            "color": "#2a3f5f"
           }
          },
          "ternary": {
           "aaxis": {
            "gridcolor": "white",
            "linecolor": "white",
            "ticks": ""
           },
           "baxis": {
            "gridcolor": "white",
            "linecolor": "white",
            "ticks": ""
           },
           "bgcolor": "#E5ECF6",
           "caxis": {
            "gridcolor": "white",
            "linecolor": "white",
            "ticks": ""
           }
          },
          "title": {
           "x": 0.05
          },
          "xaxis": {
           "automargin": true,
           "gridcolor": "white",
           "linecolor": "white",
           "ticks": "",
           "title": {
            "standoff": 15
           },
           "zerolinecolor": "white",
           "zerolinewidth": 2
          },
          "yaxis": {
           "automargin": true,
           "gridcolor": "white",
           "linecolor": "white",
           "ticks": "",
           "title": {
            "standoff": 15
           },
           "zerolinecolor": "white",
           "zerolinewidth": 2
          }
         }
        },
        "title": {
         "text": "Hyperparameter Importances"
        },
        "xaxis": {
         "title": {
          "text": "Importance for Objective Value"
         }
        },
        "yaxis": {
         "title": {
          "text": "Hyperparameter"
         }
        }
       }
      },
      "text/html": [
       "<div>                            <div id=\"b3cbae3e-d65c-49af-937f-32dc5fed3c14\" class=\"plotly-graph-div\" style=\"height:525px; width:100%;\"></div>            <script type=\"text/javascript\">                require([\"plotly\"], function(Plotly) {                    window.PLOTLYENV=window.PLOTLYENV || {};                                    if (document.getElementById(\"b3cbae3e-d65c-49af-937f-32dc5fed3c14\")) {                    Plotly.newPlot(                        \"b3cbae3e-d65c-49af-937f-32dc5fed3c14\",                        [{\"cliponaxis\":false,\"hovertemplate\":[\"n_estimators (IntDistribution): 0.021139261855845366<extra></extra>\",\"lambda (FloatDistribution): 0.08502347777218204<extra></extra>\",\"colsample_bytree (CategoricalDistribution): 0.16002977534321305<extra></extra>\",\"alpha (FloatDistribution): 0.7338074850287596<extra></extra>\"],\"marker\":{\"color\":\"rgb(66,146,198)\"},\"orientation\":\"h\",\"text\":[\"0.02\",\"0.09\",\"0.16\",\"0.73\"],\"textposition\":\"outside\",\"x\":[0.021139261855845366,0.08502347777218204,0.16002977534321305,0.7338074850287596],\"y\":[\"n_estimators\",\"lambda\",\"colsample_bytree\",\"alpha\"],\"type\":\"bar\"}],                        {\"showlegend\":false,\"title\":{\"text\":\"Hyperparameter Importances\"},\"xaxis\":{\"title\":{\"text\":\"Importance for Objective Value\"}},\"yaxis\":{\"title\":{\"text\":\"Hyperparameter\"}},\"template\":{\"data\":{\"histogram2dcontour\":[{\"type\":\"histogram2dcontour\",\"colorbar\":{\"outlinewidth\":0,\"ticks\":\"\"},\"colorscale\":[[0.0,\"#0d0887\"],[0.1111111111111111,\"#46039f\"],[0.2222222222222222,\"#7201a8\"],[0.3333333333333333,\"#9c179e\"],[0.4444444444444444,\"#bd3786\"],[0.5555555555555556,\"#d8576b\"],[0.6666666666666666,\"#ed7953\"],[0.7777777777777778,\"#fb9f3a\"],[0.8888888888888888,\"#fdca26\"],[1.0,\"#f0f921\"]]}],\"choropleth\":[{\"type\":\"choropleth\",\"colorbar\":{\"outlinewidth\":0,\"ticks\":\"\"}}],\"histogram2d\":[{\"type\":\"histogram2d\",\"colorbar\":{\"outlinewidth\":0,\"ticks\":\"\"},\"colorscale\":[[0.0,\"#0d0887\"],[0.1111111111111111,\"#46039f\"],[0.2222222222222222,\"#7201a8\"],[0.3333333333333333,\"#9c179e\"],[0.4444444444444444,\"#bd3786\"],[0.5555555555555556,\"#d8576b\"],[0.6666666666666666,\"#ed7953\"],[0.7777777777777778,\"#fb9f3a\"],[0.8888888888888888,\"#fdca26\"],[1.0,\"#f0f921\"]]}],\"heatmap\":[{\"type\":\"heatmap\",\"colorbar\":{\"outlinewidth\":0,\"ticks\":\"\"},\"colorscale\":[[0.0,\"#0d0887\"],[0.1111111111111111,\"#46039f\"],[0.2222222222222222,\"#7201a8\"],[0.3333333333333333,\"#9c179e\"],[0.4444444444444444,\"#bd3786\"],[0.5555555555555556,\"#d8576b\"],[0.6666666666666666,\"#ed7953\"],[0.7777777777777778,\"#fb9f3a\"],[0.8888888888888888,\"#fdca26\"],[1.0,\"#f0f921\"]]}],\"heatmapgl\":[{\"type\":\"heatmapgl\",\"colorbar\":{\"outlinewidth\":0,\"ticks\":\"\"},\"colorscale\":[[0.0,\"#0d0887\"],[0.1111111111111111,\"#46039f\"],[0.2222222222222222,\"#7201a8\"],[0.3333333333333333,\"#9c179e\"],[0.4444444444444444,\"#bd3786\"],[0.5555555555555556,\"#d8576b\"],[0.6666666666666666,\"#ed7953\"],[0.7777777777777778,\"#fb9f3a\"],[0.8888888888888888,\"#fdca26\"],[1.0,\"#f0f921\"]]}],\"contourcarpet\":[{\"type\":\"contourcarpet\",\"colorbar\":{\"outlinewidth\":0,\"ticks\":\"\"}}],\"contour\":[{\"type\":\"contour\",\"colorbar\":{\"outlinewidth\":0,\"ticks\":\"\"},\"colorscale\":[[0.0,\"#0d0887\"],[0.1111111111111111,\"#46039f\"],[0.2222222222222222,\"#7201a8\"],[0.3333333333333333,\"#9c179e\"],[0.4444444444444444,\"#bd3786\"],[0.5555555555555556,\"#d8576b\"],[0.6666666666666666,\"#ed7953\"],[0.7777777777777778,\"#fb9f3a\"],[0.8888888888888888,\"#fdca26\"],[1.0,\"#f0f921\"]]}],\"surface\":[{\"type\":\"surface\",\"colorbar\":{\"outlinewidth\":0,\"ticks\":\"\"},\"colorscale\":[[0.0,\"#0d0887\"],[0.1111111111111111,\"#46039f\"],[0.2222222222222222,\"#7201a8\"],[0.3333333333333333,\"#9c179e\"],[0.4444444444444444,\"#bd3786\"],[0.5555555555555556,\"#d8576b\"],[0.6666666666666666,\"#ed7953\"],[0.7777777777777778,\"#fb9f3a\"],[0.8888888888888888,\"#fdca26\"],[1.0,\"#f0f921\"]]}],\"mesh3d\":[{\"type\":\"mesh3d\",\"colorbar\":{\"outlinewidth\":0,\"ticks\":\"\"}}],\"scatter\":[{\"fillpattern\":{\"fillmode\":\"overlay\",\"size\":10,\"solidity\":0.2},\"type\":\"scatter\"}],\"parcoords\":[{\"type\":\"parcoords\",\"line\":{\"colorbar\":{\"outlinewidth\":0,\"ticks\":\"\"}}}],\"scatterpolargl\":[{\"type\":\"scatterpolargl\",\"marker\":{\"colorbar\":{\"outlinewidth\":0,\"ticks\":\"\"}}}],\"bar\":[{\"error_x\":{\"color\":\"#2a3f5f\"},\"error_y\":{\"color\":\"#2a3f5f\"},\"marker\":{\"line\":{\"color\":\"#E5ECF6\",\"width\":0.5},\"pattern\":{\"fillmode\":\"overlay\",\"size\":10,\"solidity\":0.2}},\"type\":\"bar\"}],\"scattergeo\":[{\"type\":\"scattergeo\",\"marker\":{\"colorbar\":{\"outlinewidth\":0,\"ticks\":\"\"}}}],\"scatterpolar\":[{\"type\":\"scatterpolar\",\"marker\":{\"colorbar\":{\"outlinewidth\":0,\"ticks\":\"\"}}}],\"histogram\":[{\"marker\":{\"pattern\":{\"fillmode\":\"overlay\",\"size\":10,\"solidity\":0.2}},\"type\":\"histogram\"}],\"scattergl\":[{\"type\":\"scattergl\",\"marker\":{\"colorbar\":{\"outlinewidth\":0,\"ticks\":\"\"}}}],\"scatter3d\":[{\"type\":\"scatter3d\",\"line\":{\"colorbar\":{\"outlinewidth\":0,\"ticks\":\"\"}},\"marker\":{\"colorbar\":{\"outlinewidth\":0,\"ticks\":\"\"}}}],\"scattermapbox\":[{\"type\":\"scattermapbox\",\"marker\":{\"colorbar\":{\"outlinewidth\":0,\"ticks\":\"\"}}}],\"scatterternary\":[{\"type\":\"scatterternary\",\"marker\":{\"colorbar\":{\"outlinewidth\":0,\"ticks\":\"\"}}}],\"scattercarpet\":[{\"type\":\"scattercarpet\",\"marker\":{\"colorbar\":{\"outlinewidth\":0,\"ticks\":\"\"}}}],\"carpet\":[{\"aaxis\":{\"endlinecolor\":\"#2a3f5f\",\"gridcolor\":\"white\",\"linecolor\":\"white\",\"minorgridcolor\":\"white\",\"startlinecolor\":\"#2a3f5f\"},\"baxis\":{\"endlinecolor\":\"#2a3f5f\",\"gridcolor\":\"white\",\"linecolor\":\"white\",\"minorgridcolor\":\"white\",\"startlinecolor\":\"#2a3f5f\"},\"type\":\"carpet\"}],\"table\":[{\"cells\":{\"fill\":{\"color\":\"#EBF0F8\"},\"line\":{\"color\":\"white\"}},\"header\":{\"fill\":{\"color\":\"#C8D4E3\"},\"line\":{\"color\":\"white\"}},\"type\":\"table\"}],\"barpolar\":[{\"marker\":{\"line\":{\"color\":\"#E5ECF6\",\"width\":0.5},\"pattern\":{\"fillmode\":\"overlay\",\"size\":10,\"solidity\":0.2}},\"type\":\"barpolar\"}],\"pie\":[{\"automargin\":true,\"type\":\"pie\"}]},\"layout\":{\"autotypenumbers\":\"strict\",\"colorway\":[\"#636efa\",\"#EF553B\",\"#00cc96\",\"#ab63fa\",\"#FFA15A\",\"#19d3f3\",\"#FF6692\",\"#B6E880\",\"#FF97FF\",\"#FECB52\"],\"font\":{\"color\":\"#2a3f5f\"},\"hovermode\":\"closest\",\"hoverlabel\":{\"align\":\"left\"},\"paper_bgcolor\":\"white\",\"plot_bgcolor\":\"#E5ECF6\",\"polar\":{\"bgcolor\":\"#E5ECF6\",\"angularaxis\":{\"gridcolor\":\"white\",\"linecolor\":\"white\",\"ticks\":\"\"},\"radialaxis\":{\"gridcolor\":\"white\",\"linecolor\":\"white\",\"ticks\":\"\"}},\"ternary\":{\"bgcolor\":\"#E5ECF6\",\"aaxis\":{\"gridcolor\":\"white\",\"linecolor\":\"white\",\"ticks\":\"\"},\"baxis\":{\"gridcolor\":\"white\",\"linecolor\":\"white\",\"ticks\":\"\"},\"caxis\":{\"gridcolor\":\"white\",\"linecolor\":\"white\",\"ticks\":\"\"}},\"coloraxis\":{\"colorbar\":{\"outlinewidth\":0,\"ticks\":\"\"}},\"colorscale\":{\"sequential\":[[0.0,\"#0d0887\"],[0.1111111111111111,\"#46039f\"],[0.2222222222222222,\"#7201a8\"],[0.3333333333333333,\"#9c179e\"],[0.4444444444444444,\"#bd3786\"],[0.5555555555555556,\"#d8576b\"],[0.6666666666666666,\"#ed7953\"],[0.7777777777777778,\"#fb9f3a\"],[0.8888888888888888,\"#fdca26\"],[1.0,\"#f0f921\"]],\"sequentialminus\":[[0.0,\"#0d0887\"],[0.1111111111111111,\"#46039f\"],[0.2222222222222222,\"#7201a8\"],[0.3333333333333333,\"#9c179e\"],[0.4444444444444444,\"#bd3786\"],[0.5555555555555556,\"#d8576b\"],[0.6666666666666666,\"#ed7953\"],[0.7777777777777778,\"#fb9f3a\"],[0.8888888888888888,\"#fdca26\"],[1.0,\"#f0f921\"]],\"diverging\":[[0,\"#8e0152\"],[0.1,\"#c51b7d\"],[0.2,\"#de77ae\"],[0.3,\"#f1b6da\"],[0.4,\"#fde0ef\"],[0.5,\"#f7f7f7\"],[0.6,\"#e6f5d0\"],[0.7,\"#b8e186\"],[0.8,\"#7fbc41\"],[0.9,\"#4d9221\"],[1,\"#276419\"]]},\"xaxis\":{\"gridcolor\":\"white\",\"linecolor\":\"white\",\"ticks\":\"\",\"title\":{\"standoff\":15},\"zerolinecolor\":\"white\",\"automargin\":true,\"zerolinewidth\":2},\"yaxis\":{\"gridcolor\":\"white\",\"linecolor\":\"white\",\"ticks\":\"\",\"title\":{\"standoff\":15},\"zerolinecolor\":\"white\",\"automargin\":true,\"zerolinewidth\":2},\"scene\":{\"xaxis\":{\"backgroundcolor\":\"#E5ECF6\",\"gridcolor\":\"white\",\"linecolor\":\"white\",\"showbackground\":true,\"ticks\":\"\",\"zerolinecolor\":\"white\",\"gridwidth\":2},\"yaxis\":{\"backgroundcolor\":\"#E5ECF6\",\"gridcolor\":\"white\",\"linecolor\":\"white\",\"showbackground\":true,\"ticks\":\"\",\"zerolinecolor\":\"white\",\"gridwidth\":2},\"zaxis\":{\"backgroundcolor\":\"#E5ECF6\",\"gridcolor\":\"white\",\"linecolor\":\"white\",\"showbackground\":true,\"ticks\":\"\",\"zerolinecolor\":\"white\",\"gridwidth\":2}},\"shapedefaults\":{\"line\":{\"color\":\"#2a3f5f\"}},\"annotationdefaults\":{\"arrowcolor\":\"#2a3f5f\",\"arrowhead\":0,\"arrowwidth\":1},\"geo\":{\"bgcolor\":\"white\",\"landcolor\":\"#E5ECF6\",\"subunitcolor\":\"white\",\"showland\":true,\"showlakes\":true,\"lakecolor\":\"white\"},\"title\":{\"x\":0.05},\"mapbox\":{\"style\":\"light\"}}}},                        {\"responsive\": true}                    ).then(function(){\n",
       "                            \n",
       "var gd = document.getElementById('b3cbae3e-d65c-49af-937f-32dc5fed3c14');\n",
       "var x = new MutationObserver(function (mutations, observer) {{\n",
       "        var display = window.getComputedStyle(gd).display;\n",
       "        if (!display || display === 'none') {{\n",
       "            console.log([gd, 'removed!']);\n",
       "            Plotly.purge(gd);\n",
       "            observer.disconnect();\n",
       "        }}\n",
       "}});\n",
       "\n",
       "// Listen for the removal of the full notebook cells\n",
       "var notebookContainer = gd.closest('#notebook-container');\n",
       "if (notebookContainer) {{\n",
       "    x.observe(notebookContainer, {childList: true});\n",
       "}}\n",
       "\n",
       "// Listen for the clearing of the current output cell\n",
       "var outputEl = gd.closest('.output');\n",
       "if (outputEl) {{\n",
       "    x.observe(outputEl, {childList: true});\n",
       "}}\n",
       "\n",
       "                        })                };                });            </script>        </div>"
      ]
     },
     "metadata": {},
     "output_type": "display_data"
    }
   ],
   "source": [
    "optuna.visualization.plot_param_importances(study)\n",
    "#comenzar con 3 values "
   ]
  },
  {
   "attachments": {
    "newplot%20%284%29.png": {
     "image/png": "[encoded data removed]"
    }
   },
   "cell_type": "markdown",
   "id": "fb07a36a",
   "metadata": {},
   "source": [
    "![newplot%20%284%29.png](attachment:newplot%20%284%29.png)"
   ]
  },
  {
   "cell_type": "markdown",
   "id": "6b5d35e7",
   "metadata": {},
   "source": [
    "# train model the BEST PARAMS"
   ]
  },
  {
   "cell_type": "markdown",
   "id": "3a87dcb6",
   "metadata": {},
   "source": [
    "#### Fisrt study with learning_rate, max_depth, min_child_weight / 50 trials in optuna"
   ]
  },
  {
   "cell_type": "code",
   "execution_count": 73,
   "id": "9d1462a6",
   "metadata": {},
   "outputs": [],
   "source": [
    "#{'learning_rate': 0.01, 'max_depth': 5, 'min_child_weight': 300} 50 trials"
   ]
  },
  {
   "cell_type": "markdown",
   "id": "1ed2b430",
   "metadata": {},
   "source": [
    "#### Second study with lambda, alpha, colsample_bytree, n_estimators / 50 trials in optuna"
   ]
  },
  {
   "cell_type": "code",
   "execution_count": null,
   "id": "d4d2ad9f",
   "metadata": {},
   "outputs": [],
   "source": [
    "# {'lambda': 1.0817334952464273, 'alpha': 0.06348329291978623, 'colsample_bytree': 1.0, 'n_estimators': 5204}"
   ]
  },
  {
   "cell_type": "code",
   "execution_count": 102,
   "id": "ce70199c",
   "metadata": {},
   "outputs": [
    {
     "data": {
      "text/plain": [
       "dict"
      ]
     },
     "execution_count": 102,
     "metadata": {},
     "output_type": "execute_result"
    }
   ],
   "source": [
    "best_param = {'learning_rate': 0.01, 'max_depth': 5, 'min_child_weight': 300,\\\n",
    "              'lambda': 1.0817334952464273, 'alpha': 0.06348329291978623,\\\n",
    "              'colsample_bytree': 1.0, 'n_estimators': 5204 }\n",
    "\n",
    "best_param[\"tree_method\"] = 'gpu_hist'\n",
    "type(best_param)"
   ]
  },
  {
   "cell_type": "code",
   "execution_count": 27,
   "id": "ce7b1684",
   "metadata": {},
   "outputs": [
    {
     "data": {
      "text/plain": [
       "[0.5948016415868673,\n",
       " 0.9387140902872777,\n",
       " 0.9641586867305061,\n",
       " 0.9683994528043776,\n",
       " 0.9607387140902872,\n",
       " 0.958139534883721,\n",
       " 0.9307789675613629,\n",
       " 0.7221603744411424,\n",
       " 0.8805426955599134,\n",
       " 0.6059124531929853]"
      ]
     },
     "execution_count": 27,
     "metadata": {},
     "output_type": "execute_result"
    }
   ],
   "source": [
    "#train and split\n",
    "skf = StratifiedKFold(n_splits=10)\n",
    "model_XGB = XGBClassifier(**best_param) #  best param!!!!!!!!!!!!\n",
    "accuracies_balance_acc = []\n",
    "\n",
    "for idx in skf.split(X, y):\n",
    "    train_idx, test_idx = idx[0], idx[1]\n",
    "    xtrain = X[train_idx]\n",
    "    ytrain = y[train_idx]\n",
    "\n",
    "    xtest = X[test_idx]\n",
    "    ytest = y[test_idx]\n",
    "\n",
    "    model_XGB.fit(xtrain,ytrain)\n",
    "    preds = model_XGB.predict(xtest)\n",
    "    fold_acc = balanced_accuracy_score(ytest, preds)\n",
    "    accuracies_balance_acc.append(fold_acc)\n",
    "\n",
    "accuracies_balance_acc"
   ]
  },
  {
   "cell_type": "code",
   "execution_count": 58,
   "id": "a102320d",
   "metadata": {},
   "outputs": [],
   "source": [
    "#===============One Hot Encoding=======================#\n",
    "df=pd.get_dummies(data=df, drop_first=True)\n",
    "\n",
    "\n",
    "# ============== STANDARD SCALER=======================#\n",
    "scaler = StandardScaler()\n",
    "df_scaler = scaler.fit_transform(df)\n",
    "df_scaler = pd.DataFrame(df_scaler, columns=df.columns)\n",
    "\n",
    "#===========change Target to 0 and 1===================#\n",
    "def change_target(x):\n",
    "    '''\n",
    "    Transforma la variable target en 0 y 1 luego del Scaler\n",
    "    '''\n",
    "    if x < 0:\n",
    "        return 0\n",
    "    else:\n",
    "        return 1\n",
    "    \n",
    "df_scaler['y_yes'] = df_scaler['y_yes'].apply(change_target)\n",
    "\n",
    "# =====split dependent and independent feature===========# \n",
    "X = df_scaler.loc[:,df.columns != 'y_yes'].values\n",
    "y = df_scaler.loc[:,'y_yes'].values"
   ]
  },
  {
   "cell_type": "code",
   "execution_count": 52,
   "id": "29ffd76a",
   "metadata": {},
   "outputs": [],
   "source": [
    "from sklearn.model_selection import train_test_split\n",
    "X_train, X_test, y_train, y_test = train_test_split(X, y, test_size=0.99,random_state = 12 )"
   ]
  },
  {
   "cell_type": "code",
   "execution_count": null,
   "id": "2db2651d",
   "metadata": {},
   "outputs": [],
   "source": []
  },
  {
   "cell_type": "code",
   "execution_count": 59,
   "id": "cac206ec",
   "metadata": {
    "scrolled": true
   },
   "outputs": [
    {
     "data": {
      "text/plain": [
       "array([0, 0, 0, ..., 1, 1, 1])"
      ]
     },
     "execution_count": 59,
     "metadata": {},
     "output_type": "execute_result"
    }
   ],
   "source": [
    "predict = model_XGB.predict(X)\n",
    "predict"
   ]
  },
  {
   "cell_type": "code",
   "execution_count": 63,
   "id": "9df84ed6",
   "metadata": {},
   "outputs": [
    {
     "data": {
      "text/plain": [
       "0    36548\n",
       "1     4640\n",
       "Name: y_yes, dtype: int64"
      ]
     },
     "execution_count": 63,
     "metadata": {},
     "output_type": "execute_result"
    }
   ],
   "source": [
    "df['y_yes'].value_counts()"
   ]
  },
  {
   "attachments": {
    "image.png": {
     "image/png": "[encoded data removed]"
    }
   },
   "cell_type": "markdown",
   "id": "0e0f95c7",
   "metadata": {},
   "source": [
    "![image.png](attachment:image.png)"
   ]
  },
  {
   "cell_type": "code",
   "execution_count": 64,
   "id": "a82a666e",
   "metadata": {},
   "outputs": [
    {
     "data": {
      "text/plain": [
       "77.30603448275862"
      ]
     },
     "execution_count": 64,
     "metadata": {},
     "output_type": "execute_result"
    }
   ],
   "source": [
    "100*3587/4640"
   ]
  },
  {
   "cell_type": "code",
   "execution_count": 60,
   "id": "ab96eeb6",
   "metadata": {},
   "outputs": [
    {
     "data": {
      "text/plain": [
       "<sklearn.metrics._plot.confusion_matrix.ConfusionMatrixDisplay at 0x1851d0b2250>"
      ]
     },
     "execution_count": 60,
     "metadata": {},
     "output_type": "execute_result"
    },
    {
     "data": {
      "image/png": "[encoded data removed]",
      "text/plain": [
       "<Figure size 432x288 with 2 Axes>"
      ]
     },
     "metadata": {
      "needs_background": "light"
     },
     "output_type": "display_data"
    }
   ],
   "source": [
    "from sklearn.metrics import confusion_matrix\n",
    "matrix_ = confusion_matrix(y,predict)\n",
    "\n",
    "from sklearn.metrics import confusion_matrix, ConfusionMatrixDisplay\n",
    "ConfusionMatrixDisplay = ConfusionMatrixDisplay(matrix_)\n",
    "ConfusionMatrixDisplay.plot()"
   ]
  },
  {
   "cell_type": "code",
   "execution_count": 28,
   "id": "e035af49",
   "metadata": {},
   "outputs": [
    {
     "name": "stdout",
     "output_type": "stream",
     "text": [
      "balance_accuracy_score XGBOOST/OPTUNA/StratifiedKFold: 0.8386452883986132\n"
     ]
    }
   ],
   "source": [
    "balance_accuracy_score = scipy.stats.gmean(accuracies_balance_acc)\n",
    "print('balance_accuracy_score XGBOOST/OPTUNA/StratifiedKFold:',balance_accuracy_score)"
   ]
  },
  {
   "cell_type": "code",
   "execution_count": null,
   "id": "a144e8de",
   "metadata": {},
   "outputs": [],
   "source": []
  }
 ],
 "metadata": {
  "kernelspec": {
   "display_name": "Python 3 (ipykernel)",
   "language": "python",
   "name": "python3"
  },
  "language_info": {
   "codemirror_mode": {
    "name": "ipython",
    "version": 3
   },
   "file_extension": ".py",
   "mimetype": "text/x-python",
   "name": "python",
   "nbconvert_exporter": "python",
   "pygments_lexer": "ipython3",
   "version": "3.9.7"
  }
 },
 "nbformat": 4,
 "nbformat_minor": 5
}
